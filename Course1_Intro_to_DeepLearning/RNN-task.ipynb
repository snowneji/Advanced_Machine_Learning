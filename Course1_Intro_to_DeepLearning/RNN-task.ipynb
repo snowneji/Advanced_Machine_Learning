{
 "cells": [
  {
   "cell_type": "markdown",
   "metadata": {},
   "source": [
    "### Generating names with recurrent neural networks\n",
    "\n",
    "This time you'll find yourself delving into the heart (and other intestines) of recurrent neural networks on a class of toy problems.\n",
    "\n",
    "Struggle to find a name for the variable? Let's see how you'll come up with a name for your son/daughter. Surely no human has expertize over what is a good child name, so let us train RNN instead;\n",
    "\n",
    "It's dangerous to go alone, take these:"
   ]
  },
  {
   "cell_type": "code",
   "execution_count": 1,
   "metadata": {
    "collapsed": true
   },
   "outputs": [],
   "source": [
    "import tensorflow as tf\n",
    "import numpy as np\n",
    "import matplotlib.pyplot as plt\n",
    "%matplotlib inline"
   ]
  },
  {
   "cell_type": "markdown",
   "metadata": {},
   "source": [
    "# Our data\n",
    "The dataset contains ~8k earthling names from different cultures, all in latin transcript.\n",
    "\n",
    "This notebook has been designed so as to allow you to quickly swap names for something similar: deep learning article titles, IKEA furniture, pokemon names, etc."
   ]
  },
  {
   "cell_type": "code",
   "execution_count": 2,
   "metadata": {
    "collapsed": true
   },
   "outputs": [],
   "source": [
    "import os\n",
    "start_token = \" \"\n",
    "\n",
    "with open(\"names\") as f:\n",
    "    names = f.read()[:-1].split('\\n')\n",
    "    names = [start_token+name for name in names]"
   ]
  },
  {
   "cell_type": "code",
   "execution_count": 7,
   "metadata": {},
   "outputs": [
    {
     "name": "stdout",
     "output_type": "stream",
     "text": [
      "[' Abagael', ' Abagail', ' Abbe', ' Abbey', ' Abbi', ' Abbie', ' Abby', ' Abigael', ' Abigail', ' Abigale', ' Abra', ' Acacia', ' Ada', ' Adah', ' Adaline', ' Adara', ' Addie', ' Addis', ' Adel', ' Adela', ' Adelaide', ' Adele', ' Adelice', ' Adelina', ' Adelind', ' Adeline', ' Adella', ' Adelle', ' Adena', ' Adey', ' Adi', ' Adiana', ' Adina', ' Adora', ' Adore', ' Adoree', ' Adorne', ' Adrea', ' Adria', ' Adriaens', ' Adrian', ' Adriana', ' Adriane', ' Adrianna', ' Adrianne', ' Adrien', ' Adriena', ' Adrienne', ' Aeriel', ' Aeriela', ' Aeriell', ' Ag', ' Agace', ' Agata', ' Agatha', ' Agathe', ' Aggi', ' Aggie', ' Aggy', ' Agna', ' Agnella', ' Agnes', ' Agnese', ' Agnesse', ' Agneta', ' Agnola', ' Agretha', ' Aida', ' Aidan', ' Aigneis', ' Aila', ' Aile', ' Ailee', ' Aileen', ' Ailene', ' Ailey', ' Aili', ' Ailina', ' Ailyn', ' Aime', ' Aimee', ' Aimil', ' Aina', ' Aindrea', ' Ainslee', ' Ainsley', ' Ainslie', ' Ajay', ' Alaine', ' Alameda', ' Alana', ' Alanah', ' Alane', ' Alanna', ' Alayne', ' Alberta', ' Albertina', ' Albertine', ' Albina', ' Alecia']\n",
      "[' Wilton', ' Win', ' Windham', ' Winfield', ' Winford', ' Winfred', ' Winifield', ' Winn', ' Winnie', ' Winny', ' Winslow', ' Winston', ' Winthrop', ' Winton', ' Wit', ' Witold', ' Wittie', ' Witty', ' Wojciech', ' Wolf', ' Wolfgang', ' Wolfie', ' Wolfram', ' Wolfy', ' Woochang', ' Wood', ' Woodie', ' Woodman', ' Woodrow', ' Woody', ' Worden', ' Worth', ' Worthington', ' Worthy', ' Wright', ' Wyatan', ' Wyatt', ' Wye', ' Wylie', ' Wyn', ' Wyndham', ' Wynn', ' Wynton', ' Xavier', ' Xenos', ' Xerxes', ' Xever', ' Ximenes', ' Ximenez', ' Xymenes', ' Yaakov', ' Yacov', ' Yale', ' Yanaton', ' Yance', ' Yancey', ' Yancy', ' Yank', ' Yankee', ' Yard', ' Yardley', ' Yehudi', ' Yigal', ' Yule', ' Yuri', ' Yves', ' Zach', ' Zacharia', ' Zachariah', ' Zacharias', ' Zacharie', ' Zachary', ' Zacherie', ' Zachery', ' Zack', ' Zackariah', ' Zak', ' Zalman', ' Zane', ' Zared', ' Zary', ' Zeb', ' Zebadiah', ' Zebedee', ' Zebulen', ' Zebulon', ' Zechariah', ' Zed', ' Zedekiah', ' Zeke', ' Zelig', ' Zerk', ' Zeus', ' Zippy', ' Zollie', ' Zolly', ' Zorro', ' Rahul', ' Shumeet', ' Vibhu']\n"
     ]
    }
   ],
   "source": [
    "type(names)\n",
    "print(names[:100])\n",
    "print(names[-100:])"
   ]
  },
  {
   "cell_type": "code",
   "execution_count": 8,
   "metadata": {},
   "outputs": [
    {
     "name": "stdout",
     "output_type": "stream",
     "text": [
      "n samples =  7944\n",
      " Abagael\n",
      " Claresta\n",
      " Glory\n",
      " Liliane\n",
      " Prissie\n",
      " Geeta\n",
      " Giovanne\n",
      " Piggy\n"
     ]
    }
   ],
   "source": [
    "print ('n samples = ',len(names))\n",
    "for x in names[::1000]:\n",
    "    print (x)\n",
    "    \n"
   ]
  },
  {
   "cell_type": "code",
   "execution_count": 9,
   "metadata": {},
   "outputs": [
    {
     "name": "stdout",
     "output_type": "stream",
     "text": [
      "max length = 16\n"
     ]
    },
    {
     "data": {
      "image/png": "[encoded data removed]",
      "text/plain": [
       "<matplotlib.figure.Figure at 0x7fb354c8c438>"
      ]
     },
     "metadata": {},
     "output_type": "display_data"
    }
   ],
   "source": [
    "MAX_LENGTH = max(map(len,names))\n",
    "print(\"max length =\", MAX_LENGTH)\n",
    "\n",
    "plt.title('Sequence length distribution')\n",
    "plt.hist(list(map(len,names)),bins=25);"
   ]
  },
  {
   "cell_type": "markdown",
   "metadata": {},
   "source": [
    "# Text processing\n",
    "\n",
    "First we need next to collect a \"vocabulary\" of all unique tokens i.e. unique characters. We can then encode inputs as a sequence of character ids."
   ]
  },
  {
   "cell_type": "code",
   "execution_count": 21,
   "metadata": {},
   "outputs": [
    {
     "name": "stdout",
     "output_type": "stream",
     "text": [
      "n_tokens =  55\n"
     ]
    }
   ],
   "source": [
    "#all unique characters go here\n",
    "tokens = list(set([char for chars in [list(name) for name in names] for char in chars]))\n",
    "\n",
    "tokens = list(tokens)\n",
    "\n",
    "n_tokens = len(tokens)\n",
    "print ('n_tokens = ',n_tokens)\n",
    "\n",
    "assert 50 < n_tokens < 60\n"
   ]
  },
  {
   "cell_type": "markdown",
   "metadata": {},
   "source": [
    "### Cast everything from symbols into identifiers\n",
    "\n",
    "Tensorflow string manipulation is a bit tricky, so we'll work around it. \n",
    "We'll feed our recurrent neural network with ids of characters from our dictionary.\n",
    "\n",
    "To create such dictionary, let's assign "
   ]
  },
  {
   "cell_type": "code",
   "execution_count": 22,
   "metadata": {
    "collapsed": true
   },
   "outputs": [],
   "source": [
    "token_to_id = {}\n",
    "for i,token in enumerate(tokens):\n",
    "    token_to_id[token] = i\n",
    "    \n"
   ]
  },
  {
   "cell_type": "code",
   "execution_count": 23,
   "metadata": {},
   "outputs": [
    {
     "data": {
      "text/plain": [
       "{' ': 53,\n",
       " \"'\": 27,\n",
       " '-': 18,\n",
       " 'A': 4,\n",
       " 'B': 7,\n",
       " 'C': 25,\n",
       " 'D': 6,\n",
       " 'E': 17,\n",
       " 'F': 29,\n",
       " 'G': 33,\n",
       " 'H': 8,\n",
       " 'I': 43,\n",
       " 'J': 13,\n",
       " 'K': 15,\n",
       " 'L': 14,\n",
       " 'M': 44,\n",
       " 'N': 10,\n",
       " 'O': 9,\n",
       " 'P': 40,\n",
       " 'Q': 46,\n",
       " 'R': 34,\n",
       " 'S': 37,\n",
       " 'T': 16,\n",
       " 'U': 38,\n",
       " 'V': 32,\n",
       " 'W': 41,\n",
       " 'X': 45,\n",
       " 'Y': 48,\n",
       " 'Z': 35,\n",
       " 'a': 51,\n",
       " 'b': 42,\n",
       " 'c': 1,\n",
       " 'd': 39,\n",
       " 'e': 12,\n",
       " 'f': 11,\n",
       " 'g': 52,\n",
       " 'h': 0,\n",
       " 'i': 3,\n",
       " 'j': 23,\n",
       " 'k': 2,\n",
       " 'l': 19,\n",
       " 'm': 26,\n",
       " 'n': 28,\n",
       " 'o': 30,\n",
       " 'p': 36,\n",
       " 'q': 22,\n",
       " 'r': 54,\n",
       " 's': 5,\n",
       " 't': 50,\n",
       " 'u': 47,\n",
       " 'v': 31,\n",
       " 'w': 21,\n",
       " 'x': 24,\n",
       " 'y': 49,\n",
       " 'z': 20}"
      ]
     },
     "execution_count": 23,
     "metadata": {},
     "output_type": "execute_result"
    }
   ],
   "source": [
    "token_to_id"
   ]
  },
  {
   "cell_type": "code",
   "execution_count": 24,
   "metadata": {},
   "outputs": [
    {
     "name": "stdout",
     "output_type": "stream",
     "text": [
      "Seems alright!\n"
     ]
    }
   ],
   "source": [
    "assert len(tokens) == len(token_to_id), \"dictionaries must have same size\"\n",
    "\n",
    "for i in range(n_tokens):\n",
    "    assert token_to_id[tokens[i]] == i, \"token identifier must be it's position in tokens list\"\n",
    "\n",
    "print(\"Seems alright!\")"
   ]
  },
  {
   "cell_type": "code",
   "execution_count": 25,
   "metadata": {
    "collapsed": true
   },
   "outputs": [],
   "source": [
    "def to_matrix(names,max_len=None,pad=0,dtype='int32'):\n",
    "    \"\"\"Casts a list of names into rnn-digestable matrix\"\"\"\n",
    "    \n",
    "    max_len = max_len or max(map(len,names))\n",
    "    names_ix = np.zeros([len(names),max_len],dtype) + pad\n",
    "\n",
    "    for i in range(len(names)):\n",
    "        name_ix = list(map(token_to_id.get,names[i]))\n",
    "        names_ix[i,:len(name_ix)] = name_ix\n",
    "\n",
    "    return names_ix.T"
   ]
  },
  {
   "cell_type": "code",
   "execution_count": 26,
   "metadata": {},
   "outputs": [
    {
     "name": "stdout",
     "output_type": "stream",
     "text": [
      " Abagael\n",
      " Glory\n",
      " Prissie\n",
      " Giovanne\n",
      "[[53  4 42 51 52 51 12 19  0]\n",
      " [53 33 19 30 54 49  0  0  0]\n",
      " [53 40 54  3  5  5  3 12  0]\n",
      " [53 33  3 30 31 51 28 28 12]]\n"
     ]
    }
   ],
   "source": [
    "#Example: cast 4 random names to matrices, pad with zeros\n",
    "print('\\n'.join(names[::2000]))\n",
    "print(to_matrix(names[::2000]).T)"
   ]
  },
  {
   "cell_type": "code",
   "execution_count": 69,
   "metadata": {
    "collapsed": true
   },
   "outputs": [],
   "source": [
    "temp = to_matrix(names)\n"
   ]
  },
  {
   "cell_type": "code",
   "execution_count": 70,
   "metadata": {},
   "outputs": [
    {
     "data": {
      "text/plain": [
       "7944"
      ]
     },
     "execution_count": 70,
     "metadata": {},
     "output_type": "execute_result"
    }
   ],
   "source": [
    "len(names)"
   ]
  },
  {
   "cell_type": "code",
   "execution_count": 72,
   "metadata": {
    "scrolled": true
   },
   "outputs": [
    {
     "data": {
      "text/plain": [
       "(7944, 16)"
      ]
     },
     "execution_count": 72,
     "metadata": {},
     "output_type": "execute_result"
    }
   ],
   "source": [
    "temp.T.shape"
   ]
  },
  {
   "cell_type": "code",
   "execution_count": 73,
   "metadata": {},
   "outputs": [
    {
     "name": "stdout",
     "output_type": "stream",
     "text": [
      "[[53  4 42 51 52 51 12 19  0  0  0  0  0  0  0  0]\n",
      " [53  4 42 51 52 51  3 19  0  0  0  0  0  0  0  0]\n",
      " [53  4 42 42 12  0  0  0  0  0  0  0  0  0  0  0]\n",
      " [53  4 42 42 12 49  0  0  0  0  0  0  0  0  0  0]\n",
      " [53  4 42 42  3  0  0  0  0  0  0  0  0  0  0  0]\n",
      " [53  4 42 42  3 12  0  0  0  0  0  0  0  0  0  0]\n",
      " [53  4 42 42 49  0  0  0  0  0  0  0  0  0  0  0]\n",
      " [53  4 42  3 52 51 12 19  0  0  0  0  0  0  0  0]\n",
      " [53  4 42  3 52 51  3 19  0  0  0  0  0  0  0  0]\n",
      " [53  4 42  3 52 51 19 12  0  0  0  0  0  0  0  0]]\n"
     ]
    }
   ],
   "source": [
    "print(temp.T[:10])"
   ]
  },
  {
   "cell_type": "code",
   "execution_count": 74,
   "metadata": {
    "collapsed": true
   },
   "outputs": [],
   "source": [
    "del temp"
   ]
  },
  {
   "cell_type": "markdown",
   "metadata": {},
   "source": [
    "# Recurrent neural network\n",
    "\n",
    "We can rewrite recurrent neural network as a consecutive application of dense layer to input $x_t$ and previous rnn state $h_t$. This is exactly what we're gonna do now.\n",
    "<img src=\"./rnn.png\" width=480>\n",
    "\n",
    "Since we're training a language model, there should also be:\n",
    "* An embedding layer that converts character id x_t to a vector.\n",
    "* An output layer that predicts probabilities of next phoneme"
   ]
  },
  {
   "cell_type": "code",
   "execution_count": 52,
   "metadata": {},
   "outputs": [],
   "source": [
    "import keras\n",
    "from keras.layers import Concatenate,Dense,Embedding\n",
    "\n",
    "rnn_num_units = 64\n",
    "embedding_size = 16\n",
    "\n",
    "#Let's create layers for our recurrent network\n",
    "#Note: we create layers but we don't \"apply\" them yet\n",
    "embed_x = Embedding(n_tokens,embedding_size) # an embedding layer that converts character ids into embeddings\n",
    "\n",
    "\n",
    "#a dense layer that maps input and previous state to new hidden state, [x_t,h_t]->h_t+1\n",
    "get_h_next = Dense(rnn_num_units,activation='relu')\n",
    "\n",
    "#a dense layer that maps current hidden state to probabilities of characters [h_t+1]->P(x_t+1|h_t+1)\n",
    "get_probas = Dense(n_tokens,activation='softmax')\n",
    "\n",
    "#Note: please either set the correct activation to Dense or write it manually in rnn_one_step"
   ]
  },
  {
   "cell_type": "code",
   "execution_count": 53,
   "metadata": {},
   "outputs": [],
   "source": [
    "def rnn_one_step(x_t, h_t):\n",
    "    \"\"\"\n",
    "    Recurrent neural network step that produces next state and output\n",
    "    given prev input and previous state.\n",
    "    We'll call this method repeatedly to produce the whole sequence.\n",
    "    \n",
    "    Follow inline isntructions to complete the function.\n",
    "    \"\"\"\n",
    "    #convert character id into embedding\n",
    "    x_t_emb = embed_x(tf.reshape(x_t,[-1,1]))[:,0]\n",
    "    \n",
    "    #concatenate x embedding and previous h state\n",
    "    x_and_h = Concatenate(axis=1)([x_t_emb,h_t])\n",
    "    \n",
    "    #compute next state given x_and_h\n",
    "    h_next = get_h_next(x_and_h)\n",
    "    \n",
    "    #get probabilities for language model P(x_next|h_next)\n",
    "    output_probas = get_probas(h_next)\n",
    "    \n",
    "    return output_probas,h_next"
   ]
  },
  {
   "cell_type": "markdown",
   "metadata": {},
   "source": [
    "### RNN loop\n",
    "\n",
    "Once rnn_one_step is ready, let's apply it in a loop over name characters to get predictions.\n",
    "\n",
    "Let's assume that all names are at most length-16 for now, so we can simply iterate over them in a for loop.\n"
   ]
  },
  {
   "cell_type": "code",
   "execution_count": 54,
   "metadata": {},
   "outputs": [],
   "source": [
    "input_sequence = tf.placeholder('int32',(MAX_LENGTH,None))\n",
    "batch_size = tf.shape(input_sequence)[1]\n",
    "\n",
    "predicted_probas = []\n",
    "h_prev = tf.zeros([batch_size,rnn_num_units]) #initial hidden state\n",
    "\n",
    "for t in range(MAX_LENGTH):\n",
    "    x_t = input_sequence[t]\n",
    "    probas_next,h_next = rnn_one_step(x_t,h_prev)\n",
    "    \n",
    "    h_prev = h_next\n",
    "    predicted_probas.append(probas_next) # ?,?,55\n",
    "    \n",
    "    \n",
    "predicted_probas = tf.stack(predicted_probas)"
   ]
  },
  {
   "cell_type": "code",
   "execution_count": 76,
   "metadata": {},
   "outputs": [
    {
     "data": {
      "text/plain": [
       "<tf.Tensor 'rnn/TensorArrayStack/TensorArrayGatherV3:0' shape=(?, ?, 55) dtype=float32>"
      ]
     },
     "execution_count": 76,
     "metadata": {},
     "output_type": "execute_result"
    }
   ],
   "source": [
    "predicted_probas"
   ]
  },
  {
   "cell_type": "markdown",
   "metadata": {},
   "source": [
    "## RNN: loss and gradients\n",
    "\n",
    "Let's gather a matrix of predictions for $P(x_{next}|h)$ and the corresponding correct answers.\n",
    "\n",
    "Our network can then be trained by minimizing crossentropy between predicted probabilities and those answers."
   ]
  },
  {
   "cell_type": "code",
   "execution_count": 55,
   "metadata": {
    "collapsed": true
   },
   "outputs": [],
   "source": [
    "predictions_matrix = tf.reshape(predicted_probas[:-1],[-1,len(tokens)])\n",
    "answers_matrix = tf.one_hot(tf.reshape(input_sequence[1:],[-1]), n_tokens)"
   ]
  },
  {
   "cell_type": "code",
   "execution_count": 77,
   "metadata": {},
   "outputs": [
    {
     "data": {
      "text/plain": [
       "TensorShape([Dimension(None), Dimension(55)])"
      ]
     },
     "execution_count": 77,
     "metadata": {},
     "output_type": "execute_result"
    }
   ],
   "source": [
    "predictions_matrix.shape"
   ]
  },
  {
   "cell_type": "code",
   "execution_count": 78,
   "metadata": {},
   "outputs": [
    {
     "data": {
      "text/plain": [
       "TensorShape([Dimension(None), Dimension(55)])"
      ]
     },
     "execution_count": 78,
     "metadata": {},
     "output_type": "execute_result"
    }
   ],
   "source": [
    "answers_matrix.shape"
   ]
  },
  {
   "cell_type": "code",
   "execution_count": 56,
   "metadata": {
    "collapsed": true
   },
   "outputs": [],
   "source": [
    "from keras.losses import categorical_crossentropy\n",
    "\n",
    "loss = categorical_crossentropy(answers_matrix,predictions_matrix)\n",
    "\n",
    "optimize = tf.train.AdamOptimizer().minimize(loss)\n"
   ]
  },
  {
   "cell_type": "markdown",
   "metadata": {},
   "source": [
    "### The training loop"
   ]
  },
  {
   "cell_type": "code",
   "execution_count": 57,
   "metadata": {
    "collapsed": true
   },
   "outputs": [],
   "source": [
    "from IPython.display import clear_output\n",
    "from random import sample\n",
    "s = keras.backend.get_session()\n",
    "s.run(tf.global_variables_initializer())\n",
    "history = []"
   ]
  },
  {
   "cell_type": "code",
   "execution_count": 58,
   "metadata": {},
   "outputs": [
    {
     "data": {
      "image/png": "[encoded data removed]",
      "text/plain": [
       "<matplotlib.figure.Figure at 0x7fb2f3c1bbe0>"
      ]
     },
     "metadata": {},
     "output_type": "display_data"
    }
   ],
   "source": [
    "\n",
    "for i in range(1000):\n",
    "    batch = to_matrix(sample(names,32),max_len=MAX_LENGTH)\n",
    "    loss_i,_ = s.run([loss,optimize],{input_sequence:batch})\n",
    "    \n",
    "    \n",
    "    history.append(loss_i)\n",
    "    if (i+1)%100==0:\n",
    "        clear_output(True)\n",
    "        plt.plot(history,label='loss')\n",
    "        plt.legend()\n",
    "        plt.show()\n",
    "\n",
    "assert np.mean(history[:10]) > np.mean(history[-10:]), \"RNN didn't converge.\""
   ]
  },
  {
   "cell_type": "markdown",
   "metadata": {},
   "source": [
    "### RNN: sampling\n",
    "Once we've trained our network a bit, let's get to actually generating stuff. All we need is the `rnn_one_step` function you have written above."
   ]
  },
  {
   "cell_type": "code",
   "execution_count": 60,
   "metadata": {},
   "outputs": [],
   "source": [
    "x_t = tf.placeholder('int32',(1,))\n",
    "h_t = tf.Variable(np.zeros([1,rnn_num_units],'float32'))\n",
    "\n",
    "next_probs,next_h = rnn_one_step(x_t,h_t)"
   ]
  },
  {
   "cell_type": "code",
   "execution_count": 61,
   "metadata": {
    "collapsed": true
   },
   "outputs": [],
   "source": [
    "def generate_sample(seed_phrase=' ',max_length=MAX_LENGTH):\n",
    "    '''\n",
    "    The function generates text given a phrase of length at least SEQ_LENGTH.\n",
    "        \n",
    "    parameters:\n",
    "        The phrase is set using the variable seed_phrase\n",
    "        The optional input \"N\" is used to set the number of characters of text to predict.     \n",
    "    '''\n",
    "    x_sequence = [token_to_id[token] for token in seed_phrase]\n",
    "    s.run(tf.assign(h_t,h_t.initial_value))\n",
    "    \n",
    "    #feed the seed phrase, if any\n",
    "    for ix in x_sequence[:-1]:\n",
    "         s.run(tf.assign(h_t,next_h),{x_t:[ix]})\n",
    "    \n",
    "    #start generating\n",
    "    for _ in range(max_length-len(seed_phrase)):\n",
    "        x_probs,_ = s.run([next_probs,tf.assign(h_t,next_h)],{x_t:[x_sequence[-1]]})\n",
    "        x_sequence.append(np.random.choice(n_tokens,p=x_probs[0]))\n",
    "        \n",
    "    return ''.join([tokens[ix] for ix in x_sequence])"
   ]
  },
  {
   "cell_type": "code",
   "execution_count": 62,
   "metadata": {},
   "outputs": [
    {
     "name": "stdout",
     "output_type": "stream",
     "text": [
      " Laneehhhhhhhhhh\n",
      " Kirthhhhhhhhhhh\n",
      " Bethhhhhhhhhhhh\n",
      " Gomerahhhhhhhhh\n",
      " Barelhhhhhhhhhh\n",
      " Mariyhhhhhhhhhh\n",
      " Gopmandhhhhhhhh\n",
      " Olelrhhhhhhhhhh\n",
      " Eliniahhhhhhhhh\n",
      " Farmilanehhhhhh\n"
     ]
    }
   ],
   "source": [
    "for _ in range(10):\n",
    "    print(generate_sample())"
   ]
  },
  {
   "cell_type": "code",
   "execution_count": 63,
   "metadata": {},
   "outputs": [
    {
     "name": "stdout",
     "output_type": "stream",
     "text": [
      " Trumphhhhhhhhhh\n",
      " Trumpehhhhhhhhh\n",
      " Trumpehhhhhhhhh\n",
      " Trumphhhhhhhhhh\n",
      " Trumpehhhhhhhhh\n",
      " Trumpehhhhhhhhh\n",
      " Trumphhhhhhhhhh\n",
      " Trumplidhhhhhhh\n",
      " Trumphhhhhhhhhh\n",
      " Trumpeyhhhhhhhh\n",
      " Trumphhhhhhhhhh\n",
      " Trumperhhhhhhhh\n",
      " Trumphhhhhhhhhh\n",
      " Trumphhhhhhhhhh\n",
      " Trumpehhhhhhhhh\n",
      " Trumpehhhhhhhhh\n",
      " Trumpahhhhhhhhh\n",
      " Trumphsahhhhhhh\n",
      " Trumpalhhhhhhhh\n",
      " Trumpihhhhhhhhh\n",
      " Trumpohhhhhhhhh\n",
      " Trumphhhhhhhhhh\n",
      " Trumphhhhhhhhhh\n",
      " Trumpaethhhhhhh\n",
      " Trumphhhhhhhhhh\n",
      " Trumpehhhhhhhhh\n",
      " Trumpihhhhhhhhh\n",
      " Trumpehhhhhhhhh\n",
      " Trumpeahhhhhhhh\n",
      " Trumpeehhhhhhhh\n",
      " Trumpahhhhhhhhh\n",
      " Trumpahhhhhhhhh\n",
      " Trumpeihhhhhhhh\n",
      " Trumphehhhhhhhh\n",
      " Trumpahhhhhhhhh\n",
      " Trumphhhhhhhhhh\n",
      " Trumphhhhhhhhhh\n",
      " Trumpelahhhhhhh\n",
      " Trumparhhhhhhhh\n",
      " Trumpilehhhhhhh\n",
      " Trumphhhhhhhhhh\n",
      " Trumphehhhhhhhh\n",
      " Trumpeahhhhhhhh\n",
      " Trumpyhhhhhhhhh\n",
      " Trumphahhhhhhhh\n",
      " Trumpelhhhhhhhh\n",
      " Trumpolhhhhhhhh\n",
      " Trumpehhhhhhhhh\n",
      " Trumpehhhhhhhhh\n",
      " Trumpiehhhhhhhh\n"
     ]
    }
   ],
   "source": [
    "for _ in range(50):\n",
    "    print(generate_sample(' Trump'))"
   ]
  },
  {
   "cell_type": "markdown",
   "metadata": {},
   "source": [
    "### Submit to coursera"
   ]
  },
  {
   "cell_type": "code",
   "execution_count": 64,
   "metadata": {},
   "outputs": [
    {
     "name": "stdout",
     "output_type": "stream",
     "text": [
      "Submitted to Coursera platform. See results on assignment page!\n"
     ]
    }
   ],
   "source": [
    "from submit import submit_char_rnn\n",
    "samples = [generate_sample(' Al') for i in range(25)]\n",
    "submission = (history,samples)\n",
    "submit_char_rnn(submission, 'snowneji@hotmail.com', 'XlZwWR7Um4UsNXkU')"
   ]
  },
  {
   "cell_type": "markdown",
   "metadata": {},
   "source": [
    "### Try it out!\n",
    "\n",
    "__Disclaimer:__ This assignment is entirely optional. You won't receive bonus points for it. However, it's a fun thing to do. Please share your results on course forums.\n",
    "\n",
    "You've just implemented a recurrent language model that can be tasked with generating any kind of sequence, so there's plenty of data you can try it on:\n",
    "\n",
    "* Novels/poems/songs of your favorite author\n",
    "* News titles/clickbait titles\n",
    "* Source code of Linux or Tensorflow\n",
    "* Molecules in [smiles](https://en.wikipedia.org/wiki/Simplified_molecular-input_line-entry_system) format\n",
    "* Melody in notes/chords format\n",
    "* Ikea catalog titles\n",
    "* Pokemon names\n",
    "* Cards from Magic, the Gathering / Hearthstone\n",
    "\n",
    "If you're willing to give it a try, here's what you wanna look at:\n",
    "* Current data format is a sequence of lines, so a novel can be formatted as a list of sentences. Alternatively, you can change data preprocessing altogether.\n",
    "* While some datasets are readily available, others can only be scraped from the web. Try `Selenium` or `Scrapy` for that.\n",
    "* Make sure MAX_LENGTH is adjusted for longer datasets. There's also a bonus section about dynamic RNNs at the bottom.\n",
    "* More complex tasks require larger RNN architecture, try more neurons or several layers. It would also require more training iterations.\n",
    "* Long-term dependencies in music, novels or molecules are better handled with LSTM or GRU\n",
    "\n",
    "__Good hunting!__"
   ]
  }
 ],
 "metadata": {
  "kernelspec": {
   "display_name": "Python 3",
   "language": "python",
   "name": "python3"
  },
  "language_info": {
   "codemirror_mode": {
    "name": "ipython",
    "version": 3
   },
   "file_extension": ".py",
   "mimetype": "text/x-python",
   "name": "python",
   "nbconvert_exporter": "python",
   "pygments_lexer": "ipython3",
   "version": "3.6.0"
  }
 },
 "nbformat": 4,
 "nbformat_minor": 1
}
