{
 "cells": [
  {
   "cell_type": "markdown",
   "metadata": {
    "slideshow": {
     "slide_type": "slide"
    }
   },
   "source": [
    "# Going deeper with Tensorflow\n",
    "\n",
    "In this video, we're going to study the tools you'll use to build deep learning models. Namely, [Tensorflow](https://www.tensorflow.org/).\n",
    "\n",
    "If you're running this notebook outside the course environment, you'll need to install tensorflow:\n",
    "* `pip install tensorflow` should install cpu-only TF on Linux & Mac OS\n",
    "* If you want GPU support from offset, see [TF install page](https://www.tensorflow.org/install/)"
   ]
  },
  {
   "cell_type": "code",
   "execution_count": 1,
   "metadata": {
    "collapsed": true
   },
   "outputs": [],
   "source": [
    "import sys\n",
    "sys.path.append(\"..\")\n",
    "import grading"
   ]
  },
  {
   "cell_type": "markdown",
   "metadata": {},
   "source": [
    "# Visualization"
   ]
  },
  {
   "cell_type": "markdown",
   "metadata": {},
   "source": [
    "Plase note that if you are running on the Coursera platform, you won't be able to access the tensorboard instance due to the network setup there. If you run the notebook locally, you should be able to access TensorBoard on http://127.0.0.1:7007/"
   ]
  },
  {
   "cell_type": "code",
   "execution_count": 2,
   "metadata": {},
   "outputs": [
    {
     "name": "stdout",
     "output_type": "stream",
     "text": [
      "/bin/sh: 1: killall: not found\r\n"
     ]
    }
   ],
   "source": [
    "! killall tensorboard\n",
    "import os\n",
    "os.system(\"tensorboard --logdir=/tmp/tboard --port=7007 &\");"
   ]
  },
  {
   "cell_type": "code",
   "execution_count": 3,
   "metadata": {
    "collapsed": true
   },
   "outputs": [],
   "source": [
    "import tensorflow as tf\n",
    "s = tf.InteractiveSession()"
   ]
  },
  {
   "cell_type": "markdown",
   "metadata": {},
   "source": [
    "# Warming up\n",
    "For starters, let's implement a python function that computes the sum of squares of numbers from 0 to N-1."
   ]
  },
  {
   "cell_type": "code",
   "execution_count": 4,
   "metadata": {
    "collapsed": true
   },
   "outputs": [],
   "source": [
    "import numpy as np\n",
    "def sum_sin(N):\n",
    "    return np.sum(np.arange(N)**2)"
   ]
  },
  {
   "cell_type": "code",
   "execution_count": 5,
   "metadata": {},
   "outputs": [
    {
     "name": "stdout",
     "output_type": "stream",
     "text": [
      "CPU times: user 224 ms, sys: 2.63 s, total: 2.85 s\n",
      "Wall time: 3.46 s\n"
     ]
    },
    {
     "data": {
      "text/plain": [
       "662921401752298880"
      ]
     },
     "execution_count": 5,
     "metadata": {},
     "output_type": "execute_result"
    }
   ],
   "source": [
    "%%time\n",
    "sum_sin(10**8)"
   ]
  },
  {
   "cell_type": "markdown",
   "metadata": {},
   "source": [
    "# Tensoflow teaser\n",
    "\n",
    "Doing the very same thing"
   ]
  },
  {
   "cell_type": "code",
   "execution_count": 6,
   "metadata": {
    "collapsed": true
   },
   "outputs": [],
   "source": [
    "# An integer parameter\n",
    "N = tf.placeholder('int64', name=\"input_to_your_function\")\n",
    "\n",
    "# A recipe on how to produce the same result\n",
    "result = tf.reduce_sum(tf.range(N)**2)"
   ]
  },
  {
   "cell_type": "code",
   "execution_count": 7,
   "metadata": {},
   "outputs": [
    {
     "data": {
      "text/plain": [
       "<tf.Tensor 'Sum:0' shape=() dtype=int64>"
      ]
     },
     "execution_count": 7,
     "metadata": {},
     "output_type": "execute_result"
    }
   ],
   "source": [
    "result"
   ]
  },
  {
   "cell_type": "code",
   "execution_count": 8,
   "metadata": {},
   "outputs": [
    {
     "name": "stdout",
     "output_type": "stream",
     "text": [
      "CPU times: user 544 ms, sys: 1.17 s, total: 1.71 s\n",
      "Wall time: 1.73 s\n"
     ]
    },
    {
     "data": {
      "text/plain": [
       "662921401752298880"
      ]
     },
     "execution_count": 8,
     "metadata": {},
     "output_type": "execute_result"
    }
   ],
   "source": [
    "%%time\n",
    "result.eval({N: 10**8})"
   ]
  },
  {
   "cell_type": "code",
   "execution_count": 9,
   "metadata": {
    "collapsed": true
   },
   "outputs": [],
   "source": [
    "writer = tf.summary.FileWriter(\"/tmp/tboard\", graph=s.graph)"
   ]
  },
  {
   "cell_type": "markdown",
   "metadata": {},
   "source": [
    "# How does it work?\n",
    "1. Define placeholders where you'll send inputs\n",
    "2. Make symbolic graph: a recipe for mathematical transformation of those placeholders\n",
    "3. Compute outputs of your graph with particular values for each placeholder\n",
    "  * `output.eval({placeholder:value})`\n",
    "  * `s.run(output, {placeholder:value})`\n",
    "\n",
    "So far there are two main entities: \"placeholder\" and \"transformation\"\n",
    "* Both can be numbers, vectors, matrices, tensors, etc.\n",
    "* Both can be int32/64, floats, booleans (uint8) of various size.\n",
    "\n",
    "* You can define new transformations as an arbitrary operation on placeholders and other transformations\n",
    " * `tf.reduce_sum(tf.arange(N)**2)` are 3 sequential transformations of placeholder `N`\n",
    " * There's a tensorflow symbolic version for every numpy function\n",
    "   * `a+b, a/b, a**b, ...` behave just like in numpy\n",
    "   * `np.mean` -> `tf.reduce_mean`\n",
    "   * `np.arange` -> `tf.range`\n",
    "   * `np.cumsum` -> `tf.cumsum`\n",
    "   * If if you can't find the op you need, see the [docs](https://www.tensorflow.org/api_docs/python).\n",
    "   \n",
    "`tf.contrib` has many high-level features, may be worth a look."
   ]
  },
  {
   "cell_type": "code",
   "execution_count": 10,
   "metadata": {
    "collapsed": true
   },
   "outputs": [],
   "source": [
    "with tf.name_scope(\"Placeholders_examples\"):\n",
    "    # Default placeholder that can be arbitrary float32\n",
    "    # scalar, vertor, matrix, etc.\n",
    "    arbitrary_input = tf.placeholder('float32')\n",
    "\n",
    "    # Input vector of arbitrary length\n",
    "    input_vector = tf.placeholder('float32', shape=(None,))\n",
    "\n",
    "    # Input vector that _must_ have 10 elements and integer type\n",
    "    fixed_vector = tf.placeholder('int32', shape=(10,))\n",
    "\n",
    "    # Matrix of arbitrary n_rows and 15 columns\n",
    "    # (e.g. a minibatch your data table)\n",
    "    input_matrix = tf.placeholder('float32', shape=(None, 15))\n",
    "    \n",
    "    # You can generally use None whenever you don't need a specific shape\n",
    "    input1 = tf.placeholder('float64', shape=(None, 100, None))\n",
    "    input2 = tf.placeholder('int32', shape=(None, None, 3, 224, 224))\n",
    "\n",
    "    # elementwise multiplication\n",
    "    double_the_vector = input_vector*2\n",
    "\n",
    "    # elementwise cosine\n",
    "    elementwise_cosine = tf.cos(input_vector)\n",
    "\n",
    "    # difference between squared vector and vector itself plus one\n",
    "    vector_squares = input_vector**2 - input_vector + 1"
   ]
  },
  {
   "cell_type": "code",
   "execution_count": 11,
   "metadata": {
    "collapsed": true
   },
   "outputs": [],
   "source": [
    "my_vector =  tf.placeholder('float32', shape=(None,), name=\"VECTOR_1\")\n",
    "my_vector2 = tf.placeholder('float32', shape=(None,))\n",
    "my_transformation = my_vector * my_vector2 / (tf.sin(my_vector) + 1)"
   ]
  },
  {
   "cell_type": "code",
   "execution_count": 12,
   "metadata": {},
   "outputs": [
    {
     "name": "stdout",
     "output_type": "stream",
     "text": [
      "Tensor(\"truediv:0\", shape=(?,), dtype=float32)\n"
     ]
    }
   ],
   "source": [
    "print(my_transformation)"
   ]
  },
  {
   "cell_type": "code",
   "execution_count": 13,
   "metadata": {},
   "outputs": [
    {
     "name": "stdout",
     "output_type": "stream",
     "text": [
      "[ 0.  1.  2.  3.  4.]\n"
     ]
    },
    {
     "data": {
      "text/plain": [
       "array([ 0.        ,  1.62913239,  2.09501147,  2.62899613,  0.        ], dtype=float32)"
      ]
     },
     "execution_count": 13,
     "metadata": {},
     "output_type": "execute_result"
    }
   ],
   "source": [
    "dummy = np.arange(5).astype('float32')\n",
    "print(dummy)\n",
    "my_transformation.eval({my_vector:dummy, my_vector2:dummy[::-1]})"
   ]
  },
  {
   "cell_type": "code",
   "execution_count": 14,
   "metadata": {
    "collapsed": true
   },
   "outputs": [],
   "source": [
    "writer.add_graph(my_transformation.graph)\n",
    "writer.flush()"
   ]
  },
  {
   "cell_type": "markdown",
   "metadata": {},
   "source": [
    "TensorBoard allows writing scalars, images, audio, histogram. You can read more on tensorboard usage [here](https://www.tensorflow.org/get_started/graph_viz)."
   ]
  },
  {
   "cell_type": "markdown",
   "metadata": {},
   "source": [
    "# Summary\n",
    "* Tensorflow is based on computation graphs\n",
    "* The graphs consist of placeholders and transformations"
   ]
  },
  {
   "cell_type": "markdown",
   "metadata": {},
   "source": [
    "# Mean squared error\n",
    "\n",
    "Your assignment is to implement mean squared error in tensorflow."
   ]
  },
  {
   "cell_type": "code",
   "execution_count": 15,
   "metadata": {
    "collapsed": true
   },
   "outputs": [],
   "source": [
    "with tf.name_scope(\"MSE\"):\n",
    "    y_true = tf.placeholder(\"float32\", shape=(None,), name=\"y_true\")\n",
    "    y_predicted = tf.placeholder(\"float32\", shape=(None,), name=\"y_predicted\")\n",
    "    # Your code goes here\n",
    "    # You want to use tf.reduce_mean\n",
    "    # mse = tf.<...>\n",
    "    mse = tf.reduce_mean(tf.square(y_predicted - y_true))\n",
    "def compute_mse(vector1, vector2):\n",
    "    return mse.eval({y_true: vector1, y_predicted: vector2})"
   ]
  },
  {
   "cell_type": "code",
   "execution_count": 16,
   "metadata": {
    "collapsed": true
   },
   "outputs": [],
   "source": [
    "writer.add_graph(mse.graph)\n",
    "writer.flush()"
   ]
  },
  {
   "cell_type": "markdown",
   "metadata": {},
   "source": [
    "Tests and result submission. Please use the credentials obtained from the Coursera assignment page."
   ]
  },
  {
   "cell_type": "code",
   "execution_count": 17,
   "metadata": {
    "collapsed": true
   },
   "outputs": [],
   "source": [
    "import submit"
   ]
  },
  {
   "cell_type": "code",
   "execution_count": 18,
   "metadata": {},
   "outputs": [
    {
     "name": "stdout",
     "output_type": "stream",
     "text": [
      "Submitted to Coursera platform. See results on assignment page!\n"
     ]
    }
   ],
   "source": [
    "submit.submit_mse(compute_mse, 'snowneji@hotmail.com', 'VsRZaPzHU4obXM5v')"
   ]
  },
  {
   "cell_type": "markdown",
   "metadata": {},
   "source": [
    "# Variables\n",
    "\n",
    "The inputs and transformations have no value outside function call. This isn't too comfortable if you want your model to have parameters (e.g. network weights) that are always present, but can change their value over time.\n",
    "\n",
    "Tensorflow solves this with `tf.Variable` objects.\n",
    "* You can assign variable a value at any time in your graph\n",
    "* Unlike placeholders, there's no need to explicitly pass values to variables when `s.run(...)`-ing\n",
    "* You can use variables the same way you use transformations \n",
    " "
   ]
  },
  {
   "cell_type": "code",
   "execution_count": 19,
   "metadata": {
    "collapsed": true
   },
   "outputs": [],
   "source": [
    "# Creating a shared variable\n",
    "shared_vector_1 = tf.Variable(initial_value=np.ones(5),\n",
    "                              name=\"example_variable\")"
   ]
  },
  {
   "cell_type": "code",
   "execution_count": 20,
   "metadata": {},
   "outputs": [
    {
     "name": "stdout",
     "output_type": "stream",
     "text": [
      "Initial value [ 1.  1.  1.  1.  1.]\n"
     ]
    }
   ],
   "source": [
    "# Initialize variable(s) with initial values\n",
    "s.run(tf.global_variables_initializer())\n",
    "\n",
    "# Evaluating shared variable (outside symbolicd graph)\n",
    "print(\"Initial value\", s.run(shared_vector_1))\n",
    "\n",
    "# Within symbolic graph you use them just\n",
    "# as any other inout or transformation, not \"get value\" needed"
   ]
  },
  {
   "cell_type": "code",
   "execution_count": 21,
   "metadata": {},
   "outputs": [
    {
     "name": "stdout",
     "output_type": "stream",
     "text": [
      "New value [ 0.  1.  2.  3.  4.]\n"
     ]
    }
   ],
   "source": [
    "# Setting a new value\n",
    "s.run(shared_vector_1.assign(np.arange(5)))\n",
    "\n",
    "# Getting that new value\n",
    "print(\"New value\", s.run(shared_vector_1))"
   ]
  },
  {
   "cell_type": "markdown",
   "metadata": {},
   "source": [
    "# tf.gradients - why graphs matter\n",
    "* Tensorflow can compute derivatives and gradients automatically using the computation graph\n",
    "* True to its name it can manage matrix derivatives\n",
    "* Gradients are computed as a product of elementary derivatives via the chain rule:\n",
    "\n",
    "$$ {\\partial f(g(x)) \\over \\partial x} = {\\partial f(g(x)) \\over \\partial g(x)}\\cdot {\\partial g(x) \\over \\partial x} $$\n",
    "\n",
    "It can get you the derivative of any graph as long as it knows how to differentiate elementary operations"
   ]
  },
  {
   "cell_type": "code",
   "execution_count": 22,
   "metadata": {
    "collapsed": true
   },
   "outputs": [],
   "source": [
    "my_scalar = tf.placeholder('float32')\n",
    "\n",
    "scalar_squared = my_scalar**2\n",
    "\n",
    "# A derivative of scalar_squared by my_scalar\n",
    "derivative = tf.gradients(scalar_squared, [my_scalar, ])"
   ]
  },
  {
   "cell_type": "code",
   "execution_count": 23,
   "metadata": {},
   "outputs": [
    {
     "data": {
      "text/plain": [
       "[<tf.Tensor 'gradients/pow_1_grad/Reshape:0' shape=<unknown> dtype=float32>]"
      ]
     },
     "execution_count": 23,
     "metadata": {},
     "output_type": "execute_result"
    }
   ],
   "source": [
    "derivative"
   ]
  },
  {
   "cell_type": "code",
   "execution_count": 24,
   "metadata": {},
   "outputs": [
    {
     "data": {
      "image/png": "[encoded data removed]",
      "text/plain": [
       "<matplotlib.figure.Figure at 0x7f6bf7da4160>"
      ]
     },
     "metadata": {},
     "output_type": "display_data"
    }
   ],
   "source": [
    "import matplotlib.pyplot as plt\n",
    "%matplotlib inline\n",
    "\n",
    "x = np.linspace(-3, 3)\n",
    "x_squared, x_squared_der = s.run([scalar_squared, derivative[0]],\n",
    "                                 {my_scalar:x})\n",
    "\n",
    "plt.plot(x, x_squared,label=\"$x^2$\")\n",
    "plt.plot(x, x_squared_der, label=r\"$\\frac{dx^2}{dx}$\")\n",
    "plt.legend();"
   ]
  },
  {
   "cell_type": "markdown",
   "metadata": {},
   "source": [
    "# Why that rocks"
   ]
  },
  {
   "cell_type": "code",
   "execution_count": 25,
   "metadata": {
    "collapsed": true
   },
   "outputs": [],
   "source": [
    "my_vector = tf.placeholder('float32', [None])\n",
    "# Compute the gradient of the next weird function over my_scalar and my_vector\n",
    "# Warning! Trying to understand the meaning of that function may result in permanent brain damage\n",
    "weird_psychotic_function = tf.reduce_mean(\n",
    "    (my_vector+my_scalar)**(1+tf.nn.moments(my_vector,[0])[1]) + \n",
    "    1./ tf.atan(my_scalar))/(my_scalar**2 + 1) + 0.01*tf.sin(\n",
    "    2*my_scalar**1.5)*(tf.reduce_sum(my_vector)* my_scalar**2\n",
    "                      )*tf.exp((my_scalar-4)**2)/(\n",
    "    1+tf.exp((my_scalar-4)**2))*(1.-(tf.exp(-(my_scalar-4)**2)\n",
    "                                    )/(1+tf.exp(-(my_scalar-4)**2)))**2\n",
    "\n",
    "der_by_scalar = tf.gradients(weird_psychotic_function, my_scalar)\n",
    "der_by_vector = tf.gradients(weird_psychotic_function, my_vector)"
   ]
  },
  {
   "cell_type": "code",
   "execution_count": 26,
   "metadata": {},
   "outputs": [
    {
     "data": {
      "image/png": "[encoded data removed]",
      "text/plain": [
       "<matplotlib.figure.Figure at 0x7f6bf51d9978>"
      ]
     },
     "metadata": {},
     "output_type": "display_data"
    }
   ],
   "source": [
    "# Plotting the derivative\n",
    "scalar_space = np.linspace(1, 7, 100)\n",
    "\n",
    "y = [s.run(weird_psychotic_function, {my_scalar:x, my_vector:[1, 2, 3]})\n",
    "     for x in scalar_space]\n",
    "\n",
    "plt.plot(scalar_space, y, label='function')\n",
    "\n",
    "y_der_by_scalar = [s.run(der_by_scalar,\n",
    "                         {my_scalar:x, my_vector:[1, 2, 3]})\n",
    "                   for x in scalar_space]\n",
    "\n",
    "plt.plot(scalar_space, y_der_by_scalar, label='derivative')\n",
    "plt.grid()\n",
    "plt.legend();"
   ]
  },
  {
   "cell_type": "markdown",
   "metadata": {},
   "source": [
    "# Almost done - optimizers\n",
    "\n",
    "While you can perform gradient descent by hand with automatic grads from above, tensorflow also has some optimization methods implemented for you. Recall momentum & rmsprop?"
   ]
  },
  {
   "cell_type": "code",
   "execution_count": 27,
   "metadata": {
    "collapsed": true
   },
   "outputs": [],
   "source": [
    "y_guess = tf.Variable(np.zeros(2, dtype='float32'))\n",
    "y_true = tf.range(1, 3, dtype='float32')\n",
    "loss = tf.reduce_mean((y_guess - y_true + tf.random_normal([2]))**2) \n",
    "#loss = tf.reduce_mean((y_guess - y_true)**2) \n",
    "optimizer = tf.train.MomentumOptimizer(0.01, 0.5).minimize(\n",
    "    loss, var_list=y_guess)"
   ]
  },
  {
   "cell_type": "code",
   "execution_count": 28,
   "metadata": {},
   "outputs": [
    {
     "data": {
      "image/png": "[encoded data removed]",
      "text/plain": [
       "<matplotlib.figure.Figure at 0x7f6bf4360438>"
      ]
     },
     "metadata": {},
     "output_type": "display_data"
    }
   ],
   "source": [
    "from matplotlib import animation, rc\n",
    "import matplotlib_utils\n",
    "from IPython.display import HTML, display_html\n",
    "\n",
    "fig, ax = plt.subplots()\n",
    "y_true_value = s.run(y_true)\n",
    "level_x = np.arange(0, 2, 0.02)\n",
    "level_y = np.arange(0, 3, 0.02)\n",
    "X, Y = np.meshgrid(level_x, level_y)\n",
    "Z = (X - y_true_value[0])**2 + (Y - y_true_value[1])**2\n",
    "ax.set_xlim(-0.02, 2)\n",
    "ax.set_ylim(-0.02, 3)\n",
    "s.run(tf.global_variables_initializer())\n",
    "ax.scatter(*s.run(y_true), c='red')\n",
    "contour = ax.contour(X, Y, Z, 10)\n",
    "ax.clabel(contour, inline=1, fontsize=10)\n",
    "line, = ax.plot([], [], lw=2)\n",
    "\n",
    "def init():\n",
    "    line.set_data([], [])\n",
    "    return (line,)\n",
    "\n",
    "guesses = [s.run(y_guess)]\n",
    "\n",
    "def animate(i):\n",
    "    s.run(optimizer)\n",
    "    guesses.append(s.run(y_guess))\n",
    "    line.set_data(*zip(*guesses))\n",
    "    return (line,)\n",
    "\n",
    "anim = animation.FuncAnimation(fig, animate, init_func=init,\n",
    "                               frames=400, interval=20, blit=True)"
   ]
  },
  {
   "cell_type": "code",
   "execution_count": 29,
   "metadata": {},
   "outputs": [
    {
     "data": {
      "text/html": [
       "<img src=\"data:image/jpeg;base64,/9j/4AAQSkZJRgABAQAAAQABAAD/2wBDAAIBAQEBAQIBAQECAgICAgQDAgICAgUEBAMEBgUGBgYFBgYGBwkIBgcJBwYGCAsICQoKCgoKBggLDAsKDAkKCgr/2wBDAQICAgICAgUDAwUKBwYHCgoKCgoKCgoKCgoKCgoKCgoKCgoKCgoKCgoKCgoKCgoKCgoKCgoKCgoKCgoKCgoKCgr/wAARCAEgAbADASIAAhEBAxEB/8QAHwAAAQUBAQEBAQEAAAAAAAAAAAECAwQFBgcICQoL/8QAtRAAAgEDAwIEAwUFBAQAAAF9AQIDAAQRBRIhMUEGE1FhByJxFDKBkaEII0KxwRVS0fAkM2JyggkKFhcYGRolJicoKSo0NTY3ODk6Q0RFRkdISUpTVFVWV1hZWmNkZWZnaGlqc3R1dnd4eXqDhIWGh4iJipKTlJWWl5iZmqKjpKWmp6ipqrKztLW2t7i5usLDxMXGx8jJytLT1NXW19jZ2uHi4%2BTl5ufo6erx8vP09fb3%2BPn6/8QAHwEAAwEBAQEBAQEBAQAAAAAAAAECAwQFBgcICQoL/8QAtREAAgECBAQDBAcFBAQAAQJ3AAECAxEEBSExBhJBUQdhcRMiMoEIFEKRobHBCSMzUvAVYnLRChYkNOEl8RcYGRomJygpKjU2Nzg5OkNERUZHSElKU1RVVldYWVpjZGVmZ2hpanN0dXZ3eHl6goOEhYaHiImKkpOUlZaXmJmaoqOkpaanqKmqsrO0tba3uLm6wsPExcbHyMnK0tPU1dbX2Nna4uPk5ebn6Onq8vP09fb3%2BPn6/9oADAMBAAIRAxEAPwD9/KKKKACiiigAooooAKKKKACiiigAooooAKKKKACiiigAooooAKKKKACiiigAooooAKKKKACiiigAooooAKKKKACiiigAooooAKKKKACiiigAooooAKKKKACiiigAooooAKKKKACiiigAooooAKKKKACiiigAorj/AAR%2B0J8A/iZ431n4Z/Dj44eD/EHiTw5JJH4h8P6J4ltbu%2B0t0kMTrcQRSNJAVkBQh1GGG088VZtfjb8Gb74p3PwLsvi54Ym8b2dgL288HRa/btqsFqQpE72gfzljIdPnK7fmXnkUAdPRRRQAUUUUAFFFFABRRRQAUUUUAFFFFABRRRQAUUUUAFFFFABRRRQAUUUUAFFFFABRRRQAUUUUAFFFFABRRRQAUUUUAFFFFABRRRQAUUUUAFFFFABRRRQAUUUUAFFFFABRRRQAUUUUAfIz%2BIrvxH/wUT0j40aVp3xZ1nw/4Z8I6/pWr2XiP4WX%2Bn6b4Ukmn0yMNpUo06CbVWu5bUtJiS%2BRUQyxvbxjbLy/g74f/EGL9qTw98N5fhR4oh17Qf2nfEnj3WvGcvhq6TSpvDt5oWp29tImpmP7NPIVvbDT/sqyGZPszMYxHCr19w0UAeIftr%2BO/wBp34WeFtF8bfAPx94D022ufF/hzw/qFj4v8B3uqyO%2Bq67Y6X9ojlttVsxGIkvDJ5ZR95jA3oDkWf8AhB/%2BChf/AEdB8Gf/AAw%2Brf8AzUUft4f8kQ0P/ss3w4/9TXRK9moA8Z/4Qf8A4KF/9HQfBn/ww%2Brf/NRVbWdA/bz8OaRdeIPEP7W3wQsLCyt3nvb29%2BB2qRQ28SAs0ju3ikKigAkkkAAZrtvhz8ddL%2BIPxC8S/DO58F65oGp%2BHTHIkWuxQx/2nZvJNEt5biOVy0JlglTLBW4UlQHUnwnxj4Y%2BMnh7SfE/w8%2BNujX%2BsaZ8RPFEvhqz8ZS%2BM3nuFS8eQ2EkOlRwrDawQsyQuY2EpCNOwKqSOulhHOfLN2emnVp9tbOyu/6dsZ1Uo3Svv/X3lHxB8b/27NYt/Cy/AD9pj4A%2BOLnxXqV3bWWPhRqtnboLWBp58y/8JHKfNCqAsRUFtwJKoC47H4Paz%2B3j8Zfh1p3xD0P9pT4RWkd4JYrqwvPgJqyz2V1DK8FxbSj/AISjiSKaOSNscbkOOKzfC3wc%2BK/xk%2BI914s8Z%2BCNU8Aatplhpl2de32sscviW1M0TXVtHHI3m272k8sT7wm%2BO5ZPvLlPb/gn8K5vhL4RuNG1LxGNX1PUtYvNV1nU0sVtUuLu5lMkjJCpYRoMgBdzHC5LMSSdcTTwtKlyxfvffvfqtNrbWflrpNKVWUrvb%2BvmeEeBx/wWR8RfFHWNF8XeKPgJ4e8H2FxPDpniCf4dapc32qbWxHMlnF4gKRRuAW/eThxkZTOcegf8IP8A8FC/%2BjoPgz/4YfVv/mor2aiuKclN3UUvS/6tm0U0tXc8Z/4Qf/goX/0dB8Gf/DD6t/8ANRR/wg//AAUL/wCjoPgz/wCGH1b/AOaivZqw/iF8T/ht8JPDsni/4qfEDRPDWlQ/63Ute1SGzgXjODJKyrn8amMZSdoq7K3PNf8AhB/%2BChf/AEdB8Gf/AAw%2Brf8AzUUf8IP/AMFC/wDo6D4M/wDhh9W/%2BaiuQn/4Kh/BjxncPpn7Lfwu%2BInxlulcx/afAPhOX%2BzEkzgB9SvDBaBf9pZH78HFNHiv/gqv8XOfD3wo%2BFXwe0%2BX5Wl8V65ceJtVjH98QWQgtVb2M7jPr1rs/s/ER/i2h/iaT%2B7WX/kpfJLrodj/AMIP/wAFC/8Ao6D4M/8Ahh9W/wDmorK8XH9tXwBpZ1vx5%2B2j8BNEsl%2B9eav8F9Stoh/wOTxUB%2BtYn/DB3xr%2BIH779or/AIKJfFfXc8PpvgZ7TwnYsvdStjGbgj63BODyTWt4R/4JZ/sB%2BE9UGv3H7NOh%2BItT6vqnjiWfX7h267i%2BoyTHOeeMY7Yo9lgYfHVcv8Mf1k1%2BQWgup4x4q/4KMP4T1I6Kf%2BCo37O2tXwyBZeD/gRrmuzE%2BgTTvEs5J7YxWb/w3d%2B3rr//ACSnwjrXi1H/AOPe8tP2O9a022l9CJdT8W2w2%2B/P0r7m8K%2BCvBvgTTRovgjwlpmjWa/dtNKsI7eIf8BjUD9K06Pa4CPw0pP1lb8Ix/ULw7HwPH8av%2BDgjxA4bwj%2BzN8I7OBz8k3jHRfsJx6lLTxNeMv0IzXffCy1/wCC7ev%2BI7T/AIW94p/ZT8N6I%2B77ZLo/hPxHqd9F8jbdsTalBE3z7QcyjAJPJAB%2BuqKieIpSjaNKK/8AAm/xl%2BgnJdjxn/hB/wDgoX/0dB8Gf/DD6t/81FH/AAg//BQv/o6D4M/%2BGH1b/wCaivZqK5STxn/hB/8AgoX/ANHQfBn/AMMPq3/zUUf8IP8A8FC/%2BjoPgz/4YfVv/mor2aigDxn/AIQf/goX/wBHQfBn/wAMPq3/AM1FH/CD/wDBQv8A6Og%2BDP8A4YfVv/mor2aigDxn/hB/%2BChf/R0HwZ/8MPq3/wA1FH/CD/8ABQvt%2B1B8Gf8Aww%2Brf/NRXs1FAHxJ4k1P/g4i8P7pdK0j9kfX0H3E0%2Bw8RW8jD3E96qg/8CNYI/aJ/wCC63hg%2Bd8Sv2XvBot1/wBZP4J8CQ6wf%2BAxyeMLaRv%2B%2BRX3zRXZHE0bWlRi/wDwJflJ/kVzLsfK/wCz98Sv%2BChPx%2B0zUr9/GnhvwRNpk8cU1j8Qf2YtX06WYspO6EjxY6TKMYLIxAJA71pfEvxF/wAFBvh74t8EeC7f9oL4M6he%2BNvEj6Xbr/wpTVYRaxRWNzeTXJ/4qZt4VLbbs%2BXLSKNwr6Wrzbx/%2BzPoHjv4y6D8dU%2BI/jDSdb8O288NhbafrKyaeVmiaKQtZ3EcsIYqeXRVf5R83XMU5Yd13Jq0bOy1lrZ27PfW/QFy3PBf2g/jh/wUO%2BCWpXmmaH8V/hH4kfQPDMniXxhJD8GdStk0nR42kDT5fxOTNKfJmKQqAWELfMOM60Hxz/aoufinb/CGL9rP4VnUrm7SyS7/AOGbde%2BwrfvaC8Wxa6/4SXyluTbETeUWB2%2B4xXb/ABj/AGSvHXxJ8U31xpHxXtLTR/Fvh6w0bx8l1ope9u7e1mkk3WsiSpHCZlkeGRWjZQrFkw2c8PqP7PH7SK6v4g8LaD4b06z0/TfFeu%2BL9B8S/wBqKf7Sv5bcppVsIBmSLySyrK78MLddmRIQnXTo4GpSScrO3e333XR9F038qSg0dT4Q179rv4gavqvh/wACftzfs%2Ba1qGhXAg1ux0r4O6hcTafISQEnRPFZaIkq2AwGcH0rf/4Qf/goX/0dB8Gf/DD6t/8ANRXF/sZeCtWfxvoXiLRPBHiDw54Z8GfCDTvCaQeJdBm0271HUzMJrl3imVXkEIiTE2NjyXc5RnBLH0f4l/ttfsqfBj4q2/wW%2BMHxs0fwr4gu7OO5s4vEbPZW1wjlgoS7mVbdnypygk3jIyBuGeethJKu6dFOVlfRXfntfyfW1yXHWyMz/hB/%2BChf/R0HwZ/8MPq3/wA1FH/CD/8ABQv/AKOg%2BDP/AIYfVv8A5qK9f0vVdM1zTodX0XUoLy0uYxJb3VrMskcqHoyspIYH1FT1x7EnjP8Awg//AAUL/wCjoPgz/wCGH1b/AOaivP8AwGP%2BCyGo/FLVfB/xL8UfATSfDkFvLNo3i/R/h1ql9HeYlVUhltpPEEMsEpRi5wHjGxhvPy5%2BpqKuM1FNOKd/XTzWv53Jaba1Pmf48eIv%2BCh/wV%2BHFx41sPjv8F9d1F7q3sdG0I/BrV7RtRvriVYbeBZB4jl2lpHUE7DhdzHhTV/4ieI/2wPhBo9pr3xY/ba%2BAnh2zvb2Ozgu9W%2BCmqQwtcPnam9/FIAzg8nA47V6B8VvgFqvxB%2BJ3hf4raX8TdStJfCt2bq28M30Edzo93N9nuIVmki2rKkyi5YrIkgA2qSjEDHC/tNQ/EnxB4m8NL4X%2BFfixvF2g3kEnhzWNKeCbQLk3Pl29/HeCQsUiSCSfJliRyozCxc7R10aVCqoQv3bezXZa6WVt9d3poZTnUhzO3a39I2bTwl/wUAv7WK/sP2qvgrPBPGskM0PwK1VkkQjIZSPFOCCDkEVJ/wg/wDwUL/6Og%2BDP/hh9W/%2BaivNdS%2BMuueHtf0z4uRfEy50Hw1a%2BK9StLHwjZ20MenQeGNKW4TULuaLZv377d3VwRtCRqnDkN7F8G/j74n%2BIXjWbwN47%2BFzeFr2Xw3a6/pVrLq4uZ3sppHj23MYjX7NOrpgx5cfNw5KsqzVwVWnHmWq/L/O11e2g4V4SdjjNS8Y/tm/CX40/Crw18Ufi38MPEvh/wAeeNbvQdTtNA%2BF2o6ReW4j8P6vqcc0VxNrl2gPm6dGjK0JysjYKkA19A14z%2B1B/wAlv/Zx/wCyzX3/AKhXiivZq4zYKKKKACiiigAooooAKKKKACiiigDxn9vD/kiGh/8AZZvhx/6muiV0/gH9pT4cfFD4t%2BIvhB4Dg1jUbnwoGj17Wo9HlXS7a8V1VrEXTAJJcru3MibtoByQRiuY/bw/5Ihof/ZZvhx/6muiV7KiJGCI0CgkkgDHJ5Jq4umovmV301tb/P00Jak2rM8u%2BLvwe%2BKHi/41eDviZ8MfGOkeHP7Ds72013Ubqwe8ub%2BynMTGzSHckajfEsgmdm2OgxGwZs9XafB34fJ4nsPHus%2BHrbV/EemWrW9l4i1W2jlvIUZmLBH2gR53EHYFyMA8AV09FW69VxUb2sraaaeb3e//AABKnFNvuFVtY1nSPD2lXOva/qttY2NnA015e3k6xRQRqMs7uxAVQASSTgAVT8bjxq3hHUV%2BHEulprptWGlPrUUj2izY%2BUyrGyuyDuFZSemR1rxI634q/ae/ZI8b/C/4i32k6V430d7vw94oxGYLAalAUeGULIzMltcxtbTKCzER3O3cWXNOlR9ouZvS6T7q/W3b9TRK50PxC/a50a2t/C6/s/aJp3xJufFUeoXGm/2P4khjtpYLKBZpglwFkR52EkYjh%2BXduLFkVGYeLeI/2k/G2seIvHnx48DfE3XI38H2eka/o3gW/mt4dP1fwsSseoRLGU3C/W5ttShLl2MU0duufLlUHV8I/Br4i/Gf40%2BIfGll4M1/4Z3UA0vV5dQ1PTY2iTxVbyPb3Eluqybby2ubGOGOZl2hl2bX3l9nr/gL9kj4Z6b4G0zw78X/AA5oHjjU7DXb3WhqeqeG4hFDfXVzJcubaGQym3iV5SI497lAifMSoNelfA4RWau9L7N66vvHbTRp63NPcid/418PXXjjwNqfhfTfFeqaDNqumy28GtaQUjvLBpEKrPF5qMqyoSGG9CARyp6V4z8Pf%2BCZ37IngzxFH498YeA7r4ieK05bxb8UtVl8QX5bsym7LRwkdvJjjA7CvfaK82nicRRg405OKe9tPxWvyvbyM1KSWgy3t4LSBLW1gSOKNAsccahVVQMAADoBT6KKwEFFFc/8SPiv8Lfg34bk8ZfF34k6B4V0iLPm6p4j1iCxt04zzJMyqPzpqMpOyV2NJydktToKK%2BVbz/gsN%2Byj4lvJdI/Zo8N/Eb4330LlJYvhD4AvNTtUYcfNfyrDYgZ4z5%2BB37UwftEf8FW/iv8Au/hN/wAE/PB3w9tZPmg1f4x/FJJZdnYtY6NDclWxztadT2OOtdX1HEr40o/4mo/g3f8AA6fqWIXxpR/xNL8G7/gfVtFfKY/Z0/4KwfEX/S/iR/wUZ8HeBkk4l0v4VfByGTYO4W61i5ujn38ketL/AMOsh4k/efF//goR%2B0x4saTm5th8UTo1rJ6jydIgtcL/ALJJ%2BtH1fDx%2BKsvkpP8ASKD2FCPxVV8lJ/okfVTukal3YKoGSScACuR8S/tBfAXwYzJ4w%2BN3hDSSn3xqXiW1gK/XfIMV4Kn/AARR/wCCal2wm8Xfs%2BXXimbOZJ/GfjjWtZaRvUi8vJF/IAV13hr/AIJX/wDBNPwkqjRP2BvhAGT7st18PdPuJB/wOWJm/WjlwC%2B1J/8AbsV%2BcmHLgl9qT%2BSX5yZtar/wUO/YB0Jimt/ty/B6zK/eF18TNKjI/wC%2BrgVjzf8ABUv/AIJoQNtf/goJ8Fyf9j4m6W38p67DSv2Nf2QdCULon7Knw2swv3Ra%2BBtPjx/3zCK2If2d/wBn%2B3XZB8DPByD0TwzaD%2BUdF8v7T/8AJP8AIP8AYe0//Jf8jzq2/wCCon/BNS7YJD/wUE%2BCuT0D/FDSl/8AQrgVvaN%2B3p%2Bwz4iYJ4f/AGz/AIT3xb7os/iLpkuf%2B%2BZzXSXX7N/7O96uy9%2BAnguYHqJfC1ow/WOsHWP2HP2KfEKlNf8A2PvhbfBvvC8%2BH%2Bmy5/76hNH/AAn/AN//AMkD/Yf7/wD5Kdn4X%2BK3wu8blV8F/EnQNXLfdGl6xBcZ%2Bnlsa36%2BdPFH/BIn/gl74vDDVv2B/hVFu6nS/BtrYn8DbIhFYB/4Iv8A7BGknz/hr4P8beBrkf6u68DfFnxDphj/AN1Ir7yx/wB8UcmAe05L1in%2BUg5cE9pyXrFP8pH1VRXyp/w7X%2BLPg7/Svgj/AMFR/wBojQrhf9VD4n1/TvE9qvplNTspZG/GWk/4Vb/wWO%2BGf/Im/tY/Bf4oQdfI%2BIPw3vNBuSPT7Rpd1LGD/tfZ8f7NP6tRl8FaPzUo/mmvxD6vRl8NVfNSj%2Baa/E%2BrKK%2BUT%2B2h%2B338Kv8Ak4f/AIJda/qljD8s%2Bu/BXx3p/iFXP95bK7%2BxXQHsFc8dzgVreB/%2BCvP7BfiXxDD4G8efF24%2BGfiWY7T4Z%2BL2gXnhe7V%2BmwHUY4opGyQP3bvycUngcVa8Y8y/utS/Jt/gDweJteMeZf3Wpfk2/wAD6YoqtpGsaR4g0yDW9B1W2vrK5jEltd2c6yxSoejK6khh7g1Zrk2OXYKzfFng3wh4%2B0Kfwt468K6brWmXK4udO1axjuYJR6NHICrfiK0qKabi7oD5r1P/AIJe/A3wrqVx4o/ZU8aeMPglrM8hmkk%2BHGuNDps8nUedpdwJbKRAf4REv1FV28af8FL/ANnH/kffh14Z%2BPfhuD7%2BseCGXQPEiRjlnfT7l2tLlsdFhmiJ7L2P05RXasfWnpWSqL%2B9q/8AwJWl%2BLL5299Txv4E/t6/s0fH/wARv8PNA8ZT6B40gH%2Bm/D/xrp8mka5btjJH2S5CtKB3eLzE/wBqvZK4T48fsxfAD9p3w4nhb48/CjSPEltCd1nLfW%2BLmyf/AJ6W9whWW3f/AG43VvevFn%2BCH7cf7JP%2Bn/syfFR/i/4Og5b4a/FHVNmr28Y/g0/W9uWPQLHeK6gDHmjrR7LCYj%2BFLkl2lt8p/wDySXqFoy20PqSivHP2eP24fgz%2B0D4hufhkU1Twd8QdNi36x8N/Gtl9g1i1UdZEjYlbqHjImgaSMgg5GcV7HXLVo1aE%2BSorP%2BvvXmm15ktNOzPOPHX7K3wb8WeG/GGmaH4K0nQNT8a2jRazrul6TCtxNIWDrLJ8uJT5gV2DcOR82au/CL4O6j4C1zXPH3jbxmfEfirxILWPVdXWw%2ByQrb2yOsFtBAHfyokaWeTBdiXnkJY547qiqeIrOm4OV0/%2BB13totPJGfs4KV7HjH7TrF/jb%2BzkShX/AIvPfjB9vBXijmvZ68Z/ag/5Lf8As4/9lmvv/UK8UV7NWJYUUUUAFFFFABRRRQAUUUUAeD%2BFPjN%2B0Fof7Z9v%2Bzp8QvEHgjxJpes%2BEdV8RLF4V8OXlje%2BFbaC9toLFb6Wa9uI7oXQmuFR1jtSXsZiiSKshiwvhX%2B1P8Xdd/bS8V/A34seJtE8M6Lb%2BJ7nTfAGgX/wn1u0ufE9tFpdvdm4tdenuxp93IrtdlreCBpBHauSAEZx0Xwm/YlvPg58QvG/xG8OftZfE27uvH2uT6rrcGrW3h2cLO7IIljm/sgXHlW8KLbwxPK6RxcBS3z1v337LUHiL45aL8a/Hvxv8a%2BIofC2tXOr%2BEfB2pHTI9J0W%2Bms7iyaeL7NZRXUxW2u7qNBc3EyqJ2IG5UZQDjP%2BChfxc%2BFHhrwf4M%2BFHiP4neHtP8AFPiD4w/D2XQfDV7rUEWoakkfjPRmka3t2cSTBVVixRSAFJOMGvoevGf28P8AkiGh/wDZZvhx/wCprolezUAFcT8ff2h/hD%2BzH8PZviZ8Z/F8OlaakqwWsexpbm/uX4jtraFAXuJnPCxoCx5PQEjH/an/AGpPBn7LXge11zV9Ivde8Ra7fLpvgvwXowD6h4h1Fx8ltAvYD7zyt8kaAs3YHhP2dv2RfGep/EGD9rX9tPVbLxL8UXiYaDpFsS%2Bj%2BBbZ%2BtppyNw05GBLeN%2B8kIwpVOG7KOHgqftq7tDolvJ9l2S6yei2V3oqUVa72PRP2afih8YvjD4JuvHvxb%2BBs3w%2BjvdRZvDWhanqaz6kdO2J5ct9Gi7LWdm3kwB3KKVViGBFJo37LXwo0z40678ftSt9Q1bxJrwgSWTVdQaS1tYoVVYo4bVdsClduRKyNNyQZCOK9GorF1pKcnT91S0sr7dtdenz/AV9dAooorEQUUV4H%2B1B/wAFAfh78BfGlt8Bfhr4M1b4o/F/VbYTaR8L/BpRrtIjgC6v53Pk6ZaZK5nnIyD8iuQRWlKlUrT5YK7/AK1fRLzdkaU6VStLlgrv%2Bt%2By82e9SyxQRNNNIqIilndjgKB1JPYV8w%2BP/wDgqp8FLjxfe/CX9kbwN4l%2BP3jayk8m70n4YWyT6bpsx6LfavKyWNoM5BBlZ1I5SsC0/YK%2BP/7YEi%2BKf%2BCnXxm%2B3aJMwktvgR8Nr%2Bew8M2y9Vj1G6UpdazIMKWDtHb7gcRFTX1L8Pfhx8PvhL4Qsvh/8LfA%2BkeHNC06Ly7DR9D06O0tbdfRIolVV/AV08uEofE%2BeXZaR%2B/d/JJeZvy4Wh8T532Wkfv3fySXmfMq/CH/AIKp/tN/6R8Z/wBofwz8AvDVx97wp8IrJdZ19om6xzazqEfkQyD%2B9bWp9nrovht/wSX/AGGvAviSP4g%2BMfhTN8S/Fy8yeMvi7q8/ifUXfOd6tftJHCfTyUjA7CvpKipljcRblg%2BRdo6fe1q/nITxle1oPlXaOn4rV/NkVlZWWm2cWn6daRW9vCgSGCCMIkagYCqo4AA7CpaKK5DlCiiigAooooAKKKKACiiigAooooAKKKKACsjxx8PvAXxO8OzeEPiV4I0jxDpNwMXGl65psV3by/70cqsrfiK16Kabi7oabTuj5W1n/gkN%2BzT4Z1OfxV%2ByV4t8cfAPXJpDK9x8JPE0llp88nUedpUwlsJUz1XyFyO44Ipv4k/4K0/stjd4r8JeDf2lvC0H%2Bs1DwwE8K%2BLI4%2BpdrSZ30%2B8YD%2BGOW3Zj0XkCvrWiutY2tLSraa/vav8A8C0l%2BLOlYyrLSraa/vav79Jfizwn9nX/AIKOfst/tH%2BLX%2BFWk%2BKdQ8I/EG3TN98MviJpUmieILfgk4tLjBuFwM%2BZA0seP4q92rzr9o79kr9nD9rfwmngv9or4QaP4otIH8ywnvYCl3p8uQRLa3MZWa1kBA%2BeJ0b3rwGb4c/8FBP2BR/afwV8Wap%2B0Z8LLUZuPAfjDUI08aaNAOT/AGfqb7Y9VVRki3u9sxCqqzMTT9lhq/8ACfLLtJ6fKWn3SS9R%2Bzw9f%2BG%2BV9pPT5S/%2BSS9T7DorzL9lz9r/wCA/wC2F4MuPF/wU8WvcTaZc/ZPEfh7VLR7PVtBvBndaX1nKBLbSqQwwww20lSy816bXLOnOlNxmrNdGc04TpycZKzQUUUVBJ5z%2B0Z%2Byj8Dv2p/D1tonxd8ICe702Xz9B8Q6dcNaarotwMFZ7O7iIlgcEA/Kdp2gMGHFeKj42/tJfsAzppH7W9/efEf4So4js/jJp2n/wDE18Px5wq65aQjEsQHH26BccZljUtur6wplxb293bva3UCSxSoUkjkUMrqRggg8EEdq66OLcIeyqrmh2fTzi94v8H1T3KUrKz2KvhvxL4d8Y6BZeK/CWu2eqaXqNslxp%2Bo6fcrNBcwuMrJG6Eq6kEEEEg1dr5I8Y/CT4if8E5NevfjV%2Byv4bvtf%2BEF3cveePvg5YL5kuhhjum1TQkP3ccvLYjCONxj2tgD6a%2BGPxN8A/GbwBpPxT%2BF3im01vw/rlkl1pWqWUm6OeJu47gg5BUgMrAqQCCKWIw6pxVSm%2BaD2fVPtJdH%2BDWqdtiUbarY82/ag/5Lf%2Bzj/wBlmvv/AFCvFFezV4z%2B1B/yW/8AZx/7LNff%2BoV4or2auUkKKKKACiiigAooooAKKKKACiiigDxn9vD/AJIhof8A2Wb4cf8Aqa6JXoXxh%2BLfgP4D/C7XvjH8T9cTTtA8OabLfapduMlY0GdqjqzscKqjlmZVHJFee/t4f8kQ0P8A7LN8OP8A1NdErg/2h7YftXfts%2BDv2S5P3/gz4c2Nv4%2B%2BJUA5ivrzzmj0XTpexXzYp7x42BDC2iz1rpwtGNar7%2BkUm5ei3t5vRLzfkVFXepe/Y4%2BC3jz4i%2BNLj9vT9qPQXtvHXiayMPgrwrd/Mvgbw%2B53RWaKeBeTLtkuZcBizCIbVQg/SlFFTiK8sRU5notklsktkvJfjq3q2KTcmFFFFYCCiivnH/goV%2B0B8UPCGmeE/wBlX9mPUYrb4t/GPUZtL8MalJF5ieG9OhQPqWuyp0ZbWFhsUn555YVw2SK1o0pV6ihHr9yW7b8ktTSlSlWqKC/4ZdW/JLU539oD9qD42/tFfGTVf2I/%2BCf2r21hq2iMsPxY%2BMdzai5sPA6uM/YrWM/JeauyHIiJ8uAENLydo9e/ZT/Y7%2BCH7HXgq48KfCXRLmW/1a5%2B2eKfFuuXRvNZ8R3xyXu7%2B7f57iViWPOFXcQiqvFaX7L/AOzR8Lf2Rvgro/wM%2BEemSxaZpaM9ze3kvm3eqXkh33F9dSnma4mkLO7nqTgYAAHoFbVq8eX2VHSH4yfd/otl5u7Nq1ePL7KlpD8Zeb/RbLzd2FFFFchyhRRRQAUUUUAFFFFABRRRQAUVxV7%2B0h%2Bz9p3jy0%2BF198a/C0fiO%2BneC10Vtdg%2B0ySoQGi2bsh8nGw/MSCADg12taVKVWklzxavqrpq67q6V16GdOtRqt8kk7aOzTs%2Bzs3Z%2BoUVHbXVrexefZ3McqbmXfE4YZBIIyO4IIPuKkrPY03CiiigAooooAKKKKACiiigAooooA%2BeP2sP2C9O%2BL/AIyg/aV/Z38bP8Mvjhott5ej%2BPtLtw0WqwrgjTtXthhdQsm2gbX/AHkWA0bKRg2/2NP20L/476rrnwE%2BPPgZPAfxq8DxRnxn4Ja5MkFzbsdsWraZK2DdafMR8rj5omPlyAMAW98r55/b6/ZR8W/GXQNH%2BPv7Od7b6N8bvhhJJqXw61uT5Y78Ef6Rot4cjzLK8QGJwSNjlJFIKHPbSqxrxVGs/wDDL%2BXyf93uvs7rqn2Uqsa0VSqv0l/L5P8Au%2BXTddU/oaivNv2RP2mPCP7X37PHhv4/eD9PuNPTWrVl1PRb0YudI1CF2hu7GcEAiWCeOSJsgZ2ZHBFek1yThOnNwkrNaM5ZwlTm4yVmtAoooqSQr5H8V2H/AA7W%2BPq/E3w8v2f4EfE7X44PGWlrxb%2BCfENy4SLVIh0isrqQrHOvCxyskgIDMtfXFYPxQ%2BGngz4yfDnXPhR8RdFj1HQvEWlzafqtlKOJYJUKMAf4WwchhyCARyBXVha6ozcZq8JaSXl3Xmt0%2B%2BmzZUXZ67Hm/wC1B/yW79nH/ss19/6hXiivZq%2BX5/hp4%2B%2BDdr%2ByX8KfiZ8Rh4t1fw98VL2wk8RG0ML3sMXgzxUsDSKWYmUQiNXfPzurNgbsD6grCpGMJuMXdJ79/P5iejCiiioEFFFFABRRRQAUUUUAch4F/aD%2BAfxQ8Zaz8Ovhp8b/AAh4i8Q%2BHXZPEGhaF4ltbu80xlcxstxBFIzwkOCpDgYYEdasWvxt%2BDN98U7n4F2Xxc8MTeN7OwF7eeDotft21WC1IUid7QP5yxkOnzldvzLzyK%2Ba/hr8V9M%2BLH7b%2BrfFPxZ8JPiL4S0n4WaTrXhfwLptx8GvEMP9tfaryzOo6s10LD7O8EktpAlrBFIzPGs1y4O%2BMQ8z4O%2BH/wAQYv2pPD3w3l%2BFHiiHXtB/ad8SePda8Zy%2BGrpNKm8O3mhanb20iamY/s08hW9sNP8AsqyGZPszMYxHCr0Ae9/t4f8AJEND/wCyzfDj/wBTXRK5D/gndF/wm3iH45/tFX48278ZfGnVbC0uv72maOE0q1Qf7INtO495TV7/AIKF6b8V5/B/gzUfDnjTw9a%2BFofjD8PRr2jXvhie41C8c%2BM9G8tre8W9jjtgrbSwe2mLAEApkEV/%2BCWM0cX7L%2Bo%2BHXtkhvNF%2BKXjKw1KJCx23CeIL5mzuJO4h1Y89%2BABgV20dMDWa6uC%2BV5P80i18D%2BR9H0UUVxEBRRRQAV8l/si2bfHX/gol%2B0P%2B1NrLC4tvBF9p/wp8EbxzZw2ltDqOrFf%2But7exKW6kWijPGB9aV8qf8ABLdlsNQ/aS8KXfy3%2BnftS%2BKpbuNuG2XSWd5A5HoYZ48H/Z9q7MP7uGrSW9or5OWv5JHVQ93D1ZLeyXyctfySPquiiiuM5QooooAKKKKACiiigArxf9q39vj9nn9jPUNH0n416lq0NzrkMs1hHp2kSThkjZVYl%2BFGCw4yT3xyM%2B0VV1nS7HWdMm07UdKtb6KRDm1vIw0Uh7BgQRjPsfpXRhZYWFdPEQcodUpcr%2B%2Bz/I5sXDFzw7WGmoz6Nx5l911%2BZ%2Bavxz/4Kk/ET9oz4vax8FP2Vvj94I8MeCdZ0W0gHijxbHLo97YmV0jumguJ3VfNQOW6Btu7ywWXdX0XpH7DP7Q1loNva/C//gp18Qho0lsospNRsbPVHaAr8pW4bBbg8OPbFfG2tf8ABWjTPGXiC%2B%2BHfx7/AGAPhVqmuxanLpNvc6nLFDBp9ssrAWkrzQzcrIWzMskcYJLbVGTXhf7RHws8S/BH4sar8SU/Zp%2BKPwV0R45bfRnW7kuoINXaN5I4Yb4xwK9u4QrtWSSRVV3DSbfLr9ZjkNaShhqcY4bS6uqNX2j0V76Sb16R76dX%2BPy4hoRdTFVZyxV3Z2dej7Nau1tYJaPeXbXov0P8S/8ABEv4I%2BJPgj4d%2BFtz44mGvW3ipNX8ZfEB9Gjk1bXoyJvOt0kd2NsGMwKkmUAxqXWUjNfNn/BRrxF4r/Yv1j/hTPhj9rP9om%2B199LtbrSL3VPHXlaXNZO0sboPJjEkkqbEHVVOXyQVVX9b/wCCUv7eP7W3xFlsP2efHvwT1bxxYaPq0thqXxPj1hTHpcCJlY55NjR3bqw4cTB3R1IDkZY/4OAv2Zv2jPjX4C8A%2BO/2dfhlc%2BJJPD15fw%2BIbbQ9IF3qZjmEH2cxoqNK8Ssk25UzgyKxHBI%2BVzHiDH8JY9vOebEUoXly0%2BScnzNe8otNpbXg%2BS0dlZK/6HwhwNgfE6rRy/Ia1LA169oKpiJTpUouMZPlnNNK7s4qolNObV5Xbt8vf8EwP%2BCiPg/9i3xR4nm%2BK3/CU3nh3W7KMW/h/wAO2qXEcd6rL/pWbm7jCMV3hsBi25eQEAr9F/gH/wAFcv2Ivj/qlv4c0/4jz%2BGNWuji307xlaiyMjZwFEwZ7fcSQAvm7mJwAea/IvxR%2Bzt4X%2BDn7LFv4o%2BNniaSz%2BMGp%2BJvs0XgC2vrfzNG0xYQ5m1G35mguHYgLGxXarDK5yF0v2VPCPhn4iftPeGvB3wg/Z6ufiE02lTQzeHPF2uxW8F9dC2l828dokQW0CZ8xYS8jgxgCVmZRX2GIyrh3i7LXnUIVafPHmvJezaUYr4ozsl6t62ve1mfA4jFcU%2BHnEVThivVoVnQqOm3Sn7aEm5NP2dSlfmV9uVaXta90fvva3VrfW6XdlcxzRSDKSxOGVh6gjg1JX5bL/wRd/aF8efFzQF8S6H4B%2BHvg43S3uuD4feItUuJYdjfcjS/eUC5K5CyKBGm4k5wEb9RLK1Sxs4rKOWR1hiVFeaUu7ADGWZuWPqTya/Mc2y/L8B7P6tiVVck27L4eybTabeu23zP0nJ8xzHMPafWsM6Ki0k2/i7tJpNJaavf5EtFFFeMe2FFFFABRRRQAUUUUAFFFFAHyb%2BzBar8AP8Agpl8df2a9PHlaB8QNC0r4reHrKP/AFdteXEkum6xj3kuLW1nI/vXDH%2BKvrKvlSdl1T/gt7afYTu/sT9le5XUyv8ACb3xJbm3De5FjckD619V12YzWcJPdwi362a/JI6sXrKEnu4xb%2B5r8kgooorjOUKKKKAPGf2oP%2BS3/s4/9lmvv/UK8UV7NXjP7UH/ACW/9nH/ALLNff8AqFeKK9moAKKKKACiiigAooooAKKKKACiiigDxn9vD/kiGh/9lm%2BHH/qa6JXGfsnTD4N/tn/Hb9mTUf3UOv6xbfEvwmH63NrqMSW2obfaO/tWJH/T0p/irs/28P8AkiGh/wDZZvhx/wCprolcv%2B374E8aeEj4U/be%2BDegz6l4r%2BENzPcarotmv73X/DVwqrqdgo/jlCIlzCDnEtuAAS9duCanKVCTtzqy/wASd4/jp/28XDXTufR1FYnw2%2BI3gv4veANH%2BKPw58QQaroWv6dFfaVqFs2UngkUMreoODgg8ggggEEVt1xyjKMnFqzRGwUUUUgCvkW%2Bvx%2Bx/wD8FU5dX1pvs/gj9p/RbS0hvpOIrPxrpEDRxwMeFQ3umhQmeXk0/aMlhX11Xm37Wf7MPgL9r/4Gav8ABDx9c3Vkl4YrrRtd02Ty73Q9SgcS2moWsg5jnhlVXUg84KnKswPThqsKc3GfwyVn/n8mk/vXU6MPUhCbjP4ZKz/z%2BTSf39z0mivmn9ib9rnx3r/im%2B/Yv/bFgtdG%2BOXg2yEl00SeVZeNtLU7I9e0zOA8cmB50K/Nby7kZVG2vpas61GdCpyy/wCA10a7p/1rdLOrSnRnyy/4DXRryf8AXVBRRRWRmFFFFABRRRQAUEgDJOAOpNFeOf8ABQfUfGum/sUfEv8A4V74Zm1fVLvwtcWUdnBneIrjEE0wwR/qoZJJf%2B2db4Wg8ViqdFO3NJK76XaV/lc58XXWFwtSu1fki5WW7sm7fO1jyX9pHTvCP7Uf7b3gT9k7w/BpMmheH7U%2BO/iRPZCNmvhBP5VpYysnXMzB5I3PKurY%2BUZ%2Bp/HPgLwR8TvC9z4J%2BI3hHTdd0e9C/a9L1eyS4gl2sGUsjggkMqsDjggEcivgL/gll8aor/XvD3gb9k79heSz8Hpp1vafET4qatKtvc3t1HBiSQMSyv8AvsP5CSOQJCdsY5r9E69ziClXy7E0sKm4qlHTVc1223JqMnytu1k3dRUdjweHKtDMsLVxbSk6stfdfLZRSUYuUVzxirpyS5XJy3MnwR4E8F/DTwva%2BCfh54U0/RNHsVK2emaVaJBBCCxY7UQADLEknuSSeTWtRRXz0pSnJyk7t9WfSRjGEVGKslsloj8uv%2BCw3/BNb4reJvi3d/tN/s6fCwappeoabFJ4s0/RGaS9bUPMdXultuTIroYN3kgncruy8u5%2BWNf8U/tzfADx14B/aD8Z/D7xpok/w/0%2Bw0rw7qvibwPNpkCW8KuFsJJFSM3ETI0sWXfzHiYrkAAD97Kr6tpGk6/ps2ja7pdve2dwmy4tbuBZI5V9GVgQw9jX3WW8d4jCYOnhcTQjVjBON22pcrVmuq20v1Vk9kfAZp4f4bGY2pi8LiJUZzalZJOPMndPo1rrZbO7W7PLv2Kf2o/C37Xf7PujfFbQdXtbnUVtoLTxXDZWc8MNlq4toZbm3QTDcVUyjDAspBGGbrXrNZfg7wT4M%2BHmgQ%2BFPAHhHS9C0u3Z2g03R7CO1t4y7F2KxxqFBLEscDkkk9a1K%2BLxc8PUxU50IuMG20m02l2utNPyt8/uMHDE08LCGIkpTSSk0mk2t3Z66/nf0RRRRXOdIUUUUAFFFFABRRRQAVBquqaZoemXOt61qEFpZ2cDz3d3cyhI4YkUszux4VQASSeABU9fFfx%2B8b6x/wAFPvitqf7D3wH1i5j%2BD3hvUhb/ALQHxE06YpFqjIQzeFNPmX/WSScC8lQ4hiJi3b5Ctb4eg60tXaK1b7L/ADeyXV/O29Ci60tXaK1b7L/Pol1fzt0P/BMqHUvjt4n%2BKn/BRrXbGaC3%2BMmv29r8PYLqIo8fhDSkkttOm2sN0ZupHu7wr3W4jPTFfWdVdC0LRfC%2BiWfhrw5pVvYadp1pHa2FjaQiOK3hjUIkaKvCqqgAAcAACrVLEVfb1nNKy2S7JaJfcvvuKvV9tVckrLouyWiX3L8wooorExCiivIv20/2k7n9mv4Otqng/R11nxz4lvo9C%2BHPhpTl9V1q4ysCEdoo%2BZpWJAWKJySOK0o0p16qpwWr/r7urfRJsaTbsit%2B1B/yW/8AZx/7LNff%2BoV4or2avl6f4UeJPgfa/sl/C/xn8QdS8V63pfxUvRrfiLVrySea/vZPBniqWeQNISyx%2Ba7hE6JGEQYCivqGlUjGM2ou6T37%2BfzB6MKKKKgQUUUUAFFFFABRRRQAUV4v%2Bxz8Xfjh8Srr4peDvj9e%2BFLvWfh/8TG8PW194P0W5sLW4tW0bStSQtFc3Vy5kVtQeMuHCuI1YImSK5L9if8Aan%2BLvxo%2BIXiPwR8e/E2iaPrtrc6xLpPw/Pwn1vw/qCaba6tJaQ38d9qN3JDq8DQ/ZWeW0hWNXuo8su9VIB1/7eH/ACRDQ/8Ass3w4/8AU10SvZq%2BeP8AgoX8XPhR4a8H%2BDPhR4j%2BJ3h7T/FPiD4w/D2XQfDV7rUEWoakkfjPRmka3t2cSTBVVixRSAFJOMGvoegD5Cv5Lz/glz8U7zXhbSv%2Bzl431lrjUBDGWX4bazcSfPNtH3NKuZGy2Plt5nJwqPz9cWV7Z6lZw6jp13FcW9xEskE8EgdJEYZVlYcEEEEEcEGo9a0XR/Emj3Xh7xDpVtf2F9bPb3tleQLLDcROpV43RgQyspIIIwQcV8nN4X%2BMf/BMe7kv/hloGs%2BP/wBnxpWku/CdmHu9b%2BHykktJYqSXvtNXJLW%2BTLAPmTeoZa9H3cwWrtV/Cfz6T9dJd1L4r%2BP1/P8A4J9dUVzvwp%2BLfw0%2BOXgLT/ih8IfG2neIfD%2Bqw%2BZY6pplwJI5B3B7qwPDIwDKQQwBBFdFXBKMoScZKzRGwUUUVIHkn7XP7G3wu/bA8I6fpvi671HQfE3hu8OoeBvH3hu4%2Bz6x4Zv8YFxazAcAgASRNmOVfldTgEeOeB/26fix%2ByR4lsfgT/wVIsLHSBc3C2fhX4%2BaNamLwt4lJOI0vuo0W%2BYfeilPkOwcxSYwtfX1Z3i3wj4U8feGb7wX468M6frOj6nbNb6lpWq2aXFtdRMMNHJHICrqe4IINdVLEJQ9lVXNHp3X%2BF/mno/J6nTTrpQ9nVXNH8V6P809H5PUu2t1a31rHe2VzHNDNGHhmicMrqRkMCOCCOQRUlfIUn7BX7Qv7IVzJ4g/4JkfG2303w%2BJDLP8C/ibNcX3hlsnLLp10pa70cnLEIhlg3MP3QArT8Jf8FV/hr4N8Q2nw1/bv%2BFviD9nvxXdSiC3fxzsm8O6jL/05a7BmzlHTiVoZOeUFU8G5rmoPnXZfEvWO/zXMinhXNXoPnXb7S9Y7/NXR9VUVX0nV9J1/TLfW9C1O3vbK6iWW1u7SdZIpkIyGR1JDKRyCDg1Yrj2OTYK8v8A2h/2w/gT%2BzNpiyfEHxSbrV57mG2sPCuhKt3q17NLny0itVbed2Dhm2r0GckA%2BZftafH745eLPjlY/sIfs02y%2BHfEuvaAur6t4/1WdEj0vSvOMcr2URO65uOCOMbCcjGC8fZfAn/gn3%2By/wDAS6s/E2jeAI9c8V21y11N428UN9u1W4umBDTmaTOxjk/cCgZzjJJPs0sFg8JRhWxzfvq8YRtdx1s5SekU2tLJydm7LS/iVcdjcZWnQwEV7j5ZTlflUtLqMVrOSTu7uME2ld624aP45/8ABSX46gP8Fv2XPD3w10eb/U658VdWeW8eP%2B8LG1%2BeF/8AZkyM96S4/wCCf/xk%2BNskEX7an7Ymu%2BNdFFwk914J8OaTFoul3BU5WKYwnzJ4wcHkq3A5BGa%2BpaKX9s1aP%2B604UvOMby/8DnzSv5rl8rD/sSjWX%2B11Z1u6lK0f/AIcsbeT5vO5n%2BFfCnhjwN4cs/CHgzw/Z6VpWnwCGx07T7dYoYIx0VEUAKPpWhRRXkSlKUm27tnsxjGMVGKskFFFFIYUUUUAFFFFABRRRQAUUUUAFFFc38VvjH8JfgT4OuPiF8afiXoXhPQrUfv9W8Q6rFZ26nGdu%2BVlBY44UcnsDTjGUnaKuxqMpOyV2dJXO/Fb4ufDD4F%2BAtR%2BKXxk8faT4Z8O6VCZdQ1nWr5Le3hXsCzkAsTwFGSxIABJAr5nm/4KJfGr9p8nQ/%2BCaH7Ml/4tsZjsX4vfEqG40HwjAP%2BesAkQXuqgEEYt4lQ8Hzcc1sfDD/gmnpOvePdO%2BPf7d/xYvfjj4/02b7Ro0euWKWvhrw3L2OmaOhMMbrwPtExlnO0NvU12fVY0dcRLl/urWX3bR/7ef8A26dX1aNLWu%2BXyWsvu2X/AG8/kcbfeNP2nv8Agqgp8P8AwiTxJ8HP2errjUvHl5bvY%2BKvHlsesWlwOA%2Bl2Mi9byUCeRWXy0QFmr6u%2BDnwa%2BF37Pnwz0f4OfBfwRYeHPDOg2gttK0jTYtkUKAkk9y7sxLM7Es7MzMSxJPTUVlWxDqRUIrlgtl%2BrfV%2Bb9EkjOrXdSKhFcsV0/Vvq/P7kkFFFFc5gFFFeZftMftafCT9ljw/Z3nju8u9Q1zWpjbeFfBmgWxu9Y1%2B67QWlsvzOc43OcImQWZRV06VStNQgrt9BpNuyOh%2BOHxw%2BGH7OXww1X4wfGDxTDpGhaRDvubmXLPIxOEhiQfNLK7EKkagszEADmvFf2WfhB8TvjT8WT%2B3l%2B1P4Ym0fXJrCSy%2BFngC9IZvBujy43yzDoNSugFMzDmNAsIPDCm/B39mT4tfHX4maX%2B1Z%2B3dbWi6tpExufh58KLG6Fxpfg4kfLczuPlvtT2nBnx5cRJEQ6MPpiu2c6eEpulTd5vSUlsl/LF9f70uuy0u5U2oqy3PGf2oP%2BS3/s4/9lmvv/UK8UV7NXjP7UH/ACW/9nH/ALLNff8AqFeKK9mrzyAooooAKKKKACiiigAooooA8X%2BBP7HmsfAnxp4v8a2n7WXxK8RyeOPFcPiDXrHxDaeHRA92lrb2ZCfZNIgdI3t7S2iYB84hDKVdnZtT4f8A7LUHhP40L8efG3xv8a%2BOtestDvtG8O/8JUdMjg0SxvLi2uLqG3j0%2Bytd5keyswZLgzSBbdQHG59/qlFAHjP7eH/JEND/AOyzfDj/ANTXRK9mrxn9vD/kiGh/9lm%2BHH/qa6JWp4Z/bA%2BDWtfGnUf2efEV7f8AhbxhaXckem6R4rsjZHXIVOBc6fIx8u7ibnARi4wdyLitIUqlVNwV7au3Rd/6%2BdiZTjG13a56lRRRWZR84/FD9hzxD4O8e6h%2B0D%2Bwn4/tfhx421Gb7R4h8PXVq03hjxZJ3N/ZoQYZm6fa7fbKMsWEmal%2BF/8AwUE8OW/jO0%2BCH7X/AIDuvg78Qbp/KsLLxBdLJo2vOON2mamAIbjOV/cuY5gWCmMkZr6JrA%2BJnwr%2BG3xn8G3fw8%2BLXgTSvEeh36bbvStZsUuIJPQ7XBAYdQwwQeQQa7o4uFWKhiVzW2kviXz2kvKXyki%2BZPSRv0V8ur%2ByB%2B01%2By7/AKZ%2Bwj8eheeHIeV%2BEfxYuZ9Q0yJB/wAs7DUQWvLAADCo5njyeVAFXtC/4KU%2BB/A%2BrW/gr9tb4WeIPgdrs8ohhvPFirceHryQ9rbWbfNswxziYwuM8qKHgZVFfDy9ouy0kvWL1/8AAeZByX%2BHU%2BlKKq6JrmieJtJt9f8ADesWuoWF3EJLW9sbhZYZkPRkdSVYH1BxVquFpp2ZAVn%2BKfCnhbxz4fu/CXjbw1p%2BsaVfwmK%2B0zVbNLi3uIz1SSOQFXX2IIrQopptO6BNp3R83eCP%2BCXX7PfwT%2BKem/FD9lzxT41%2BFENtq6X2seDPA/ieSLw3rYD5eG40ucS20asMrm3WFxnIYGus/bl8W674e%2BEGl%2BGtB8U3ugt4w8baL4cu9e0%2BUxTadbXd2iTSpIP9UxjDIH42mQEEHFey1m%2BLvB3hD4geG7vwb498K6brekX8fl32lavYx3NtcpkHbJFICrjIBwQeldH1mpOtGdVuVu%2B/39fnfbsdH1ic6sZ1XzW%2B/wD4Pzufm3%2B1TZWeh/sJeL/2h/hpqfi/VfEPgH4lXVn%2Bz54qg8RXF5fpBLLbQrF9runke6s/OE6ASu%2BdmwMAePo34O/tZfGiy%2BDPgzQr7XdC%2BKnxJ8S6vcaKtpNos/g8afd2Nm8%2Bof2qrm7a2aJowpMcALG4h2w7W316n8dv2MPgN%2B0H8I9U%2BCnizQb3TNE1WOyR4/DWpSWDWwtP%2BPbyRGdkYTsoXaQAGU4GPjL42/8ABPX9qr9h3wzD8Vv2QP2h9d8YaPoR1Vb7w94q8OLq%2BswQ6sIY7%2B/gmikhNzdIIYpE3rsQRkbGQup%2BhoVcJmuEhhZTSqRlJxU9mpJWipL4dU207Jtt3VzzKlTD4HG1sXOn7lTlbcVqnGLTlNLWSemsFzbppxs19SaN/wAFF/gtc%2BFPCfiDXtA8Q2s/iDRLPU9dt7LS3u4vCsFzcPaxyajMmFgjNxFPEHwf9RIxCqpI9/r4M%2BHnwBtvj54V1jw9%2BzDe6Tqvwk%2BJ9p4YtNb8V3mtvFquj6dpBWO70mSyMILPcCO4/eb1Ae%2BuGK7Qhb7C%2BO2i/HTXfhvd6d%2Bzj478PeHPFZniex1PxToMupWSoHBkR4Ip4XO5cqGDjaTnBxivFxmGpUaypr3Xdpp309Va6tqra7X6npSlgq8IVMPNOMtU73Vns9L%2BnXa52NFfKv23/gtt4c%2BabQP2XvFsafe%2Bz6j4h0OWQeytHeqD9WxUlr%2B0d/wVa0mQ23iT/gmZ4L1MJG7G78N/H%2BHEjBSQojutNiIyQAMtjnnAFZfU5v4Zwf8A28v1sX9Uk9pxf/by/Wx9TUV8q/8ADaP/AAULsT/xOf8Agjx4zZR1fSvi94WuB%2BAe8jb9KX/hvf8AbAhGLv8A4JB/GJW7iHxZ4XkH5jU6PqOI6cv/AIFD/wCSD6nX8v8AwKP/AMkfVNFfK3/DeP7Zlx8unf8ABID4uM3YXPjTwtCPzOpGk/4bF/4KPX3/ACCv%2BCPviCEH7raz8a/DUA/HyZpiPyo%2Bo1%2BvL/4HD/5IPqdfrb/wKP8A8kfVVFfKp%2BO//BXnxP8AufD/APwT1%2BFnhknhZ/FPx4lugPcpZaS35BjR/ZP/AAWz8UfuL3xp%2BzH4Nif78unaJ4g12aMf7Jlms0J%2Bq0fU5L4pwX/byf5Jh9Ua%2BKcV/wBvJ/kmfVVFfKf/AAxj/wAFC/Gf7n4r/wDBWnxDa2sn%2Bvs/hr8KNF0UgeiT3a3sq49d3vig/wDBH39m7xbz%2B0N8XPjT8Wx/z7/EP4vapLa5/wCvSzktrfB/u%2BXt9qfsMLH4qt/8MZP8%2BVB7HDR%2BKr90W/z5UeofHP8Ab5/Yn/Zojm/4Xv8AtU%2BBPDNxB9/TtR8SW/20nuFtlYzOfZUNeV/8PUbf4oj7L%2Bxj%2Bxf8ZPi203FlrqeFD4b0GU%2Bp1DWjbAr7xxyewORn134I/sO/scfs2eVJ8Bv2XfAfhS4iHy3%2BjeF7aG6b3a4Cea592YmvU6OfA0/hg5f4nZfdHX/yYfPg4fDBy9XZfdHX8T5NPgn/AIK8ftDnPjX4t/Df9nzQZ/mOneBdOfxV4hCHgxvfXyQ2ULY/ijtpcdQfTofhX/wSo/ZI8C%2BMbf4rfEzRdb%2BLnjm25i8b/GPW5PEF7Cc5Bgjn/wBGtMHp9nhjx0HQV9I0UpY2vblhaC7RVvve7%2BchPF1rcsLRX91W%2B97v5sRVVVCqAABgAdqWiiuQ5Qorzjxd%2B1n8APCmg%2BMdXg%2BJOl6zc%2BBNPmu/EmjaFqENze2wiA3IYw42uCyqdxUKzrvK5zXnXjD9qf4i%2BM9Z8M/CLwpYSfDLxZrHi46Prp8U6ZBqbaZnTbu%2BthGILgQy/aRaSIkgdlBjkTbvKV008HiKnSy89Ol/Xbsn07lKLZ9GVS8R%2BJPDvg/QrvxR4t16y0vTLCBpr7UdRukggt4x1d5HIVFHckgVyH7N/wAWtY%2BMfwyHiDxXo1vpuv6ZrGoaL4j061ctFBf2V3LaymMtz5bmISx5JJjlQ5Oc1594l/4J/eAPjB8V7z4n/tR/EHxB8TbOPVWuvC/gfxDLHF4e0OPdmNRYQKsd3IoO3zrnzSRjgHmiFGlGrKNeXLbsrt%2BS2XzbtbvsCSvqcxqP7afxg/anvJvBn/BOjwDDqWl%2BY0GofGvxjaSw%2BHLLB2ubCL5ZtXmXDAeXtgDBd0pBxXffs3fsU/D/AOAviC8%2BK/ibxFqfj34m6zAI9f8AiT4rKyX86dTb26qPLsbUEnbbwhVAxuLkA17DZWVnptnFp2nWkVvbwRrHBBBGESNFGAqqOAABgAdKlq6mLtB06MeSL36t/wCKX6K0fJg5aWWgUUUy5ubayt5Ly8uEihiQvLLK4VUUDJJJ4AA71xknjn7UH/Jb/wBnH/ss19/6hXiivZq8K%2BPHirwx43%2BKH7NHivwZ4isdW0u9%2BMd%2B9nqOmXaTwTr/AMIX4pG5JEJVhkEZB7V7rTaadmCaYUUUUgCiiigAooooAKKKKACiuZ%2BFnxp%2BDnxz0S78TfBP4s%2BGfGOm2GpSadfah4W1631CC3vIwrSW8kkDuqSqHQtGSGAdSRyKTwd8bfgz8RPF%2Bu/D34f/ABc8Ma7r/hacQ%2BJtD0fX7e6vNIkJYBLqGN2e3YlWAEgU5U%2BhoA4D9vD/AJIhof8A2Wb4cf8Aqa6JXc/Gb4EfCD9oXwfJ4D%2BM/wAP9O8QaY7b44b2L57eTtLDIpDwyDtJGysOxrhv28P%2BSIaH/wBlm%2BHH/qa6JXs1VCc6clKLs11QmlJWa0Pmxfhf%2B2p%2Byp%2B9%2BBnjT/hcXguH7vgjx5qYt9eso/7lnqpGy5A7R3a5woHnV2Hwb/bm%2BBHxb8Tj4Z6nf6h4K8cqB5/gPx5YnTNUBP8AzySQ7LpTjIeB5FI5zXsdcl8YvgN8Gf2gvDB8HfGr4aaR4l08EtFDqlmrtAx/jik%2B/C/%2B2hVh612fWaNf%2BPHX%2BaNk/mvhf/kr8zH2c4fw3p2e3ye6/FHW0V84r%2Byt%2B058Bf3/AOyJ%2B03PfaTF/qvh/wDF3zdWsVXoI7fUEIvbZQOFDGdR/dxxTx%2B3rrXwmP2H9s39m7xX8OVj4k8VaZCde8PMOgc3lmpktweuJ4Y8DqeCaX1KVTWhJT8lpL/wF6/c5D9so/xFy/l96/Wx9F1V1vQ9E8S6TcaB4j0e11Cwu4jHdWV7brLDMh6q6MCrA%2BhGKx/hn8XvhV8Z/D6%2BK/hJ8R9E8S6a2P8ATdD1OK6jUn%2BFjGx2t/snBHcV0Vckozpys0018n%2Bhqmmro%2Bbda/4Jk/CHwvq9x4v/AGTPiD4t%2BB%2BtTyGaQfDzUwmkXMvYz6TcLJZSKPRY0P8AtVXHin/gqL8CD5Pij4b%2BBPjrosPyjUfCl%2BfDOulR1d7S7aSzlbH8Mc8WfQd/pqiutY%2BtJWrJVF/eV3/4ErS/FmnO%2Bup836T/AMFTP2YNL1KHw5%2B0Bb%2BLfg5q877I7H4r%2BF59Khc9yl7h7N191nOfzr3vwb468EfEXQ4/E/w%2B8ZaVrumzf6nUNG1GK6gf6SRsyn8DV3VdI0rXtOm0fXNMt720uEKXFrdwrJHKp6hlYEMPY14N4x/4JdfsR%2BJdbk8X%2BGPg8PAuvvyuv/DPVrrw5dI/9/OnyRI7dT86tyc9aL5fU3UoP5SX48svxYe4/I%2BgaK%2Baf%2BGPf2wvhxx8BP8Ago/4rmtY/mTSPiv4WsPEcbn%2B6bmMWt0B2yZGPrk0v/Cf/wDBVr4c8%2BKf2ePhF8Srcceb4K8bXmg3RHqYNQgmiz7efj3FH1OE/wCHVi/VuL/8mVvxDlT2Z9Jyu0cbOkZcqpIRSMt7DPFfFXhv/gpX%2B1n8XPivrfwE%2BF37D1loXivRsvLZePfH0VnN5BLCOZbVoY5J1KruJhaRQCvzkMrN6H/w8H8b%2BEf9H%2BNf/BPn46eHJk/4%2BLnRPDVt4is0HciXS7mZyB6%2BWOK%2BYv8Agpd%2B2X%2Bx58ePBvheX4QeJotC%2BKsPi7T7aw8VeKNB1bw5f%2BF7Tc7S3bzT20bmCNgquBvCiVnVSyg17mQ5fGpi/Y4jDqfPpGV3KMHq7tQn70dNdU/5bvR/PcSLMaGB%2Bs4eq4qnrKMVG802lZSalyyu1yu1rv3rLVfSX7CX7Gni39m74m%2BNPil8T/GPhWPxL48t4Zrrwn4ItZLfTrMRyO7yqszF5SXlwG2qFyw53cfT9fFH7BHgT4B%2BGvinqf7S3xH/AOChXgj4v/EjX9Fh05tQ0zxLZNBpsGEMkEKpOxfLIoD7IzgH5FLvn7Ut7m3vIFubS4SWNxlJI3DKw9QR1rgz6c6mYuUqnO7RTfI4K6VrRUteVWSTer3Nsiw0sLlypui6WsmouXNKzd7ya05m220tFsPooorxT2AooooAKKKKACiiigAoqprGvaH4dtDqHiDWrSxgXrPeXKxIPxYgV5l42/bx/Yl%2BHIceN/2uPhvp0ifet5/Gll534RiUufwFaU6Naq7U4t%2Bib/JMaTex6xRXzY3/AAVl/Yv1gm3%2BF3ibxZ4/uj/q7XwB8OtZ1Uyf7skNqYj/AN90h/bh/aM8a/L8Ef8Agml8VL8f8/XjvUNL8MwfXE9zJPj/ALY7v9mun%2Bzsavihy/4mo/8ApTX5Fckux9KUV81b/wDgrP8AEn7tv8EfhZZT93fUvFGo24%2BgFlblv%2B%2BgfakP7A3xZ%2BIX7z9pH/goN8WfEytxLpXhC5tfCmnyL3Rk06MXDL25uCcdSaPqlKH8StFel5P8El%2BIcqW7PpQSxtI0SyKWUAsoPIz0z%2BVeLfCvxX8QPhd8e/F/wf8AjR8WLzxDY32jQeKfCmtazaWlqILYSG1vbIGCKKMRwP8AZHBYFyLz5mY11H7Pn7KnwD/ZY0nUdH%2BBXw/TRU1i4SfV7iTULi7ub6VFKrJNPcySSysASMsx61oeJP2ePgl4z%2BKenfGvxn8NtN1jxPo1obbRdV1aI3J01CSWNskpZLd2z80kaq7AAMxAAERnh4SnHVxa0dle%2Blurtre%2Buwk4q580W3wS8TeJ/FPhL4OXHw71S/06z8R%2BIZJfHFnsbS9R8Jaut1PKpuUJAuWuPsT%2BXtO6SLfjaSw9I8B/sc%2BLtbn1Of8AaT8a6brkp8P6RpGj3vhuC4sbpJNOeSSLVmlMhaK9MkgP7s7E8sYzvYV9BdOlFa1MxryVo6fnve9%2Bl%2By0G5s534XfC/wt8IPCEXgzwkb6S3W4mubi71TUZbu6u7iaRpJZ5ppWZ5Hd2ZiScDOAAAAOiorzz41/tY/s4fs6xqPjL8YtE0S6lx9n0qS582/uM9BFaRBp5SfREPUVyxjWxFS0U5SfbV/gZynGKvJ2PQ6jurq2sbaS9vbiOGGJC8ssrhVRQMliTwAB3r53b9qL9qv44D7L%2Byt%2Byjd6Rp0vEfjf4xyPpFoB2eLTo917cKRyN4gB9R1p1t%2BwPc/Fa5j1v9tn46698UZFcSL4VjH9keGoGByoGn2zZuNp43XMkuR1Aro%2BqRpa15qPkvel9ydl85fIx9s5fw4389l%2BOr%2BSLPin/goD4P8AEevXPw8/ZE8Aap8Y/E1tIYrpvDEqxaJp0n/T3q0n%2Bjx9/ljMsnGNmaz4P2OPix%2B0TcR69%2B3p8V49a07eJIfhV4Jeay8OwkHIF1ISLjUyCAf3pSLIP7rBr6C8MeFfDHgnQbbwr4M8OWGkaZZRiOz07TLNIIIE/upGgCqPYCr9P63Gjpho8v8Aeesvv2j/ANuq/wDeD2Tn/Ed/LZf8H5/ceGfH7w54e8IfFL9mfwx4T0Kz0zTbH4wXsNlp%2Bn2yQwW8Y8E%2BKMIiIAqqPQACvc68Z/ag/wCS3/s4/wDZZr7/ANQrxRXs1cTbbuzfYKKKKQBRRRQAUUUUAFFFFAHyr%2Bwt8UvDUPxZ%2BO2nQ/C/4i6FaeIPjLb33ht9b%2BD3iHSbW6sm8O6JYrNHJdWEUYjFxY3KE5AQRhmwjozcR%2Bwp8P8A4g6X8YfhT4Y1b4UeKND1D4T/AAz8Y6D8Ste1nw1dWVnqep3%2Bs6XNC1rdSxrFqa3L2d3fedbvKsYceYUkmK19w0UAfPH/AAUL034rz%2BD/AAZqPhzxp4etfC0Pxh%2BHo17Rr3wxPcaheOfGejeW1veLexx2wVtpYPbTFgCAUyCNrxyn7c/wy8Y6l4s%2BH8vhf4neF7u7eeHwjqAGi6tp0ZPENtdruguFUf8APdUY9N/ep/28P%2BSIaH/2Wb4cf%2BprolezVpSqezeyafRr/hmvkzGvR9tFJScWtmnb/NP0aaPEvBv7fPwK1PX4fAvxYOrfDHxPMdqaB8RrA6aZm6fuLliba4BPAMcrE%2Bgziva4ZobiFbi3lV43UMjo2QwPQgjqKzfGPgjwZ8Q9Bm8K%2BPvCWma3plwMT6dq9jHcwSf7ySAqfyrxaX9gnQ/AEz6l%2Byj8afF3wrn3F10nSr3%2B0dEZz1Ladeb41B/6ZGL2Ira2Eq7Nwfn7y%2B9e8vuZzXzChulUXl7svud4v5OJ77QQCMEZB6ivAR8Q/wBvr4Qfu/iF8EvDPxR0uLrrHw91T%2BzNSCDqz2F8xjdyOcR3H0Har/hv/goX%2BzJfavF4W%2BIniXUfh1rkpwNF%2BJWjzaLLn0WS4Agkz22SNnt1FDwddq8FzL%2B67/gtfwGsxwqdqjcH2muX8X7r%2BUix8Sv%2BCf37K3xJ8QN45h%2BHJ8LeKDkp4t8B382iakrn%2BMzWbR%2Baf%2Bugce3Fc6Pgb%2B3p8IRn4K/tZaV4706PiHQPjD4fBnCeg1PThHIW95IJPfNfQOlatpWu6fFq2ianb3lrOm6C5tZlkjkX1VlJBH0qxVRxuJiuWb5kuklzfnqvk0dHsaT96OnmtPy0f3HzuP2xvj/8Nv3P7Rv7CvjWyiXhtd%2BG91D4nsmA6yGOHy7uNe%2BDASPfrXvuga3ZeJdBsvEempOtvqFpHc263Vs8MoR1DKHjcBkbBGVYAg8EAirE88FrA9zczJHHGhaSSRgFVQMkknoAO9fOPjH/AIKufsK6FqN54Ys/jjNf3UKtHLd%2BG/D95fxwOcgFZY4Hic55GCynHPFa0sLiMydsLh22t%2BXmkvu1t9%2BpzYjG4PLkniq0Yp7czSv6d/uPTvgp8TPiB458a/ELwv4y0vRkt/CXipNM0y%2B0eSXFxG9nBd7ZVk6SotxGrFTtJzgDGKi8B/tLeHPG7a3qc/gfxBomgaHJqAl8Xa1HapplwllM8VxKksc7siK0cnMqR8IxxgV8r/BP/god%2BzR8CrbXrPxF%2B0nquqXHiDxBd6wD4o%2BFF/Z315NNEiqoe0TymUNHHg%2BSp2DbjIBryzW/iV%2B0J%2B0xfeKfC37Gn7LKeHbHxbo8UHim90rRpo9HnaOeS6nvd11b2ay3sykQrE6YYO%2B%2BRt25PYXDuLlUm6tP2cNPel7sVtzP3nr1slfXS2p5n%2BsWW8sVSqqpJ/Zj70nfZWS06au2mt7H6LeEvjv8IfG/g%2B88faB4%2Bsf7H0%2B5MGoX18zWi2sg2/LKJwhjyHQjcBuDqRkMCeb%2BJv7bX7JHwdsvt3xD/aH8KWWU3rbQ6slzcOvqsMBeRh7hTXxNJ%2Bwzo8fjPw/8e/8AgoJrvjHxVpfiDxLqE%2BvweI/MVAYbIQ6eJrPT2ZYGlKuwUO6qIYIifmKn6f8A2Iv2K/gn8FvgvoHiPWf2ePDmleLJ7aS%2BvpZtFjlvLHzZXmjtvMcM6mKN44iAckx85PNc9fA5LhVzyqzqLtFRSb6pSk29Lavl6rQ3jic6xCSp04U3/fcpNL0hZX8ua2%2Bplj/gqJ4H8aHZ%2Bzz%2BzZ8WviKjf6rU9D8GyQWDDsTPcFCufdazPDX7O37QH7anjqx%2BLn7alvceE/B2hayl94P%2BD1hdo5aWI/u7vU54/wDWvnJES4ABx8uWV%2Bwi/wCCov7E9pItr4y%2BKGoeE7jID23jLwhqmlGM%2Bha5tkT8mNdv4T/bO/ZD8dhR4O/ai%2BH2ou/SG18YWTSD2KeZuB9iKcq9bBRbwmEdNvTnfNOSXWz5eWLa0vFXts1e5msBLFyX13E%2B0infkSjCLa2uk3KSTV7Sdr2bTskQ%2BM/2If2M/iIXfx1%2Byf8ADfVpH%2B9PfeCrGSXPqHMW4H3Brgbj/gkb/wAE7Xme50r9myy0aRzkv4a13UdKOfb7HcRY/CvoXSdb0XXrUXuh6va3sJ6TWlwsin8VJFWq8iGNx1JWjVkv%2B3pflf8AQ%2BhU5W0Z82/8OufgZpvHgb4y/G7wwo%2B6mhfG3XUVfoJbl/1o/wCHct/bcaP/AMFAv2krMDoP%2BFjQXOP/AAKs5c/jX0lRVf2jjus7%2Bqi/zix88%2B582/8ADBnxmtONI/4Ka/HZAOn22fQrg/m2mDNH/DE37TacQf8ABUT4tAf9NNB8PMfz/s6vpKij%2B0MV3X/gMP8A5AOeX9W/yPm3/hiP9pSXi7/4KhfF1h38nRfD0Z/MadR/wwF8Ur0Y1v8A4KX/ALQMnqLHVdEts/8AfOlnFfSVFH9oYvo1/wCAw/8AkA55f1b/ACPm0/8ABN6C6/5Df7dn7SV6D94f8LWe1z/4CQxY/DFH/Dqn9l3VP%2BR88S/FXxVn73/CRfGfxDKG%2BoS8QGvpKij%2B0cd0qNell%2BUUHPPufO%2Bj/wDBJv8A4Jy6Pdi/b9krwvqU4/5beIEm1Nj9TdySZ/GvTfBP7Ln7M3w0ZG%2BHP7O3gXQDH/q20XwlZ2pX6GKJa7usvxH458E%2BD4jP4t8YaVpaAZL6jqEcAx9XYVE8Xja%2BkqkpeV5P8L/oS5ytqzUACgKoAAHAFFeReLv2/v2IPAwYeJf2tPh7DIn37eDxXazyj/tnE7P%2Blcwf%2BCnP7Lesfu/hkPHPjmb%2BGHwX8NdYvt30kFsIz%2BD0RwONmrqnK3o0vvdl%2BJi69BOzkvv/AOHPoSivnv8A4bI/aA8W8fCP/gnb8TLwf8/HjPUdL8PxfXE1zJLj/tnn2pDq/wDwVE8dfPYeDfgz8PbaXgjU9W1HxDeQj12wx2kJI/3yPaq%2Bo1Y/HKMfWUfyXMxe3g/hTfon%2Btj6Fql4g8SeHfCelya54q16y0yyhGZrzULpIYkHu7kAfia8H/4ZF/aa8ccfGr/goV42lgPJsPh5oGn%2BHYwe480JPcY/7ag%2BhFXNA/4JofsbafqkfiLxj8LJfHGrIctq3xG1q71%2BZ2/vEX0skYP%2B6gFHscHD46t/8MX%2BcuVfgHPWltG3q/8AK4viX/gpV%2Bx/peqyeGfBHxIn8fa0nC6J8NdGudfndv7u6yR41P8AvOorPP7Qv7cXxWPlfA/9jCHwpZS/6nxB8YfE0doVHqdOsPPnJ9neP8O3vPhvwt4Z8HaTHoPhDw5YaVYwjEVlptmkESfREAA/AVfp%2B3wlP%2BHSv5yd/wAI8q/FhyVZfFK3ov1d2fOx/ZE/aN%2BK/wC%2B/ab/AG2PEktpJ80nhf4W2KeG7EZ%2B9G1wrS3syY4/1yZ9OufQvgr%2ByH%2BzR%2BzxI158H/g1oukX8uftGtG3NxqE5PUyXcxeeTPP3nPU%2Btej155f/G/X9E%2BKWneCPEnwn1DT9H1rWJNK0fxDPqNs32q7W3luP%2BPdGLrEyQS7XJ3EocoowaTxOLrxcE7R7K0V9ytf53IksPQalLdu13d/jrb8D0Osrxh438L%2BAvDV/wCLvFeqi2sNNjD3sqRPKyAkAAJGGdmJYAKoJJIABzXhvxD%2BLXxK8KfEjxZ41HxAnh0vwd4l0izu/CUttB9lm0i8it0kuw4j87zRLP5gfzNqrCybOpPl3hj4bnUo7X4HfDfbpHjsaTfR%2BMIzbGJX1LTLxbrTdXuwoAkM9wFPn4PnJLKuTtwLp4JNc05aaf5u/wAmtddzirZm4ycKcLvVa9Xqlbvqno2nZfd9e%2BAfiL4R%2BJuiNr/g7UnnhjnaC5intZLee2mUAtDNDKqyQyAMpKOoYZGRzXm/xO/as8RaN44v/hL8D/2ePF3jzxNpzIl9Ilr/AGZo9k7osiibUboLGTsdWxCspwcYzxWp8CPDnjuPx/46%2BJHi7wPdeGIvE95p8keiXWpW9yWuLe0FvLdhoHZVEipBGASGK26syqWKj0%2BsH7GjVd1zL16%2Bdt7baNHUvrGIw6tLkd3d21tdrRS2vo9U7dtjwH4w3Hjy68efsw3PxP0zS7PX3%2BL16dUtdEu5J7WKX/hCvFPyxySIjMMY5KjnNe/V4z%2B1B/yW/wDZx/7LNff%2BoV4or2asG7u51xXLFK9wooopDCiiigAooooAKKKKACiiigDxn9vD/kiGh/8AZZvhx/6muiVN4ytf22PBHivUPEfw/wBT8G%2BO/D9xdPNb%2BGNYhk0fULOIniCG7j82KXA/iljUnu3rD%2B3h/wAkQ0P/ALLN8OP/AFNdEr2SOWKUExSK21ip2nOCOo%2BtXCfI9k/U5sVhliYpc8oNapxdn%2BTTXk00eIw/t0%2BB/CMq6d%2B0b8NfF3wxutwRrrxJpBn0x39E1C082Aj3dk%2BnSvWvBvjzwP8AETR08Q%2BAPGOl65YSfcvdI1CO5iP/AAONiK1JoYriJoJ4ldHUq6OuQwPUEHqK8l8Y/sNfsz%2BK9YfxVpfw/wD%2BEW11sldf8D302jXit/eL2jIHP%2B%2BGq70Jbpx/FfjZ/izi5M5w/wAMoVV/eXs5ffHmg/nGJ65VHxH4X8M%2BMdIl0Dxd4dsdVsJxiay1K0SeGQf7SOCp/EV45/wpD9rv4cfN8Iv2rovEVnH/AKnRfij4eS7JHob6zME34sr/AI9/SfhJqnxf1XwxI/xt8IaJo%2Bsw3jxLH4e1eS8tbmEKpWZWkijePLFhsYEjaDnnAUoci5oyT%2B9P7tzahjJ15%2ByrUJwduqUov/t6La%2BTSv2PMtU/4J1/s222oS678JbPxB8M9Tmbc998NfEdxpKk%2B9ujG2YezREdulVL34W/ty/Caym1PwP%2B1v4a8W6baRM7WfxT8KLA0USjJZr7TmiPAByzwtjqc1u/E/xzceH/AIz6Zc%2BE/infJFZzLL43sLqaD%2BxdJ0pIpWea4ldB9nmZvLCASBmzkoUViPhK08J%2BEf2rf%2BCiWu%2BEPAPxS8Z%2BNPhF4u1Ga71WI%2BLb3TNH%2B2hDJcWytg/akBD%2BWsYXh1AIRC9e7luGq42E54ipaEI3bcOfr8N21ZtaxvLXoj5zNMxweX1I08PR9%2BU%2BRKM%2BTVrSVo3TinpP3Pde7u7EfwU0v44/tbz%2BIfjJ%2B2F8Mvin8YfBDa3LZ6I/w68TJa6RJHEzLIYdOZ7SaeIkqFlQAnYwYFga%2Bxfht%2B27%2Bw/8IPDth8NJbe/%2BE9vZxrDa6F4x8F3uiJEAMDMksIiYnHLeYSepJzmu3%2BFnxn%2BFXh2G0%2BGfhfwRd%2BG/CmlaZexeHNWnEEenT22muILgR4lMkapjIaRVEiAupbBrs/A/xI%2BHvxi0i8k8MXT3tvbyiC9ttQ0ua3ZSyK67oriNGKsjKytgqwOQSKWaZq8wqNSpuNJfDGLskrWXupcvM7a6btm2TYClg4J0cRGdaV%2BaUo3lJ7u0m1PlV9OlrPXo7wL8X/hL8UbcXfw1%2BJ/h7xDEV3CTRNaguxj1zE7V0deT%2BOv2FP2OfiRcG%2B8V/s2%2BEXuy2439jo8dnck%2BvnW4STPvurnf%2BHf3gbQPl%2BE/x8%2BL3gqJf9VaaJ8RLq5tkP8A1xv/ALQmPwryOTBy2m16xv8AjF/oe/7TMYfFTjL/AAya/CUf1PeqK8GHwB/bY8M8%2BC/28F1OKP8A1Vp41%2BG9jdbh6NNZvbP%2BOCaPt/8AwUx8OfPc%2BHPgp4riTqtnqWq6PNIPYSR3KA/8CxR9Wi/hqRfza/NfqH12cfjozXolL/0mX6Hu8sUc0bQzRq6MMMrDII9CK4jxZ%2BzF%2BzX49LHxz%2Bz34H1kv986r4Ts7gn8ZIzXn/8Aw0V%2B2ZovPir/AIJ931zGv%2Bsm8LfEnS7z8Qlx9mc/TFH/AA3NqGnfJ4s/Yt%2BOemsv%2BsaHwRHqCD6GyuJiR%2BFXDD4uDvTf/gMl%2BkkJ5hgmvfuv8UJL84MNW/4JgfsA6tcm9/4Za8M2Mx6S6JFLp7D6G1ePH4VV/wCHZX7Munc%2BDNT%2BI3hsjodB%2BLWvQ7foGu2A/AVb/wCHj/7M9h8ni9fHPh1%2B8evfDDW4Nv1ItGUfiaktf%2BCl/wCwjdTC3l/aW8P2kh/5Z6n51ow%2BomjUiujnztLeb%2B9//JGX1vJr/HBfNL8%2BUoD/AIJ9Wlrxov7Z37QVkB90D4oS3OP/AAKil/Wj/hh/4nWP/ID/AOCiHxwi9BfX%2Bj3WP%2B%2B9OFdfpv7c/wCxbq4H2H9rP4cEnosnjSyjY/g8oNbdl%2B0/%2BzVqQB079obwNPnp5Pi2zbP5S1DxGZr4k/nBfrTNo1Mul8M4/Ka/%2BTPNv%2BGR/wBp%2B3407/gpP8RVA6fafC3h%2Bb%2BdiKT/AIZZ/bGXiL/gpl4wA/2/h34cb/2zr1yD42/Bi6GbX4u%2BGJB/0z1%2B2P8AJ6sL8Vvhc4yvxJ0A/TWIP/iqj63jFvFf%2BAR/%2BQNFHCvaX/k3/wBseN/8MrftgycXH/BTHxmR/wBM/h/4dT%2BVnS/8Mf8A7SF1xqn/AAUj%2BJzg9fsmg6DB/KwOK9if4tfCuIZk%2BJnh9R6trMA/9nqpc/Hf4H2YJvPjL4UiA6mTxFbL/N6Fisa9or/wCP8A8gDWFW8v/Jv/ALY8n/4YV8cXnza3/wAFBvjzOe62uv6Xaqf%2B/WnAj86P%2BHePhq848QftYfH3U1P3o5/i3ewo31W28oV6JfftXfst6WCdS/aT8AW4HXz/ABjYpj85awtU/b6/Yi0gE3f7Wfw9bHUW3iy1mP8A5DdqtV80l8Kfygv0pmUquWw%2BKpH5zX/yZzH/AA6%2B/Y/vvn8V%2BG/FviCQ/efxB8S9dut31VrzYf8AvmtTw5/wTX/YG8LyibTv2R/As7g536poMd8xPqTcB8mq7/8ABTT9hguY7D9oCw1FgcbdH0u9vT%2BAghfNN/4eJ/A7UuPBHgX4o%2BJifu/2F8KNZfd9DJbIKtyzpqzc0vVr9YmSxeTp6Tg/Sz/JSPU/CPwV%2BDfgAqfAfwl8M6IU%2B4dI0G3ttv08tBiumrwY/tqeOtY/deCP2E/jPfyH7japo1hpcR%2BrXV4rD8Vo/wCF4ft3a7%2B68PfsL6XpG/7tx4q%2BKlouz3aOyguM/QNXNLDYmTvNr5yX/wAk2arMMIlaCk/SE3/7ake80V4N/Zv/AAUw8S/urvxR8FvCcT9XsdM1TWJ4x7GSS2Qn6rSf8MvftSeKP3XxJ/4KB%2BKvIb79v4J8I6Xo%2BP8AdkeO4lH/AH2an6vTXxVYr0u/yX6j%2BuVZfBQm/Xlj%2Bcr/AIHvVcJ8RP2of2bvhIJB8TPjx4R0OSPO621HxBbxzE%2BgjL72PsATXAf8O5/gFrnz/FjxJ8QPHz/9Tn8Q9SuY/wDvzHLHDj22Y9q7v4d/sp/szfCUxyfDX4A%2BD9FmjxturDw9bpPkdzLs3sfck0cuDjvKUvRJfm3%2BQc%2BZT2hGPrJyf3RSX4nBn/gon8GPEfyfBXwD8RfiO3QSeDPAl49vntm5uVhgx/teZj3o/wCFt/t9fEL938P/ANlPwx4Kt25j1L4j%2BNBcSbfU2mmpJg%2BxmX0OK97oo9tQj8FNf9vNv8PdQfVsXU/iVn6RSj%2BL5mcN8EfC3x98PWeoXXx9%2BLOi%2BJb29ljezttA8MnTrbTVAbfGhaaWSYMSDucgjb05rK%2BJ3wr%2BL/jH43eG/HXhXxl4c03RfD%2Bl3CRx6lo095dC7nkRZZYws8Uan7OhjV237fNkOw5Fdh45%2BKnwx%2BGNn/aHxI%2BIuh6BBt3CXWdWhtVI9jIwzXl8/wC378CtYlaz%2BEWm%2BLfiLcoxVovAnhO6vIgfe5ZUtwPcyYpQdeU3UjHfy07eS/EwxOJyvCwVCvWSaadnO83Z32XNN/8AgJ3esfAX4b%2BLNY0vxP470Ya3q%2BkS%2BZaapeYjkOJBKiusARJUR1VlV1YKVB6812deHn4m/tyfEP5PAP7OfhvwRatymo/EPxN9qnKnv9j08NhvZp198Uh/ZZ%2BM/j/958ev2v8AxXfQty2i%2BBbaLw9Z4PVGeLfcyL25mGf0pSg2l7Sa0%2Bf4LT8TOGPcm/qmGnK/VpU0/VztJ/8AgDPQ/il8ffgn8E7P7b8WfinoegArujh1HUUSaX/rnFnfIfZVJrzr/hr7xt8Rv3H7NH7MvizxRE/%2Bq8Q%2BJIv7A0kqekiyXa%2BfMvtHCc%2Bvp2Hwu/ZO/Zy%2BDN5/a3w8%2BEOj2mpFtz6zcwG6v3buWupy8xP1evQ6nmoR2Tfrp%2BC/zL9jnGI/iVY0l2guaX/gc9F8oHgnxok8by/EH9mOT4kWulwa63xfvTqcWiTSSWiS/wDCFeKciJpVV2XGOWANe914z%2B1B/wAlv/Zx/wCyzX3/AKhXiivZqybu7nqQjyQUbt26vd%2Bu2vyCiiikUFFFFABRRRQAUUUUAfLvwG/bG%2BNvxA%2BMXhaTxtpnhZfAfxM1rxdpngqz0vTbmLVdLk0W7lihkvLh7l4rpbu3trmYrHDAbdvLjzPkyC78K/2p/i7rv7aXiv4G/FjxNonhnRbfxPc6b4A0C/8AhPrdpc%2BJ7aLS7e7Nxa69PdjT7uRXa7LW8EDSCO1ckAIzjovB37BngbwF8SZviN4X%2BLvjeAW11rN14U0J59OlsPC0%2BrXq3mpS2KPZF2aeUOP9JecQpNLHAIVfFb99%2By1B4i%2BOWi/Gvx78b/GviKHwtrVzq/hHwdqR0yPSdFvprO4smni%2BzWUV1MVtru6jQXNxMqidiBuVGUA4z/goX8XPhR4a8H%2BDPhR4j%2BJ3h7T/ABT4g%2BMPw9l0Hw1e61BFqGpJH4z0ZpGt7dnEkwVVYsUUgBSTjBrtfF/7Ifwp8Q%2BJb3x14Xv/ABD4P8QahO019rXg/X5rKS4kPJaSPLQyknrvjOe9Zf7eH/JEND/7LN8OP/U10Sum8RfFb4n%2BD9du4tZ%2BAeq6jo0c7C01Xw1qEN3K8eflZ7ZjHIpx1C7/AMayrV6dBJzvbyTf32Tt9x5uZUsuq0orGU%2BaKej5ZPldt7x96OnVNdrnOf8ACF/tofD7nwl8XvDHjuzXpZ%2BMtHbT7sKP4RdWWUZvdofr60f8NQ%2BPvB37v41fsteM9GVfv6l4bSPXbJV7sWtT5yj/AHoR710WiftR/A7V71dIv/G0eiageG07xLbSadMp9MXCoCfoTXe2l5aahbJeWF1HPDIMxywuGVh6gjg0qWIoV1enNS9Gn/wV80jgoYWFRXy/Gy06OUasV6qfvr/wNHAeBv2sP2b/AIjXX9neFfjHoj3u7adNvrr7Hdg%2BhguAkmf%2BA1u/F34w/Dr4F/DzUfij8T/FFrpej6ZbNNLcXEyqZSFLCKMEjzJGxhUHLEgCuF/bg1D4SeCv2cfF3xQ%2BJfhfwfey6NoVxJpD%2BMNMW4t3vdhFvERgud8pRQEwxzxjrXzL%2Byh/wSt8A/F/4O%2BGvjd%2B0F4u8YHxJq1qmp2GifZreys/D7P8wjhspI5U9Dlx8w2kopzXt4PA0JYZ4vFScaSly2SvKTte0b2S03k20r7N2Ry4nMeIaGK%2Bp0qdOrUcHK6coKKvypyUuZavZKSvbe12tP4BfsNXn7ZVpP8AtMftUNcaL4e8a3x1vSPhN4eLWlkFdiYLzUCCTdXDoVckgfeGeCY1%2BnR%2Bzhp6%2BINESHxjcweFfDmpR6hofgyz0qzt7SynjRliCPDEr%2BUm9mCEk7tvzYGDjp8Lf2vvBiAeCf2lNF8RQRjbDYeNvB6KQo6A3FjJEfxMZ/Gl/wCFo/tgeFP3Xi/9mHSPECJzJe%2BCvGkYJHqIL6OE/hvJrPG5niMZU/lgvhivhittF3tZOTvJ9X0WGCoZdl9Llr4WrGbs5T5HPmd73bpSkrc12o8qiv5er5DWv2Vfitc/C288JaxqOmakuieHn0vw5Y6bMyS6pG9yJbp53lCJDNPAvkbQSimR2L4IC%2Bn/AAb8N%2BLJfGPi74s%2BMtBudHn8S3VpDp%2Bi3k8Uk1pZ2sJRPNMLvH5jyyTvhHYBWQbjiuf/AOGz/Bmi/wDJS/hL8R/CSr/rLjWPBVxNAp/662YmQ/XNbPhb9sD9lzxlIINC%2BPXhczE4FteatHazZ9PLmKPn2xXJKvOcWmdOErcOUsTF08SlJfZlJRbaTS0moS0TaStb1au6vxG%2BPnxV%2BHPjK80sfsm%2BMfEXh%2BHy/sniHwtf6fctcZjVn/0WS4jlTaxZehztyOtYf/DfvwR0f5fiT4Y8f%2BDG/wCpo%2BHmpQoP%2B2kcMkePfdj3r2bTdV0vWbVb/R9St7uB/uzW0yyIfoVJFWKSnStZw%2B5v/gnrSw%2BYuTnRxOj1SlCMl6JxlF27b%2BrPLvC37bf7IPjJhHoP7SngxpGOFgutfgt5SfTZMytn8K9C0LxT4Y8UQfavDXiOw1GLGfMsbxJlx9UJFUvFPww%2BGvjgMvjX4eaHrAYYYappMNxn6%2BYprz3Xf2BP2MPEE/2q6/Zt8K2suciXSdOFiwPqDbFCPwp/7O%2B6%2B5/5E3zyHSlP51IP8po9eorxIfsBfA3TOfA/iX4heGD2/wCEf%2BJerxAfQPcOB9MYo/4Y68U6d8/hf9tH4x2bD7q3mv2d8g%2BoubR2P/fVHJRe0/vT/RsPrWbR%2BLCp/wCGrH/26MWe21Fd2VnfxG3vrSKaM9UljDD8jXi//DP37Wdh8ujft66s6D7q6x8PtJuMfUxpET%2BdH/Csf28tM5sP2rfBWp46DU/hg8WfqYb/APpR7KHSa/H/ACD%2B0cUviwlT5ezf5VEek6l8HPhFrJJ1f4V%2BG7onr9p0O3fP/fSGsS9/ZR/Zb1Ik6j%2BzZ4AuCevneDrF8/nFXI/2X/wUZtPli8afBe%2BA6NN4d1aBj/3zduP0o8//AIKOQ/8AML%2BCVx/2/wCsQ5/8hPWi9rHaqv8AwJmMsbQl8eEqf%2BCov/25m5P%2BxB%2BxhcndN%2ByR8MyT1I8C6eD%2BkNV2/YM/Ylc5P7JPw5/DwdZj%2BUdZf9t/8FF4f9Z8OPg1N/1y8Xaqv/oVjR/wlP8AwUMXg/Bv4Tt7r441AfzsKvnxS/5ff%2BTv/MzeIy574Of/AIINWP8AYP8A2Jozlf2Sfhwf97wZZH%2BcdW7b9in9jezO61/ZM%2BGkZH8S%2BBNPB/Pya5//AISf/goc/C/B/wCEqe7%2BN9RP8rCj%2B1v%2BCjM33PAfwWg/66eKdWc/pZD%2BdDninvW/8nf%2BYLEZetsHP/wQjtLH9mH9mrSyDpv7PPga3x08jwlZpj8oq3dM%2BGPw20Qg6N8PdDtCOhtdJhjx/wB8qK8u3f8ABR2b/lj8Erb/ALa6xPj/AMdSj%2Bwf%2BCid/wDLc/Ez4PaeD/FZ%2BEdTnYf9/L1QfyqGqkviqL/wJs1jjaMfgwlT/wAFxX/t6PbEjSJBHGgVQMBVGAKWvEv%2BFR/tzah81/8Atj%2BGrDPVNL%2BFaNj6NNet/Kj/AIZw/aZ1P5PEv7e3ioxnqmjeD9Gs/wAmNvIw/M1n7KHWa/H/ACNf7Qxb%2BHCVPm6a/ObPbaK8SP7Ftxe8%2BJP2u/jVqBb7yr42SyU/QWcERA/GqcP7Cn7JGsavNofid9c8T6nbxrJdW2v/ABG1S8mRG6M8TXWAD6leaOSgt5/cv82S8Xmrslh4xv8AzVY/%2B2wZ674m%2BJvw38FKzeMviDoekhfvHU9Whgx9d7CvPNe/b7/Y08PXP2K4/aL8NXs%2BcCDRLw6i5PoFtRISfYVW%2BF37Lv7BF7DNe/C34LfDfVhZXBhnurXTLS/aGUAEqZGDlWwfXNes6D4V8L%2BFbb7H4X8N2Gmw4x5VhZpCv5IAKP8AZ13f3L/MVOec4iClCVFJ9Vz1PxvGLPIP%2BG6vBOs8/Df4H/Ffxajf6u40f4e3UELf9tb0QIPxNH/C8v2w/FHy%2BCP2KxpcUn%2BqvfG3j2ztto9WhtFuX/DINe3Vm%2BIvGPhDwhb/AGvxZ4q03S4sZ83Ub6OBcfVyBR7Sktofe2/8hzwuO5eavi3Ff3Y04L75c7/E8i/4RD/goH4xGzXvjN8OPBUR5x4Y8K3Oqzj28y8mjT8fK/A0f8MZap4o/efGL9qv4o%2BJy/8Ax8WVtr6aNZyj08nTo4Tj2LmtvW/23f2UtEu/7PHxt0jUrntbeHzJqcjH0C2iyE1S/wCGtb/X/wB38M/2Z/iZrzP/AKi5n8Prpds/v5t9JEce4U0e3qL4bL0S/wCCzypVeGnLlqYh1n29pOr/AOS07r8DQ8D/ALFH7KHw7vP7U8NfAbw819u3f2lqln9vut3r590ZJM%2B%2B6vT4YYbeJYLeJURFCoiLgKB0AA6V5B/wl37cHi3/AJAPwc8DeEIv%2BenibxPNqU2PXyrOJEz7eb%2BNJ/woj9ozxb/yUn9rvVLWB%2BZLDwN4dtdMC%2BwnmE8uPcEVnKc5u8m36nZh8XRoQ5MBgp28oRpR%2B%2Bbi/wDyVs9c1DUtO0izk1HVb%2BG1t4lzLPcShEQepYkAV5j4h/bU/Zs0TUW0LS/iPF4i1McLpXhC0m1adm/u4tFkCn/eIqjY/sX/ALM8eswv450e58YawVMiTeOPEFxqksgHVhFcSNHj6IBXd/D7WfhRDNc%2BCvhtDptn/Z7ES6fp1gLaNdrFGKAKquAw2kpkA8Eg1k6kFJJtXZo62dVZKLdKjfRXbqS9LL2cL29Tg/8Ahen7RfjobPhN%2Bytf2EEnEerfETWItMRD6m2h86cj2Kof5UH4LftNfED5/ix%2B002i2sn%2Bs0f4b6Ollj2%2B2XJlmP1UJ/h6rr/ibw34VsjqXijxBY6bbDrcX92kKD/gTkCuEuf2rPhRdzvY%2BA/7Y8X3SNhoPCejTXij6ygCED3L1lVxWGoO1SaT7X1%2B7V/gYV8LhKbtmGLlNv7PMoJ%2BkKVpP75HIfHDwtZ%2BCviP%2BzL4U0/UL%2B7hsfjBexpc6pfPc3En/FFeKDuklkJZ2OepNe8V4X8e9Wvdd%2BKH7NGsajoF1pc9x8Yb55NPvWQywH/hCvFHytsZlz9Ca90reMlKKa6nv0lTjSiqatGytvtbTfXbvr3CiiimaBRRRQAUUUUAFFFFABRRRQB4z%2B3h/wAkQ0P/ALLN8OP/AFNdEr1Ky8b%2BDtR1WbQrHxTp8t9bymKezS7TzUcHBBTOf0ry39vD/kiGh/8AZZvhx/6muiV6b4l%2BHfgTxgD/AMJR4Q06%2BYj/AFtxaKXH0fG4fga4sb/aKgng%2BRu%2BqnzJNeThdp36tNeRMuboXdb8PaB4msm0zxHodnqFs33re%2BtklQ/VWBFfL37UXi/9kn9nDXLfwh4I8NeIJviTrIzofgr4WajPb6hcsR8ryRwt5UEXcvIn3QxVW2kVl/tHeIvinH8fLX9kf9jLxNdeGdZHh9Nc8XeLNW1x5tO8Pac8xhUJbS7/ADLhjgquQACvGCWTu/2c/wBjHWP2VF1DXPh7rui%2BLfEGuyGbxD4s8V2841XU3JBO65EkhCZ5CAbehOTljV8PhMPGvnODc6js40qUoVJuDvapJp06kKbaaSSdSVnay1Pm8bz5rWlSoUV7rcZVZRT5WrXjD4XKSurvmUY315noeUeFv2Of25f2gvEPh/4h/tV/ETRLLSfCmpDVPCfw41cf2sv2rGEfUZ4BAszx/wAO3eOTwAWDfSX/AAmX7UXhv5df%2BDWgeIUHW48M%2BJDbvj/rldooz7eZWt/wsb4i6R/yNPwV1FkHBn0LUIbwH3CMY3/Slj%2BP3w1hcQa/f3uizE4MWt6XPbY/4E6bf1rzsbxTlGLlBVMQ8MoK0YSU6UYq99q0LNt7ydRyl1eitthcmw2Bi/Y1qkZO15OV3Kysr88WtFokrJLRdzI/4ad0LSePH3wv8b%2BHAvElxfeGpLiBT/11tfNXHvxWr4c/aR%2BAnitxDovxc0FpicC3uNQSCXPp5cpVv0rpNF8ZeEfEgB8PeKdOvs9Psd6kn/oJNM8R%2BBPBHjCMxeLfB2laopGCuo6fHOMf8DU11UZ4itTU6FaFSPeyt/4FCTR3KnmkF7lWE1/ei1%2BMJfoaNrd2t7At1ZXMc0TjKyROGU/QjrWV4p%2BHXw%2B8cRmHxr4E0bWEIwV1TS4rgEemJFNcjdfslfAF52vNJ8CnR52ORPoGpXFgyn1AgkUfmKj/AOGedd0r954P/aI8e2DL9yO91OHUIh/wG5idj/31WvtcdH4qSf8Ahkvykl%2BZNSeOlDlrYeM15Ti1904oo6l%2Bwx%2Byhf3bX9p8GrDSrhv%2BW/h65n01h9DayR4qD/hj6x0z/kS/2iPitoar/qoIPGb3cSewS8SYY9q1f%2BEI/ah0b59I%2BOug6vjpFrvg/wAvP1e2nT9FFH9tftbaR8974D8C60o7adr11Zu34SwOB/30aPrjXx0pr5X/APSZP8jy3gMmTvLASg%2B8YW/GjUj%2BRlf8KS/aj0n5fDf7Zt1PGv3IvEXgWwuuPQvB5DH65o/sz9vPSP3dt4s%2BFOtovR7zR9RsJG%2BpjmmUfgtav/C4PjXp3zeIP2W9Y2D7z6P4isLv8laSNj%2BVL/w0rb23/Ia%2BB3xHsQPvM/hRp1X8bd5BR/aGFXxNr1jJf%2B2i9llMPhr1qf8A2/WX/pcJoyf%2BE%2B/bY0X5dU/Z08Gazjq%2Bi/ECSDP0FxZj9SKP%2BF%2BftFaf82v/ALE/iIIOr6T4s0q6/IGaNj%2BQrW/4a3%2BBsHy6vrmq6a/dNT8MX8GPqWgx%2BtWbH9q79m7UDth%2BNPh9D6XN%2BsOPr5mMU1mGAbt7WP8A4El%2BbQ1PDXtTzNrylKi//SoRZgf8NZava/LrH7JvxctiPvGLw3bXK/gYLlyfypf%2BGzvBNv8A8hr4QfFPTh3N58NtRwPxSNgfwrt7H43fBjU8HTvi74YuM9PJ1%2B3b%2BT1rWnjPwff4Nj4r02bPTyr6Ns/ka3jXoT%2BGafo0/wAmdUIY%2Bf8ADx8Zf9w6T/8ASaiPMv8Ahun9nWHjU9W8S2Ld1vPAOsJj8fspFH/Den7KC/6/4ptD/wBfOgX8X/ocAr12KeGdd8EyuPVGBp1am3sM96Yim/8AuE/0qnj/APw31%2Bx8Pv8Ax10pP%2BusM6/zjFKP2%2Bf2OD/zcFoH4yuP/Za9fpCqnqAfrQHsc/8A%2Bf1L/wAFz/8Alp5Cf2%2Bv2OB0/aB0E%2ByySH%2BS0f8ADfH7IR/1fxu06T/rlaXD/wDoMZr18ADoKKA9jn//AD%2Bpf%2BC5/wDy08g/4bz/AGVm/wBR8SLqf/r28MalL/6Bbmj/AIbk%2BA0//IIXxfqB7Cy%2BHurtn/vq2Fev1FcX1laDN1eRRD1kkC/zobS3B0M9triaa9KT/Wqc38LPi1o3xb0661TRPDHiPTYrWYRkeI/D1xp7S5Gd0azqpdfccZ4riPjlZXvhf4leGviHpGpSQxDW7SDWPL8TXRnkWRvJWCKwJNuytvBdhtf5SQCea9JvPiB4D0/P2/xtpEGOvnalEuPzauT1f4h/sqQeJY/Gmt%2BNfAH9tQIEh1SfULI3aKM4VZCd4AyeAe59axliMPD4pperS/UzxsY1cFGlVrw500%2BZtQ2d7pKT9LXs9btXPNP2hL7w8fHGsa7qdzbS6zJpOnP8NbqJ1aWWeO6/fwWb9TM7EK6odzI5ByoOIJvCd5qXjy98Dafot1beLJ/EOutd6mLKRQ%2Bm3do5SUz42mPeY0Rd2VaMAABcj0x/2r/2ZdLVbO1%2BLGisEGEh08tNgewiU/pSf8NYfCO6%2BXQIvEurt2XTPB2oSZ%2BhMIB/OsXmOA/5%2Bx%2BTT/K541XC5TVxEqk8XDV3aVm9d9U2%2BbpGVrqOmpjfAbT/ABHd%2BPoNbuPCmp6RDpvgKx0XWY9Q02S2SXUIJW/1O5QJkVd48xMqQyYPp1XxT%2BFHjb4i6tbTaJ8fPE3hTT4rby7iw8O29mGnfcT5nnTQSOpwQMDjjOM5rO/4aL1C8%2BXQv2efiNdsfumbQo7VT9TcTIR%2BVJ/wtH9oTUP%2BQP8AswyQK33ZNZ8YWkOPcrCJT%2BFL6/hn8Lb9Iyf/ALaj0aP9mRwX1aUp1E3d8saivt/Io2WiulKz1b3ssr/hi3wDqny%2BPPil8SfE6H70Os%2BPr1Yj/wAAtmiUfgBWj4e/Yt/ZS8MT/a9P%2BAnhuefOftGqWAvZM%2Bu%2B43tn3zmpPtH7XuqfNFpvw80ZG6Ca5vb6RfwVYVJ/Gj/hWv7Rmq/Nrn7SUNkrffh0Dwhbx4HoHuHlP44FH1ucvgozfyUf/SpfoRDA5Spc1PL3J95Qjf76s5s7/RPDvh/w1aCw8OaFZ6fAOkNlapEg/BQBVvcu7ZuG4jIGecV5r/wzTZaj/wAjf8ZfiBrKt/rIZvEz20T%2B2y1WIYrf%2BH/wN%2BFfwu1KbWvA/hJLS9uYPJuL2S5lnmkj3BtrSSuzEZAPXtVwqYuc1zU1Fecrv7krfiexQqY1yUfYxhD/ABptLyUY2/FFL41%2BIPiB4R0qPxN4QvGkhtyPO0%2BHRDcmQjLM0sgfMUQQHJVC2cYJyFqD4o%2BH9f8AFdxonivw3f2t1pdtbzSXlpc%2BI7mwtplYI0cpMAIlwV4D4XDHmrnxWl03U9Q0jwdqN9q8UOpTtHdjS7wQgxNiMCU4LFWZguFIOT1xWZ4607R7NrnSIPBuj3umaJp0Oo3Nhq1kbgOq7owIt7bYtqRsc7TkjGBnNeNjsxwtJ1%2BaTai4ppXbUrOe3blTct9E1ZvQwxGHq1alVN%2B6%2BW2r0ktdLJ2Xddexxt9rFrr%2Bsx%2BOU8OXcWs%2BIDomp%2BFZHs3eVNy%2BVNbeYB8qxruaRSQCJC2DurpfA3gnxfpHi3w9odzoF1Db%2BFZdTQ6y0sZgvLKdj5ESgNvL/wCpLZXAMJ5O4VpR%2BIfFKX817Y60RE%2BryaVb6b5EaxQAxBoHUBd24ZDNkkEE4AAp3wr1Bf7UsbfTNQmmh1Dw6l5qUE928z294GRW3FySpbc4I4GYjxXm4bNMNUx8KXLK8pb%2B6r%2B87Oyve8otvVShG101e2NHLYxqqcptu6eiSvrfXfeSvfdKy2Oo8TfD3wJ41vLPUPGHg7TNVm07ebF9Rskm8gvt3Fd4OCdq8%2BwrUhhtNPtRDBFHBDEuFRFCqij2HAFYvjDQvEPiKe3stA%2BIM%2BiqisbuOztYZJZgcbSGkB8vHPIBzkdMc5CfAXwPduJvFt1q3iGQHIbXNVlmUf8AbMFY/wDx2vbr4rMViZwweFUujnKpCMW7LpFTqO22qj91met7NQqOUYJN7vRX9dLv5nF/tMXFvd/Gj9m%2B5tZ0ljf4y3xSSNgysP8AhCvFHQjrXtNeJftHaZpujfGD9m3S9IsIbW2g%2BMl8sNvbxBEQf8IV4o4CjgV7bXr0/aezXtLc1le17X62vra%2B19e5srhRRRVgFFFFABRRRQAUUUUAcx4c%2BNvwY8Y/EHWfhJ4R%2BLvhjVfFfhxFfxD4Z03X7afUNLVsbWuLZHMkAO5cF1Gcj1otfjb8Gb74p3PwLsvi54Ym8b2dgL288HRa/btqsFqQpE72gfzljIdPnK7fmXnkV8cfs8eHvGfgv41eA9D8QfCDxrp2pfDHxP8AEm/8f%2BJj4H1FrXUrbWNYkktBa3KQFdSN689resluZTCLRvPETxhau%2BDvh/8AEGL9qTw98N5fhR4oh17Qf2nfEnj3WvGcvhq6TSpvDt5oWp29tImpmP7NPIVvbDT/ALKshmT7MzGMRwq9AHvf7eH/ACRDQ/8Ass3w4/8AU10SvPPG37Ynj3x78TNb%2BE37BHwxvvGWv2N7LY%2BIfFviC5lg8MaFcq2JNzn5riVSCPLixwcqXGRXc/ts/B/9p/4w%2BFdF0z4A%2BKfAS22k%2BMPDevah4c8YabewvqraXr1jqZjj1S2lkFiGS0K5NjdbmIHyBty%2BOfsAy/treB/gVqWk%2BBv2dPhbfW6/EXxVb315rHxv1KKea9tNbvLG5fbH4ZZdhltXKHOSmwsFYlRvRoZRK2IxdJVKlJp0k%2BZJSd05Plcb2WnK3aV9U0jgxscxqzjRw83ThJPnkrc1la0Y3Ttd3vKzaS01dz0z4Dfsf%2BLvgtD4j%2BIXj7x1F448f%2BOLuOfxZr81mbdSwAjihgRchIIULBQQOpOAAqr7F4zl02fT7Zp76zT7PumFldEjz9qldq8qcg9Dg8gcc159/wAJx/wUL/6Nf%2BDP/h%2BNW/8AmXpH8af8FB5ABJ%2By38F2AORu%2BO%2BrHB/8Javk864elm%2BIxuJdW88VGEZKWsY8jvHlUbNRVo2hrC0VHl5ZSv6eAdLAYenQpxtGF2u7vu23e7bbbk9W3e%2B1u/uNRvjM0tldTW62j2sMFnuBDs4DMr5ySdrAdeMZqzp2vX%2BoX1sboQvZ6i04gg8o7lRM4csTghgOmP4hXl8niD9veXUV1aT9lH4LG5QYWU/HfVsjgj/oV%2BuCefeoNN1X9vzS7o3cP7MfwfchWWFJPj3qxWFWOSqD/hFuASB69AK8mjkfEWHx8ZRr3pud3aTS5U1ZuLTWsL0/ZwtBPlk72VuyVfDSptOOtu36%2But3ruj1PWvhB8LfELGTV/h/pMrnrMtkiSf99KA361m/8KJ8LWX/ACLPiLxHow7JpviCfZ/3xIzr%2BGK8Ym%2BOX7dnjL4y638Drb9mj4Z2Oq%2BGPDGk67dXlr8ftUjglg1K41K3hRT/AMIwSzq2lTlgygASR4LEsF6/TPFn/BRCwsY7Of8AZu%2BD90yA5nn%2BPGq735J5x4WA9unavVnkuXYnMpxq5dBRtdVU4Jyel01BU6kXvq5NO3mjglRoOCldX7Wa/HY7j/hX3xQ07jQ/jfdug%2B7Hq%2BjW9x%2BbII2/Wjb%2B0Lp/Ak8Iamq92W5tHb8vMGa47/hOP%2BChf/Rr/wAGf/D8at/8y9H/AAnH/BQv/o1/4M/%2BH41b/wCZeuj/AFew0P4FatT/AMNabX3T9ojL2a6N/f8A8Odj/wAJx8XrL/kJfBIzAfefTPEMEmfcLKIzR/wuWS241f4T%2BMbUj7zLo4nUfjC71x3/AAnH/BQv/o1/4M/%2BH41b/wCZeuX1b9o79u3R/jPoHwOuP2UPhI2qeIvC%2Br67Z3KfHXVPIjg065023mRyfDG4OzapAVAUghJMlSFDH9l5tT/hY%2Bf/AG/Toz/JU2HLPpL8j1r/AIaC%2BF0Xy6nq17YN3XUNGuocfUtHj9a2vCnxE8DeOWlTwh4ps9QaFQ0yW0wZkB6EjqK8z/4Tj/goX/0a/wDBn/w/Grf/ADL0xPF//BQKKVp4/wBlf4LK7j5nX466qCfqf%2BEWrfDUc9p117evTnDranKMvk1UlH70NKonq193/BPQ/HvjbUvDskFj4f0%2BO6uDNAbvzQ2yGGSURgnH8TEkKPbnioPiDrkNrcNYW/hSw1OSCwkvb0X%2BAqQJkYX5Gy5wcA4HHJFeT%2BLtL/bY8azRXmt/sh/BB7mOaJ/tf/C8NU81ljcMELHwtnacYI9CcVB4lg/4KL%2BICJIvgH8G7eSaxksb%2BRfjbqjGe2c52r/xTACMASA3ONx4NedjaXEXNiXTd1Jx5OVq6SUrq01ZNvkbbck1zWtZJxOM5Jp6r%2Bu5395pfwn1rVo4rj4H%2BHrqwa4t7e5vbrTbcuksyBkAQxkMo3KGO4EE8A8mqWj/AAp/Zw8W6pFZzfs9%2BG7eC%2Bill0u7XR7ZRdpGwDkKigp94HnqDXknxe%2BJP7eXwXsLTxxrf7Nfwil0W%2B8b%2BHdP/syy%2BNeqNN9tv9Qs9Jtm8xvDaqIVmuYZZBtLYRyueEPU%2BF7X/god4eu9Nln/AGd/gvcQ6PYTWmnRL8btXRlSRkJLt/wjJ3MBGoyAvc9%2BOWlhc8lio%2B2pxcObW8aVrXs7aXUOXWP2ufR6HLLA4Wo/fpQfrGH/AMieiS/shfs0ytv/AOFO6Qh9YY2j/wDQWFN/4ZB/Z2H%2Bq%2BHnl/8AXHVrtP8A0GUVxfi67/4KIeLIoI4fgZ8MdJMDMd%2BkftA6pGZM44bd4UbIGOPqaw/%2BEc/4KTR/6jwX4IH/AF0/aAvW/n4Pr0MVSnRruNLLo1I/zKVGN/8At2STVttyJZTll9MND/wGK/RHqH/DIvwCH3PCmoJ/1z8Uaiv8rij/AIZG%2BBPbw/rA%2BnjDVP8A5Jry/wDsb/gp0v8Aq/CHw9H%2B98c7tv8A3UK5f42/EL/gpN8B/gx4u%2BOPinwJ4DutL8GeGL/XdStbD403DXE1vaW0lxIkYfwmqlysZChmUZIyQOa5%2Bav/ANCp/wDgdD/5JE/2Vlv/AEDR%2B6J7x/wyN8CO/h3Vz9fF%2BqH/ANuaP%2BGRPgB0fwfev/108S6g38568v8A7K/4Khn73hP4c/h8bbof%2B6jR/Yn/AAU2b/W%2BD/h%2Bf9z463a/%2B6hRzV3tlT/8Dof/ACTD%2Byst/wCgaP3RPUP%2BGQP2cm/1vw0hl/676hcyf%2BhSmpbf9kj9mm1OY/gxobH/AKa2u/8A9CJryr/hGf8AgpC/M/gjwU3sn7Qt8n8vCFH/AAiP/BQt/wDX/DXwa/8A3crqyf8AoHhQUL650yqPzqUP/kGNZVlq2wsP/AYf/Is9ms/2cv2frDBtvgj4UBHRm8P27H8yhNa9j8MPhppeP7M%2BHmhW%2BOnkaRCmPyWvAv8AhBv265P%2BP34IeBbn1E/7UHiD%2BnhkVy/wRvf2m/j38GPCHxy0H9jv4aDTfGfhfT9d0631n9pPX2nit7u2juI0lVfDzIHCyAMFLDIOCRzW0ZZyv4eApR9asf8A2ygzeGEw9P4KMF6KK/KB9dImlaPDtRbe1jHYBUX%2BlUL34geA9Nz/AGj420i3x18/Uokx%2BbV8/wAHw2/ajgfzB%2Bw18CJG9bj46avKf/H/AAwa07LRv2v9OwbD9hz9n2EjvH8Y9QB/P/hFa2U%2BJ5bU6EPWdWX5QgdK9olZJL7z1a8%2BPXwasm2SfEjSpD2FvciUn6bM5qA/HzwBccaNFrWpN2XT/D13Jn6HywD%2BdcPZ%2BJv2%2BdPXbYfsn/BKAekPxz1Vf5eFqn/4Tj/goX/0a/8ABn/w/Grf/MvR9X4lqfFiKUf8NKUvxnVX4oLVe6%2B7/gnY/wDC3NavPk0T4M%2BLJ2PQ3VrDaqfxllBH5Uf8JZ8bdQ%2BTT/hHYWWekmqeI1OPqsMb/wA68m8A/tHft2/ETxX438IaP%2Byh8JIbjwH4oi0LVZLn466oEnnk0rT9TDxbfDBJTydRhUlgp3o4xgBm6j/hOP8AgoX/ANGv/Bn/AMPxq3/zL0f2VmdT%2BLj6n/bkKUP/AGyb/EOST3l%2BR2P9n/tA6l8l14l8LaUp72emz3Tj8ZJEB/Ktfwj4a8YaNdy3fin4iXGs%2BZHtSBtOht44jnO4BBuJ7csa83/4Tj/goX/0a/8ABn/w/Grf/MvR/wAJx/wUL/6Nf%2BDP/h%2BNW/8AmXrfD5Lh6FaNaVWrOS256s2v/AVywfzixqCTvd/ed743%2BGMfi%2B7fUofEuo2c7C3wkFxti/cyF0JCgNkFmxhhgnNRfEDwl/aOnvdG/n%2B2TRvaKlrtQXMDEkwSBg%2BVC7iWGG%2B8QRk159e%2BKf8Agojd3NvPH%2Bzl8IIFgcs8UPx41TbN7NnwqTj6Y61yw%2BOn7bfjL4x658Cbn9kn4StqXhrw1pGv3Ny/x51Zbd4NRuNTtoUQr4Z3F1bTJy4KhcSR4LEsF83M8kWLwuMhh6KhUqWSk56SdviSXNyuPNJK8dXrZxbT2pwoRqRlPVdVr/mvwse16r4UsL1tO8YaFpUy3bNC8htXXcUMe0NtkPllwpChyNwXgGoLn%2ByTdSalau1k5spZDIMRu9zDJhzJswJG7c5GOnWvPNP1L9v3TtKTRrf9mb4QLAibVWL4%2B6vGRyTkFPCwIPOOtTx67%2B3pFaJY/wDDJ3wUeKN96LL8dtWfDZzuy3hcknPfrXiV%2BF8zxy53yU5TjBzV24%2B1jFJuPJyyim3KUpJpycYaaM7KdfDUX7qvZu2iTs%2B976209LnoMQkGqo0lsU1GXVIp43ERy9uyLvBbH3VG8YJ6qK6bVLO6v7B7S01OW0kbGLiFVLKM843AjkcfjXkX/Ccf8FCh0/Ze%2BDP/AIfjVv8A5l6P%2BE4/4KF/9Gv/AAZ/8Pxq3/zL19FlXD1PLsPXozqOcau9rwe0rtuMk%2Bd8zvNOLdo9Y3eNXEupKMkrW%2Bf59NNtepD%2B0jaNY/GL9m20e7muDH8ZL4GadgXf/iivFHJIAGfwr2yvlf4n%2BJf2rdX/AGk/2dLX41/Bf4e%2BH9HHxc1Fo77wt8Tr7WLkz/8ACF%2BJtqGCfRbJQhBYl/NJBAGw5JX6or3qVKFGlGnBWUUkt3olZattv1bb7tvU523J3YUUUVoIKKKKACiiigAooooAKo%2BKPENh4S8Naj4r1UObXTLGa7uREuW8uNC7YHc4U1eqO7tLW/tZbG9t0mhmjaOaKVQyupGCpB4II4xQB83/ALGv7Uvx8%2BKnjDRvCvx/03wkj%2BN/hPp3xA8Lr4T0%2B5t/7Lt7iUJPpl009xMLqSETWm27jECyl5f3EWwbvK7D/go98Zfh18MD8afEvw/8GXXhvx38L/Ffjr4Z6BoWnXFjc2Utje2gt7TUrh55UuXvF1OGeSeKGDyXSZSk25Xr3n4AfsL%2BEP2dNVt9X8J/GXx1qcunaLp2gaGNfudOuBpXh%2ByeV4NGhK2SE2%2BZfnmkL3kgii33LeWuMbSf%2BCZ3wGtrTxB4e8SeKvFuv%2BHtW8Ja54Y0Pwxq2o2y2nhbSdXuEuL%2B105re3inQPJDblHnlnkhW2iSJ41XaQDpv2ZPi58Y/Efj7x/8C/j/AHfhnUPE3gW60yZdc8IaPcadY6hY39p5sTfZri5uXhlSWK5iYec4ZY45Bs3mNPYq87%2BAH7OelfAY%2BIdYuPiR4m8aeIvFeow3fiDxZ4wkszfXfkW0dtBFtsra2t44o4owFWOJcs8jtueR2b0SgAr5d%2BA37Y3xt%2BIHxi8LSeNtM8LL4D%2BJmteLtM8FWel6bcxarpcmi3csUMl5cPcvFdLd29tczFY4YDbt5ceZ8mQfUVeGeDv2DPA3gL4kzfEbwv8AF3xvALa61m68KaE8%2BnS2HhafVr1bzUpbFHsi7NPKHH%2BkvOIUmljgEKvigCnrnxU%2BOPw8/bU8I/DPWtR8A67pXxEbU0XSND8L3Vtrug6PYWs08Wo3d695LHdW4unitSgt4As2qR7GbD7sj/gnD%2B1P8Xf2j/AvnftF%2BJ9EsvHf/CM6Rqus/Dy3%2BE%2Bt%2BFL7w411HKZFkXV7uZ9RgMqPFHdQJHEWtpeXJwnW%2BBv2NP8AhAf2lPFn7S%2BnftKfEK7vfGk6nWfD2pRaHNYrbxW7w2tlDL/ZgvYLW3MjzRwpchfOeSR95ll8zY%2BDf7L9t8LfiLqnxf8AFvxp8ZfEHxTqWiW%2BjJrfjI6bG9np8Mskwt4YtNsrSBQ0srO7tG0jEIC%2B1FUAHqNFFFAHy7%2B01%2B2N8bfhX8U/GL/DzTPCzeDfhNovhvU/HdtrOm3M2o6xHql9cRTR2M0dzHHaNbWtv54aSK4E8koixCFMhm/bI/aV%2BJnwK/aF8HWdtq/h7wl4Gk8I6leeJfiL4j%2BEWs%2BIrbTZFvbBFtJb2wu7eDSIZI2llee7byv9GUnhK7b4z/sQ/Dj43fFI/EzXPHPirS4tRtdItfF/hrRrq1TTvFMGl3sl7YxXyy28kwWOaaXP2eWAyxyGKYyxhUE/x0/ZJuv2hPBMvwx8eftLfEOLwxqmj3Gk%2BLtB0xdFhi8SWU5cTQ3Mv9mmeENE7QFrSS3byz13/PQB55qX7Y3xttf2gLuWDTPC3/CsdP8AjNZ/DS5sH025Oty3lxpsE41Nbr7T5CxLeXMVt9lNuWMavP54OIa%2Boq8XuP2HfhrP8e/%2BF4Dxt4pjtH8Uw%2BKJ/AcdzaDQ5tei05dOi1Nk%2BzfafNW2SMCIXAt/MiSYwmUeZXtFABXz1%2B15%2B0T%2B0B4D%2BIEHwu/ZwtfCK6np/wANdd8b6zceMtNubqG6gsJLWKHTYRb3EBgkuHuJM3TGVYBCP3Exkwv0LXkf7S/7Hng/9pnULLWtR%2BJPi/wjqFv4f1Pw/faj4NvLWGbUtF1DyDeafMbm2nCxyNbQsJYhHcRFCYpo977gDmv2nPjv4yg/Yr/4a6%2BF/izwnoejab4LHjK8s/GvgO415rqFLVL22ggit9SsjHc%2BYECHMhMmwKobBrhr39rH9q34ffHXwH8NP2htc8H%2BCNIu/h94QvPFuu/8Kh17UdL1HxLqF7e22o6Vb6tFfrZ6QFaC0SD7YZmL3sf%2Bt4Q%2B4%2BPP2YfBfxH%2BGll8H/E/iTWW8Oad4o0nV7TSrUWkMaw6beW93a6YQluN1kJLWIMjZkdAUaQqxFVPjp%2By1B%2B0Frlsnjb43%2BNbfwks1jNqfw90w6ZHpWqyWtytzGZ5WsmvgGkSPekV1GjrGFK4Zw4B6pRRRQB4v/wUF%2BLvxw/Z%2B/ZH8afHr4BXvhSPWPBOhXeuXUHjDRbm%2Btru0tbaWZ7dEtrq2ZJXZEUSFyqAsSj8Crv7YPxP8XeBPB3hrwL8PdM0G4174j%2BMrXwppsvirTZL3TLVZ4Z7i5mubaOWFrlFtLW5xCJY/McopdQSRqftY/s42X7WnwI179n3Wvir4p8I6T4nspbHXL/wgunfa7mylieKa23X9pdRojq/LIiyAqNrrznO8b/srSfEr4dWfgjx5%2B0F461HU9J1PTtU0DxiYtHg1PSdSsySt5CINOS2Z5AzrIksEkLJI6eWFYqQDwST9u79q3xlof8Awhnwz0bwBbeNvCeheOtS8cXOs6RezabqT%2BHNYGlR21lHHdpJaC%2BbdOJpJLj7IoCGO5J3D62%2BF/j3TPip8NPDvxP0S2lhsvEmhWmqWkM%2BN6RXEKSorY7gOAfevEPEP/BNL4T6x4F0nwfo3xc%2BIGg3lnpviHTtd8T6LqViupeJLTXbtb3WIr15bN4wbm6UTeZbRwSwNkW7wKSp%2BgtD0TSPDOiWfhvw/p8VpYafax21laQLtSGGNQqIo7AKAAPQUAWq5r4xSfE2H4ZaxP8ABzWtB07xLFa79MvfE2lTX1jEVYFzLBBPbySjyw%2BFWWP5iuWxmulrC%2BJng7VPiD4D1PwXo3xB1nwrcajb%2BSniDw/DZyXlmCQWaJb23uLckgFT5kLjDHABwQAcF8BPij8YP2hv2I/h/wDGvw/c%2BGtH8a%2BOPhxomuNLeaVcXGl2d5eWUFxKfsy3CTSRKZH2x%2BerEBQZOrV4Be/tmftRaD8HNPXwHpHhW6g0f453fgTUPHng74Na7r%2BjyaFZ6JdXL6jaaJpt611GsWowppLkXMsSSwStnaVC%2BxeEv2Gp/Bn7JafseaT%2B1v8AFddBtfBCeFdK1%2BGfRLbWNNsY0SKJ4Li20uNVmSBBCspQnaS5zLiUaPg/9kbxN8PfghpPwN8A/tefEbRLXQrhF0nV9L0TwrDcWtglusEempCuifY1tk2h1It/ODHHm7MIAD0L4O%2BN9N%2BJXwn8NfEDSPHGkeJrfWdDtbtPEPh%2B0a3sdSLxKxuIInllaGNySyxtJIyAhWdiCT0lcv8ABX4Q%2BDfgH8KdB%2BDnw/iuV0jw9p6Wlm19ctNPKBktLLI3LyOxZ2buzE4HSuooAK8X/Y5%2BLvxw%2BJV18UvB3x%2BvfCl3rPw/%2BJjeHra%2B8H6Lc2FrcWraNpWpIWiubq5cyK2oPGXDhXEasETJFe0V4v8AAn9jzWPgT408X%2BNbT9rL4leI5PHHiuHxBr1j4htPDoge7S1t7MhPsmkQOkb29pbRMA%2BcQhlKuzswB4Z4I/b/APir4N%2BG/wAYviJ8XoPDVt4u8NaX4g1jRPhg3wo1rwzfX8dlfvp9leNqV/dSRatbyRrp6yXNrDsi%2B0xcgbEPvP7Mnxc%2BMfiPx94/%2BBfx/u/DOoeJvAt1pky654Q0e406x1Cxv7TzYm%2BzXFzcvDKksVzEw85wyxxyDZvMaZmufsEeBviJqviDVfj18YPHPxDOueCdX8JWkHiSfTrZNF0nU5IHvYbT%2BzbK1PmObS0xPMZZk%2BzJtdSXLdj8AP2c9K%2BAx8Q6xcfEjxN408ReK9Rhu/EHizxhJZm%2Bu/Ito7aCLbZW1tbxxRxRgKscS5Z5Hbc8jswB6JRRRQB4v8Ffi78cNa/a4%2BLPwF%2BKl74UutH8MaF4e1zwhP4f0W5tbmK01K51mH7PePNdTLcSoumRN5kaQLmVxsOAa5/xJ8RP2lvCv7fngv4QaZ4q%2BHOq%2BHPF2kaxrHiGzg%2BH15b6zpeg6ciRW%2B/Uf7VeKWQ6hqNuqq1oqsjXRVVKk10Gi/seaxoH7RfjD9pLTv2sviUNQ8Z6VZaZe6E9p4dOn2dpZz3U1pFAP7I88eUb26UNJNIzLMd5cqhXtNL%2BBfhXS/jh4l/aBTVtTm1/xJ4Y03QG8%2BaMw6dZWUt3Mi2yiMFGeW9leRmL7ykQ4EagAHjv/BOH9qf4u/tH%2BBfO/aL8T6JZeO/%2BEZ0jVdZ%2BHlv8J9b8KX3hxrqOUyLIur3cz6jAZUeKO6gSOItbS8uThPpavLvg3%2By/bfC34i6p8X/Fvxp8ZfEHxTqWiW%2BjJrfjI6bG9np8Mskwt4YtNsrSBQ0srO7tG0jEIC%2B1FUeo0AFeD/ta/Gb9oL4DeJPC/i7wZ4g8EXvh7WvF2heHbbwLfeHLyTXNcub2%2BWG5a0vY71YoTBatJdbGtJh5dpMzvGgLx%2B8V4z8Sf2OV%2BIn7TuiftTW/7R3xA0LVfD%2BhjStM0DTIdEuNLggebzblo0vtMuJoZbkCOOaWKVHaOGNFZAOQDhf22P2ofjN8LfGXiCz%2BDXhzwddJ8J/hTdfErxMPFmlT3M2owq11DFp9hJFcQixnlhtdQU3bidU3Rr5Lq7kVY/22fjFqHxrOvaVp3hc/CuL4vWHw6exl0u5/tyW5u9Mt7hdUW5%2B0%2BSkS3l1FbG1NuWMavN54OIa7j46fsI%2BCv2g2im8bfGDxxbTXfhe78MeL59IuNOgbxXoVzMJZNMvh9iKrF99Fkthbzok0oWUeY5Nqf9hz4aTfHr/hd6%2BNfFEVo3imHxRP4CiubQaHNr0OnLp0Wpsn2b7SJVtkjAiFwLfzIkmMJlHmUAe0UUUUAFFFFABRRRQAUUUUAFFFFABRRRQAUUUUAFFFFABRRRQAUUUUAFFFFABRRRQAUUUUAFFFFABRRRQAUUUUAFFFFABRRRQAUUUUAFFFFABRRRQAUUUUAFFFFABRRRQAUUUUAFFFFABRRRQAUUUUAFFFFAH/2Q%3D%3D\">"
      ]
     },
     "metadata": {},
     "output_type": "display_data"
    }
   ],
   "source": [
    "try:\n",
    "    display_html(HTML(anim.to_html5_video()))\n",
    "# In case the build-in renderers are unaviable, fall back to\n",
    "# a custom one, that doesn't require external libraries\n",
    "except RuntimeError:\n",
    "    anim.save(None, writer=matplotlib_utils.SimpleMovieWriter(0.001))"
   ]
  },
  {
   "cell_type": "markdown",
   "metadata": {},
   "source": [
    "# Logistic regression\n",
    "Your assignment is to implement the logistic regression\n",
    "\n",
    "Plan:\n",
    "* Use a shared variable for weights\n",
    "* Use a matrix placeholder for `X`\n",
    " \n",
    "We shall train on a two-class MNIST dataset\n",
    "* please note that target `y` are `{0,1}` and not `{-1,1}` as in some formulae"
   ]
  },
  {
   "cell_type": "code",
   "execution_count": 30,
   "metadata": {},
   "outputs": [
    {
     "name": "stdout",
     "output_type": "stream",
     "text": [
      "y [shape - (360,)]: [0 1 0 1 0 1 0 0 1 1]\n",
      "X [shape - (360, 64)]:\n"
     ]
    }
   ],
   "source": [
    "from sklearn.datasets import load_digits\n",
    "mnist = load_digits(2)\n",
    "\n",
    "X, y = mnist.data, mnist.target\n",
    "\n",
    "print(\"y [shape - %s]:\" % (str(y.shape)), y[:10])\n",
    "print(\"X [shape - %s]:\" % (str(X.shape)))"
   ]
  },
  {
   "cell_type": "code",
   "execution_count": 31,
   "metadata": {},
   "outputs": [
    {
     "name": "stdout",
     "output_type": "stream",
     "text": [
      "X:\n",
      " [[  0.   0.   5.  13.   9.   1.   0.   0.   0.   0.]\n",
      " [  0.   0.   0.  12.  13.   5.   0.   0.   0.   0.]\n",
      " [  0.   0.   1.   9.  15.  11.   0.   0.   0.   0.]]\n",
      "y:\n",
      " [0 1 0 1 0 1 0 0 1 1]\n"
     ]
    },
    {
     "data": {
      "image/png": "[encoded data removed]",
      "text/plain": [
       "<matplotlib.figure.Figure at 0x7f6bf420c358>"
      ]
     },
     "metadata": {},
     "output_type": "display_data"
    }
   ],
   "source": [
    "print('X:\\n',X[:3,:10])\n",
    "print('y:\\n',y[:10])\n",
    "plt.imshow(X[0].reshape([8,8]));"
   ]
  },
  {
   "cell_type": "markdown",
   "metadata": {},
   "source": [
    "It's your turn now!\n",
    "Just a small reminder of the relevant math:\n",
    "\n",
    "$$\n",
    "P(y=1|X) = \\sigma(X \\cdot W + b)\n",
    "$$\n",
    "$$\n",
    "\\text{loss} = -\\log\\left(P\\left(y_\\text{predicted} = 1\\right)\\right)\\cdot y_\\text{true} - \\log\\left(1 - P\\left(y_\\text{predicted} = 1\\right)\\right)\\cdot\\left(1 - y_\\text{true}\\right)\n",
    "$$\n",
    "\n",
    "$\\sigma(x)$ is available via `tf.nn.sigmoid` and matrix multiplication via `tf.matmul`"
   ]
  },
  {
   "cell_type": "code",
   "execution_count": 32,
   "metadata": {
    "collapsed": true
   },
   "outputs": [],
   "source": [
    "from sklearn.model_selection import train_test_split\n",
    "X_train, X_test, y_train, y_test = train_test_split(\n",
    "    X, y, random_state=42)"
   ]
  },
  {
   "cell_type": "markdown",
   "metadata": {},
   "source": [
    "__Your code goes here.__ For the training and testing scaffolding to work, please stick to the names in comments."
   ]
  },
  {
   "cell_type": "code",
   "execution_count": 52,
   "metadata": {},
   "outputs": [],
   "source": [
    "# Model parameters - weights and bias\n",
    "weights = tf.Variable(tf.random_normal(shape = [X.shape[1],1]),name='weights',dtype='float32') #shape should be (X.shape[1], 1)\n",
    "\n",
    "b = tf.Variable(0.0,name='bias',dtype='float32')"
   ]
  },
  {
   "cell_type": "code",
   "execution_count": 53,
   "metadata": {
    "collapsed": true
   },
   "outputs": [],
   "source": [
    "# Placeholders for the input data\n",
    "#tf.placeholder(\"float32\", shape=(None,), name=\"y_true\")\n",
    "input_X = tf.placeholder(\"float32\", shape=(None,X.shape[1]),name='inp_x')\n",
    "input_y = tf.placeholder(\"float32\", shape=(None,),name='inp_y')"
   ]
  },
  {
   "cell_type": "code",
   "execution_count": 54,
   "metadata": {},
   "outputs": [],
   "source": [
    "# The model code\n",
    "\n",
    "# Compute a vector of predictions, resulting shape should be [input_X.shape[0],]\n",
    "# This is 1D, if you have extra dimensions, you can  get rid of them with tf.squeeze .\n",
    "# Don't forget the sigmoid.\n",
    "predicted_y = tf.nn.sigmoid(tf.squeeze(tf.matmul(input_X, weights) + b))\n",
    "\n",
    "\n",
    "# Instead of using cross entropy, using logloss here would pass the assignment\n",
    "loss = tf.losses.log_loss(labels=input_y,predictions=predicted_y)\n",
    "\n",
    "\n",
    "optimizer = tf.train.GradientDescentOptimizer(0.03).minimize(loss)"
   ]
  },
  {
   "cell_type": "markdown",
   "metadata": {},
   "source": [
    "A test to help with the debugging"
   ]
  },
  {
   "cell_type": "code",
   "execution_count": 55,
   "metadata": {},
   "outputs": [],
   "source": [
    "validation_weights = 1e-3 * np.fromiter(map(lambda x:\n",
    "        s.run(weird_psychotic_function, {my_scalar:x, my_vector:[1, 0.1, 2]}),\n",
    "                                   0.15 * np.arange(1, X.shape[1] + 1)),\n",
    "                                   count=X.shape[1], dtype=np.float32)[:, np.newaxis]\n",
    "# Compute predictions for given weights and bias\n",
    "prediction_validation = s.run(\n",
    "    predicted_y, {\n",
    "    input_X: X,\n",
    "    weights: validation_weights,\n",
    "    b: 1e-1})\n",
    "\n",
    "# Load the reference values for the predictions\n",
    "validation_true_values = np.loadtxt(\"validation_predictons.txt\")\n",
    "\n",
    "assert prediction_validation.shape == (X.shape[0],),\\\n",
    "       \"Predictions must be a 1D array with length equal to the number \" \\\n",
    "       \"of examples in input_X\"\n",
    "assert np.allclose(validation_true_values, prediction_validation)\n",
    "loss_validation = s.run(\n",
    "        loss, {\n",
    "            input_X: X[:100],\n",
    "            input_y: y[-100:],\n",
    "            weights: validation_weights+1.21e-3,\n",
    "            b: -1e-1})\n",
    "assert np.allclose(loss_validation, 0.728689)"
   ]
  },
  {
   "cell_type": "code",
   "execution_count": 60,
   "metadata": {
    "scrolled": true
   },
   "outputs": [
    {
     "name": "stdout",
     "output_type": "stream",
     "text": [
      "loss at iter 0:4.5808\n",
      "train auc: 0.896299956083\n",
      "test auc: 0.864130434783\n",
      "loss at iter 1:3.2868\n",
      "train auc: 0.905742204655\n",
      "test auc: 0.883399209486\n",
      "loss at iter 2:2.6311\n",
      "train auc: 0.913372859025\n",
      "test auc: 0.891798418972\n",
      "loss at iter 3:2.1696\n",
      "train auc: 0.918066534914\n",
      "test auc: 0.899703557312\n",
      "loss at iter 4:1.8835\n",
      "train auc: 0.923226833553\n",
      "test auc: 0.909584980237\n"
     ]
    }
   ],
   "source": [
    "from sklearn.metrics import roc_auc_score\n",
    "s.run(tf.global_variables_initializer())\n",
    "for i in range(5):\n",
    "    s.run(optimizer, {input_X: X_train, input_y: y_train.astype('float64')})\n",
    "    loss_i = s.run(loss, {input_X: X_train, input_y: y_train.astype('float64')})\n",
    "    print(\"loss at iter %i:%.4f\" % (i, loss_i))\n",
    "    print(\"train auc:\", roc_auc_score(y_train, s.run(predicted_y, {input_X:X_train})))\n",
    "    print(\"test auc:\", roc_auc_score(y_test, s.run(predicted_y, {input_X:X_test})))"
   ]
  },
  {
   "cell_type": "markdown",
   "metadata": {},
   "source": [
    "### Coursera submission"
   ]
  },
  {
   "cell_type": "code",
   "execution_count": 61,
   "metadata": {
    "collapsed": true
   },
   "outputs": [],
   "source": [
    "grade_submitter = grading.Grader(\"BJCiiY8sEeeCnhKCj4fcOA\")"
   ]
  },
  {
   "cell_type": "code",
   "execution_count": 62,
   "metadata": {
    "collapsed": true
   },
   "outputs": [],
   "source": [
    "test_weights = 1e-3 * np.fromiter(map(lambda x:\n",
    "    s.run(weird_psychotic_function, {my_scalar:x, my_vector:[1, 2, 3]}),\n",
    "                               0.1 * np.arange(1, X.shape[1] + 1)),\n",
    "                               count=X.shape[1], dtype=np.float32)[:, np.newaxis]"
   ]
  },
  {
   "cell_type": "markdown",
   "metadata": {},
   "source": [
    "First, test prediction and loss computation. This part doesn't require a fitted model."
   ]
  },
  {
   "cell_type": "code",
   "execution_count": 63,
   "metadata": {
    "collapsed": true
   },
   "outputs": [],
   "source": [
    "prediction_test = s.run(\n",
    "    predicted_y, {\n",
    "    input_X: X,\n",
    "    weights: test_weights,\n",
    "    b: 1e-1})"
   ]
  },
  {
   "cell_type": "code",
   "execution_count": 64,
   "metadata": {
    "collapsed": true
   },
   "outputs": [],
   "source": [
    "assert prediction_test.shape == (X.shape[0],),\\\n",
    "       \"Predictions must be a 1D array with length equal to the number \" \\\n",
    "       \"of examples in X_test\""
   ]
  },
  {
   "cell_type": "code",
   "execution_count": 65,
   "metadata": {
    "collapsed": true
   },
   "outputs": [],
   "source": [
    "grade_submitter.set_answer(\"0ENlN\", prediction_test)"
   ]
  },
  {
   "cell_type": "code",
   "execution_count": 66,
   "metadata": {
    "collapsed": true
   },
   "outputs": [],
   "source": [
    "loss_test = s.run(\n",
    "    loss, {\n",
    "        input_X: X[:100],\n",
    "        input_y: y[-100:],\n",
    "        weights: test_weights+1.21e-3,\n",
    "        b: -1e-1})\n",
    "# Yes, the X/y indices mistmach is intentional"
   ]
  },
  {
   "cell_type": "code",
   "execution_count": 67,
   "metadata": {
    "collapsed": true
   },
   "outputs": [],
   "source": [
    "grade_submitter.set_answer(\"mMVpM\", loss_test)"
   ]
  },
  {
   "cell_type": "code",
   "execution_count": 68,
   "metadata": {},
   "outputs": [],
   "source": [
    "grade_submitter.set_answer(\"D16Rc\", roc_auc_score(y_test, s.run(predicted_y, {input_X:X_test})))"
   ]
  },
  {
   "cell_type": "markdown",
   "metadata": {},
   "source": [
    "Please use the credentials obtained from the Coursera assignment page."
   ]
  },
  {
   "cell_type": "code",
   "execution_count": 69,
   "metadata": {},
   "outputs": [
    {
     "name": "stdout",
     "output_type": "stream",
     "text": [
      "Submitted to Coursera platform. See results on assignment page!\n"
     ]
    }
   ],
   "source": [
    "grade_submitter.submit('snowneji@hotmail.com', 'YSUfoHlYRbjlcfhL')"
   ]
  },
  {
   "cell_type": "code",
   "execution_count": null,
   "metadata": {
    "collapsed": true
   },
   "outputs": [],
   "source": []
  },
  {
   "cell_type": "code",
   "execution_count": null,
   "metadata": {
    "collapsed": true
   },
   "outputs": [],
   "source": []
  }
 ],
 "metadata": {
  "kernelspec": {
   "display_name": "Python 3",
   "language": "python",
   "name": "python3"
  },
  "language_info": {
   "codemirror_mode": {
    "name": "ipython",
    "version": 3
   },
   "file_extension": ".py",
   "mimetype": "text/x-python",
   "name": "python",
   "nbconvert_exporter": "python",
   "pygments_lexer": "ipython3",
   "version": "3.6.0"
  }
 },
 "nbformat": 4,
 "nbformat_minor": 1
}
