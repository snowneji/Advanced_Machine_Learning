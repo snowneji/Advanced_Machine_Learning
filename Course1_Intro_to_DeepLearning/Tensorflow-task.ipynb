{
 "cells": [
  {
   "cell_type": "markdown",
   "metadata": {
    "slideshow": {
     "slide_type": "slide"
    }
   },
   "source": [
    "# Going deeper with Tensorflow\n",
    "\n",
    "In this video, we're going to study the tools you'll use to build deep learning models. Namely, [Tensorflow](https://www.tensorflow.org/).\n",
    "\n",
    "If you're running this notebook outside the course environment, you'll need to install tensorflow:\n",
    "* `pip install tensorflow` should install cpu-only TF on Linux & Mac OS\n",
    "* If you want GPU support from offset, see [TF install page](https://www.tensorflow.org/install/)"
   ]
  },
  {
   "cell_type": "code",
   "execution_count": 123,
   "metadata": {
    "collapsed": true
   },
   "outputs": [],
   "source": [
    "import sys\n",
    "sys.path.append(\"..\")\n",
    "import grading"
   ]
  },
  {
   "cell_type": "markdown",
   "metadata": {},
   "source": [
    "# Visualization"
   ]
  },
  {
   "cell_type": "markdown",
   "metadata": {},
   "source": [
    "Plase note that if you are running on the Coursera platform, you won't be able to access the tensorboard instance due to the network setup there. If you run the notebook locally, you should be able to access TensorBoard on http://127.0.0.1:7007/"
   ]
  },
  {
   "cell_type": "code",
   "execution_count": 124,
   "metadata": {},
   "outputs": [
    {
     "name": "stdout",
     "output_type": "stream",
     "text": [
      "/bin/sh: 1: killall: not found\r\n"
     ]
    }
   ],
   "source": [
    "! killall tensorboard\n",
    "import os\n",
    "os.system(\"tensorboard --logdir=/tmp/tboard --port=7007 &\");"
   ]
  },
  {
   "cell_type": "code",
   "execution_count": 125,
   "metadata": {
    "collapsed": true
   },
   "outputs": [],
   "source": [
    "import tensorflow as tf\n",
    "s = tf.InteractiveSession()"
   ]
  },
  {
   "cell_type": "markdown",
   "metadata": {},
   "source": [
    "# Warming up\n",
    "For starters, let's implement a python function that computes the sum of squares of numbers from 0 to N-1."
   ]
  },
  {
   "cell_type": "code",
   "execution_count": 126,
   "metadata": {
    "collapsed": true
   },
   "outputs": [],
   "source": [
    "import numpy as np\n",
    "def sum_sin(N):\n",
    "    return np.sum(np.arange(N)**2)"
   ]
  },
  {
   "cell_type": "code",
   "execution_count": 127,
   "metadata": {},
   "outputs": [
    {
     "name": "stdout",
     "output_type": "stream",
     "text": [
      "CPU times: user 120 ms, sys: 2.09 s, total: 2.21 s\n",
      "Wall time: 3.22 s\n"
     ]
    },
    {
     "data": {
      "text/plain": [
       "662921401752298880"
      ]
     },
     "execution_count": 127,
     "metadata": {},
     "output_type": "execute_result"
    }
   ],
   "source": [
    "%%time\n",
    "sum_sin(10**8)"
   ]
  },
  {
   "cell_type": "markdown",
   "metadata": {},
   "source": [
    "# Tensoflow teaser\n",
    "\n",
    "Doing the very same thing"
   ]
  },
  {
   "cell_type": "code",
   "execution_count": 128,
   "metadata": {
    "collapsed": true
   },
   "outputs": [],
   "source": [
    "# An integer parameter\n",
    "N = tf.placeholder('int64', name=\"input_to_your_function\")\n",
    "\n",
    "# A recipe on how to produce the same result\n",
    "result = tf.reduce_sum(tf.range(N)**2)"
   ]
  },
  {
   "cell_type": "code",
   "execution_count": 129,
   "metadata": {},
   "outputs": [
    {
     "data": {
      "text/plain": [
       "<tf.Tensor 'Sum_2:0' shape=() dtype=int64>"
      ]
     },
     "execution_count": 129,
     "metadata": {},
     "output_type": "execute_result"
    }
   ],
   "source": [
    "result"
   ]
  },
  {
   "cell_type": "code",
   "execution_count": 130,
   "metadata": {},
   "outputs": [
    {
     "name": "stdout",
     "output_type": "stream",
     "text": [
      "CPU times: user 724 ms, sys: 260 ms, total: 984 ms\n",
      "Wall time: 1.11 s\n"
     ]
    },
    {
     "data": {
      "text/plain": [
       "662921401752298880"
      ]
     },
     "execution_count": 130,
     "metadata": {},
     "output_type": "execute_result"
    }
   ],
   "source": [
    "%%time\n",
    "result.eval({N: 10**8})"
   ]
  },
  {
   "cell_type": "code",
   "execution_count": 131,
   "metadata": {
    "collapsed": true
   },
   "outputs": [],
   "source": [
    "writer = tf.summary.FileWriter(\"/tmp/tboard\", graph=s.graph)"
   ]
  },
  {
   "cell_type": "markdown",
   "metadata": {},
   "source": [
    "# How does it work?\n",
    "1. Define placeholders where you'll send inputs\n",
    "2. Make symbolic graph: a recipe for mathematical transformation of those placeholders\n",
    "3. Compute outputs of your graph with particular values for each placeholder\n",
    "  * `output.eval({placeholder:value})`\n",
    "  * `s.run(output, {placeholder:value})`\n",
    "\n",
    "So far there are two main entities: \"placeholder\" and \"transformation\"\n",
    "* Both can be numbers, vectors, matrices, tensors, etc.\n",
    "* Both can be int32/64, floats, booleans (uint8) of various size.\n",
    "\n",
    "* You can define new transformations as an arbitrary operation on placeholders and other transformations\n",
    " * `tf.reduce_sum(tf.arange(N)**2)` are 3 sequential transformations of placeholder `N`\n",
    " * There's a tensorflow symbolic version for every numpy function\n",
    "   * `a+b, a/b, a**b, ...` behave just like in numpy\n",
    "   * `np.mean` -> `tf.reduce_mean`\n",
    "   * `np.arange` -> `tf.range`\n",
    "   * `np.cumsum` -> `tf.cumsum`\n",
    "   * If if you can't find the op you need, see the [docs](https://www.tensorflow.org/api_docs/python).\n",
    "   \n",
    "`tf.contrib` has many high-level features, may be worth a look."
   ]
  },
  {
   "cell_type": "code",
   "execution_count": 132,
   "metadata": {
    "collapsed": true
   },
   "outputs": [],
   "source": [
    "with tf.name_scope(\"Placeholders_examples\"):\n",
    "    # Default placeholder that can be arbitrary float32\n",
    "    # scalar, vertor, matrix, etc.\n",
    "    arbitrary_input = tf.placeholder('float32')\n",
    "\n",
    "    # Input vector of arbitrary length\n",
    "    input_vector = tf.placeholder('float32', shape=(None,))\n",
    "\n",
    "    # Input vector that _must_ have 10 elements and integer type\n",
    "    fixed_vector = tf.placeholder('int32', shape=(10,))\n",
    "\n",
    "    # Matrix of arbitrary n_rows and 15 columns\n",
    "    # (e.g. a minibatch your data table)\n",
    "    input_matrix = tf.placeholder('float32', shape=(None, 15))\n",
    "    \n",
    "    # You can generally use None whenever you don't need a specific shape\n",
    "    input1 = tf.placeholder('float64', shape=(None, 100, None))\n",
    "    input2 = tf.placeholder('int32', shape=(None, None, 3, 224, 224))\n",
    "\n",
    "    # elementwise multiplication\n",
    "    double_the_vector = input_vector*2\n",
    "\n",
    "    # elementwise cosine\n",
    "    elementwise_cosine = tf.cos(input_vector)\n",
    "\n",
    "    # difference between squared vector and vector itself plus one\n",
    "    vector_squares = input_vector**2 - input_vector + 1"
   ]
  },
  {
   "cell_type": "code",
   "execution_count": 133,
   "metadata": {
    "collapsed": true
   },
   "outputs": [],
   "source": [
    "my_vector =  tf.placeholder('float32', shape=(None,), name=\"VECTOR_1\")\n",
    "my_vector2 = tf.placeholder('float32', shape=(None,))\n",
    "my_transformation = my_vector * my_vector2 / (tf.sin(my_vector) + 1)"
   ]
  },
  {
   "cell_type": "code",
   "execution_count": 134,
   "metadata": {},
   "outputs": [
    {
     "name": "stdout",
     "output_type": "stream",
     "text": [
      "Tensor(\"truediv_5:0\", shape=(?,), dtype=float32)\n"
     ]
    }
   ],
   "source": [
    "print(my_transformation)"
   ]
  },
  {
   "cell_type": "code",
   "execution_count": 135,
   "metadata": {},
   "outputs": [
    {
     "name": "stdout",
     "output_type": "stream",
     "text": [
      "[ 0.  1.  2.  3.  4.]\n"
     ]
    },
    {
     "data": {
      "text/plain": [
       "array([ 0.        ,  1.62913239,  2.09501147,  2.62899613,  0.        ], dtype=float32)"
      ]
     },
     "execution_count": 135,
     "metadata": {},
     "output_type": "execute_result"
    }
   ],
   "source": [
    "dummy = np.arange(5).astype('float32')\n",
    "print(dummy)\n",
    "my_transformation.eval({my_vector:dummy, my_vector2:dummy[::-1]})"
   ]
  },
  {
   "cell_type": "code",
   "execution_count": 136,
   "metadata": {
    "collapsed": true
   },
   "outputs": [],
   "source": [
    "writer.add_graph(my_transformation.graph)\n",
    "writer.flush()"
   ]
  },
  {
   "cell_type": "markdown",
   "metadata": {},
   "source": [
    "TensorBoard allows writing scalars, images, audio, histogram. You can read more on tensorboard usage [here](https://www.tensorflow.org/get_started/graph_viz)."
   ]
  },
  {
   "cell_type": "markdown",
   "metadata": {},
   "source": [
    "# Summary\n",
    "* Tensorflow is based on computation graphs\n",
    "* The graphs consist of placeholders and transformations"
   ]
  },
  {
   "cell_type": "markdown",
   "metadata": {},
   "source": [
    "# Mean squared error\n",
    "\n",
    "Your assignment is to implement mean squared error in tensorflow."
   ]
  },
  {
   "cell_type": "code",
   "execution_count": 137,
   "metadata": {
    "collapsed": true
   },
   "outputs": [],
   "source": [
    "with tf.name_scope(\"MSE\"):\n",
    "    y_true = tf.placeholder(\"float32\", shape=(None,), name=\"y_true\")\n",
    "    y_predicted = tf.placeholder(\"float32\", shape=(None,), name=\"y_predicted\")\n",
    "    # Your code goes here\n",
    "    # You want to use tf.reduce_mean\n",
    "    # mse = tf.<...>\n",
    "    mse = tf.reduce_mean(tf.square(y_predicted - y_true))\n",
    "def compute_mse(vector1, vector2):\n",
    "    return mse.eval({y_true: vector1, y_predicted: vector2})"
   ]
  },
  {
   "cell_type": "code",
   "execution_count": 138,
   "metadata": {
    "collapsed": true
   },
   "outputs": [],
   "source": [
    "writer.add_graph(mse.graph)\n",
    "writer.flush()"
   ]
  },
  {
   "cell_type": "markdown",
   "metadata": {},
   "source": [
    "Tests and result submission. Please use the credentials obtained from the Coursera assignment page."
   ]
  },
  {
   "cell_type": "code",
   "execution_count": 139,
   "metadata": {
    "collapsed": true
   },
   "outputs": [],
   "source": [
    "import submit"
   ]
  },
  {
   "cell_type": "code",
   "execution_count": 140,
   "metadata": {},
   "outputs": [
    {
     "name": "stdout",
     "output_type": "stream",
     "text": [
      "Submitted to Coursera platform. See results on assignment page!\n"
     ]
    }
   ],
   "source": [
    "submit.submit_mse(compute_mse, 'snowneji@hotmail.com', 'VsRZaPzHU4obXM5v')"
   ]
  },
  {
   "cell_type": "markdown",
   "metadata": {},
   "source": [
    "# Variables\n",
    "\n",
    "The inputs and transformations have no value outside function call. This isn't too comfortable if you want your model to have parameters (e.g. network weights) that are always present, but can change their value over time.\n",
    "\n",
    "Tensorflow solves this with `tf.Variable` objects.\n",
    "* You can assign variable a value at any time in your graph\n",
    "* Unlike placeholders, there's no need to explicitly pass values to variables when `s.run(...)`-ing\n",
    "* You can use variables the same way you use transformations \n",
    " "
   ]
  },
  {
   "cell_type": "code",
   "execution_count": 141,
   "metadata": {
    "collapsed": true
   },
   "outputs": [],
   "source": [
    "# Creating a shared variable\n",
    "shared_vector_1 = tf.Variable(initial_value=np.ones(5),\n",
    "                              name=\"example_variable\")"
   ]
  },
  {
   "cell_type": "code",
   "execution_count": 142,
   "metadata": {},
   "outputs": [
    {
     "name": "stdout",
     "output_type": "stream",
     "text": [
      "Initial value [ 1.  1.  1.  1.  1.]\n"
     ]
    }
   ],
   "source": [
    "# Initialize variable(s) with initial values\n",
    "s.run(tf.global_variables_initializer())\n",
    "\n",
    "# Evaluating shared variable (outside symbolicd graph)\n",
    "print(\"Initial value\", s.run(shared_vector_1))\n",
    "\n",
    "# Within symbolic graph you use them just\n",
    "# as any other inout or transformation, not \"get value\" needed"
   ]
  },
  {
   "cell_type": "code",
   "execution_count": 143,
   "metadata": {},
   "outputs": [
    {
     "name": "stdout",
     "output_type": "stream",
     "text": [
      "New value [ 0.  1.  2.  3.  4.]\n"
     ]
    }
   ],
   "source": [
    "# Setting a new value\n",
    "s.run(shared_vector_1.assign(np.arange(5)))\n",
    "\n",
    "# Getting that new value\n",
    "print(\"New value\", s.run(shared_vector_1))"
   ]
  },
  {
   "cell_type": "markdown",
   "metadata": {},
   "source": [
    "# tf.gradients - why graphs matter\n",
    "* Tensorflow can compute derivatives and gradients automatically using the computation graph\n",
    "* True to its name it can manage matrix derivatives\n",
    "* Gradients are computed as a product of elementary derivatives via the chain rule:\n",
    "\n",
    "$$ {\\partial f(g(x)) \\over \\partial x} = {\\partial f(g(x)) \\over \\partial g(x)}\\cdot {\\partial g(x) \\over \\partial x} $$\n",
    "\n",
    "It can get you the derivative of any graph as long as it knows how to differentiate elementary operations"
   ]
  },
  {
   "cell_type": "code",
   "execution_count": 144,
   "metadata": {
    "collapsed": true
   },
   "outputs": [],
   "source": [
    "my_scalar = tf.placeholder('float32')\n",
    "\n",
    "scalar_squared = my_scalar**2\n",
    "\n",
    "# A derivative of scalar_squared by my_scalar\n",
    "derivative = tf.gradients(scalar_squared, [my_scalar, ])"
   ]
  },
  {
   "cell_type": "code",
   "execution_count": 145,
   "metadata": {},
   "outputs": [
    {
     "data": {
      "text/plain": [
       "[<tf.Tensor 'gradients_13/pow_13_grad/Reshape:0' shape=<unknown> dtype=float32>]"
      ]
     },
     "execution_count": 145,
     "metadata": {},
     "output_type": "execute_result"
    }
   ],
   "source": [
    "derivative"
   ]
  },
  {
   "cell_type": "code",
   "execution_count": 146,
   "metadata": {},
   "outputs": [
    {
     "data": {
      "image/png": "[encoded data removed]",
      "text/plain": [
       "<matplotlib.figure.Figure at 0x7f6bf7df0d68>"
      ]
     },
     "metadata": {},
     "output_type": "display_data"
    }
   ],
   "source": [
    "import matplotlib.pyplot as plt\n",
    "%matplotlib inline\n",
    "\n",
    "x = np.linspace(-3, 3)\n",
    "x_squared, x_squared_der = s.run([scalar_squared, derivative[0]],\n",
    "                                 {my_scalar:x})\n",
    "\n",
    "plt.plot(x, x_squared,label=\"$x^2$\")\n",
    "plt.plot(x, x_squared_der, label=r\"$\\frac{dx^2}{dx}$\")\n",
    "plt.legend();"
   ]
  },
  {
   "cell_type": "markdown",
   "metadata": {},
   "source": [
    "# Why that rocks"
   ]
  },
  {
   "cell_type": "code",
   "execution_count": 147,
   "metadata": {
    "collapsed": true
   },
   "outputs": [],
   "source": [
    "my_vector = tf.placeholder('float32', [None])\n",
    "# Compute the gradient of the next weird function over my_scalar and my_vector\n",
    "# Warning! Trying to understand the meaning of that function may result in permanent brain damage\n",
    "weird_psychotic_function = tf.reduce_mean(\n",
    "    (my_vector+my_scalar)**(1+tf.nn.moments(my_vector,[0])[1]) + \n",
    "    1./ tf.atan(my_scalar))/(my_scalar**2 + 1) + 0.01*tf.sin(\n",
    "    2*my_scalar**1.5)*(tf.reduce_sum(my_vector)* my_scalar**2\n",
    "                      )*tf.exp((my_scalar-4)**2)/(\n",
    "    1+tf.exp((my_scalar-4)**2))*(1.-(tf.exp(-(my_scalar-4)**2)\n",
    "                                    )/(1+tf.exp(-(my_scalar-4)**2)))**2\n",
    "\n",
    "der_by_scalar = tf.gradients(weird_psychotic_function, my_scalar)\n",
    "der_by_vector = tf.gradients(weird_psychotic_function, my_vector)"
   ]
  },
  {
   "cell_type": "code",
   "execution_count": 148,
   "metadata": {},
   "outputs": [
    {
     "data": {
      "image/png": "[encoded data removed]",
      "text/plain": [
       "<matplotlib.figure.Figure at 0x7f6bf1c65f60>"
      ]
     },
     "metadata": {},
     "output_type": "display_data"
    }
   ],
   "source": [
    "# Plotting the derivative\n",
    "scalar_space = np.linspace(1, 7, 100)\n",
    "\n",
    "y = [s.run(weird_psychotic_function, {my_scalar:x, my_vector:[1, 2, 3]})\n",
    "     for x in scalar_space]\n",
    "\n",
    "plt.plot(scalar_space, y, label='function')\n",
    "\n",
    "y_der_by_scalar = [s.run(der_by_scalar,\n",
    "                         {my_scalar:x, my_vector:[1, 2, 3]})\n",
    "                   for x in scalar_space]\n",
    "\n",
    "plt.plot(scalar_space, y_der_by_scalar, label='derivative')\n",
    "plt.grid()\n",
    "plt.legend();"
   ]
  },
  {
   "cell_type": "markdown",
   "metadata": {},
   "source": [
    "# Almost done - optimizers\n",
    "\n",
    "While you can perform gradient descent by hand with automatic grads from above, tensorflow also has some optimization methods implemented for you. Recall momentum & rmsprop?"
   ]
  },
  {
   "cell_type": "code",
   "execution_count": 149,
   "metadata": {
    "collapsed": true
   },
   "outputs": [],
   "source": [
    "y_guess = tf.Variable(np.zeros(2, dtype='float32'))\n",
    "y_true = tf.range(1, 3, dtype='float32')\n",
    "loss = tf.reduce_mean((y_guess - y_true + tf.random_normal([2]))**2) \n",
    "#loss = tf.reduce_mean((y_guess - y_true)**2) \n",
    "optimizer = tf.train.MomentumOptimizer(0.01, 0.5).minimize(\n",
    "    loss, var_list=y_guess)"
   ]
  },
  {
   "cell_type": "code",
   "execution_count": 150,
   "metadata": {},
   "outputs": [
    {
     "data": {
      "image/png": "[encoded data removed]",
      "text/plain": [
       "<matplotlib.figure.Figure at 0x7f6bc081ceb8>"
      ]
     },
     "metadata": {},
     "output_type": "display_data"
    }
   ],
   "source": [
    "from matplotlib import animation, rc\n",
    "import matplotlib_utils\n",
    "from IPython.display import HTML, display_html\n",
    "\n",
    "fig, ax = plt.subplots()\n",
    "y_true_value = s.run(y_true)\n",
    "level_x = np.arange(0, 2, 0.02)\n",
    "level_y = np.arange(0, 3, 0.02)\n",
    "X, Y = np.meshgrid(level_x, level_y)\n",
    "Z = (X - y_true_value[0])**2 + (Y - y_true_value[1])**2\n",
    "ax.set_xlim(-0.02, 2)\n",
    "ax.set_ylim(-0.02, 3)\n",
    "s.run(tf.global_variables_initializer())\n",
    "ax.scatter(*s.run(y_true), c='red')\n",
    "contour = ax.contour(X, Y, Z, 10)\n",
    "ax.clabel(contour, inline=1, fontsize=10)\n",
    "line, = ax.plot([], [], lw=2)\n",
    "\n",
    "def init():\n",
    "    line.set_data([], [])\n",
    "    return (line,)\n",
    "\n",
    "guesses = [s.run(y_guess)]\n",
    "\n",
    "def animate(i):\n",
    "    s.run(optimizer)\n",
    "    guesses.append(s.run(y_guess))\n",
    "    line.set_data(*zip(*guesses))\n",
    "    return (line,)\n",
    "\n",
    "anim = animation.FuncAnimation(fig, animate, init_func=init,\n",
    "                               frames=400, interval=20, blit=True)"
   ]
  },
  {
   "cell_type": "code",
   "execution_count": 151,
   "metadata": {},
   "outputs": [
    {
     "data": {
      "text/html": [
       "<img src=\"data:image/jpeg;base64,/9j/4AAQSkZJRgABAQAAAQABAAD/2wBDAAIBAQEBAQIBAQECAgICAgQDAgICAgUEBAMEBgUGBgYFBgYGBwkIBgcJBwYGCAsICQoKCgoKBggLDAsKDAkKCgr/2wBDAQICAgICAgUDAwUKBwYHCgoKCgoKCgoKCgoKCgoKCgoKCgoKCgoKCgoKCgoKCgoKCgoKCgoKCgoKCgoKCgoKCgr/wAARCAEgAbADASIAAhEBAxEB/8QAHwAAAQUBAQEBAQEAAAAAAAAAAAECAwQFBgcICQoL/8QAtRAAAgEDAwIEAwUFBAQAAAF9AQIDAAQRBRIhMUEGE1FhByJxFDKBkaEII0KxwRVS0fAkM2JyggkKFhcYGRolJicoKSo0NTY3ODk6Q0RFRkdISUpTVFVWV1hZWmNkZWZnaGlqc3R1dnd4eXqDhIWGh4iJipKTlJWWl5iZmqKjpKWmp6ipqrKztLW2t7i5usLDxMXGx8jJytLT1NXW19jZ2uHi4%2BTl5ufo6erx8vP09fb3%2BPn6/8QAHwEAAwEBAQEBAQEBAQAAAAAAAAECAwQFBgcICQoL/8QAtREAAgECBAQDBAcFBAQAAQJ3AAECAxEEBSExBhJBUQdhcRMiMoEIFEKRobHBCSMzUvAVYnLRChYkNOEl8RcYGRomJygpKjU2Nzg5OkNERUZHSElKU1RVVldYWVpjZGVmZ2hpanN0dXZ3eHl6goOEhYaHiImKkpOUlZaXmJmaoqOkpaanqKmqsrO0tba3uLm6wsPExcbHyMnK0tPU1dbX2Nna4uPk5ebn6Onq8vP09fb3%2BPn6/9oADAMBAAIRAxEAPwD9/KKKKACiiigAooooAKKKKACiiigAooooAKKKKACiiigAooooAKKKKACiiigAooooAKKKKACiiigAooooAKKKKACiiigAooooAKKKKACiiigAooooAKKKKACiiigAooooAKKKKACiiigAooooAKKKKACiiigAorj/AAR%2B0J8A/iZ431n4Z/Dj44eD/EHiTw5JJH4h8P6J4ltbu%2B0t0kMTrcQRSNJAVkBQh1GGG088VZtfjb8Gb74p3PwLsvi54Ym8b2dgL288HRa/btqsFqQpE72gfzljIdPnK7fmXnkUAdPRRRQAUUUUAFFFFABRRRQAUUUUAFFFFABRRRQAUUUUAFFFFABRRRQAUUUUAFFFFABRRRQAUUUUAFFFFABRRRQAUUUUAFFFFABRRRQAUUUUAFFFFABRRRQAUUUUAFFFFABRRRQAUUUUAfIz%2BIrvxH/wUT0j40aVp3xZ1nw/4Z8I6/pWr2XiP4WX%2Bn6b4Ukmn0yMNpUo06CbVWu5bUtJiS%2BRUQyxvbxjbLy/g74f/EGL9qTw98N5fhR4oh17Qf2nfEnj3WvGcvhq6TSpvDt5oWp29tImpmP7NPIVvbDT/sqyGZPszMYxHCr19w0UAeIftr%2BO/wBp34WeFtF8bfAPx94D022ufF/hzw/qFj4v8B3uqyO%2Bq67Y6X9ojlttVsxGIkvDJ5ZR95jA3oDkWf8AhB/%2BChf/AEdB8Gf/AAw%2Brf8AzUUft4f8kQ0P/ss3w4/9TXRK9moA8Z/4Qf8A4KF/9HQfBn/ww%2Brf/NRVbWdA/bz8OaRdeIPEP7W3wQsLCyt3nvb29%2BB2qRQ28SAs0ju3ikKigAkkkAAZrtvhz8ddL%2BIPxC8S/DO58F65oGp%2BHTHIkWuxQx/2nZvJNEt5biOVy0JlglTLBW4UlQHUnwnxj4Y%2BMnh7SfE/w8%2BNujX%2BsaZ8RPFEvhqz8ZS%2BM3nuFS8eQ2EkOlRwrDawQsyQuY2EpCNOwKqSOulhHOfLN2emnVp9tbOyu/6dsZ1Uo3Svv/X3lHxB8b/27NYt/Cy/AD9pj4A%2BOLnxXqV3bWWPhRqtnboLWBp58y/8JHKfNCqAsRUFtwJKoC47H4Paz%2B3j8Zfh1p3xD0P9pT4RWkd4JYrqwvPgJqyz2V1DK8FxbSj/AISjiSKaOSNscbkOOKzfC3wc%2BK/xk%2BI914s8Z%2BCNU8Aatplhpl2de32sscviW1M0TXVtHHI3m272k8sT7wm%2BO5ZPvLlPb/gn8K5vhL4RuNG1LxGNX1PUtYvNV1nU0sVtUuLu5lMkjJCpYRoMgBdzHC5LMSSdcTTwtKlyxfvffvfqtNrbWflrpNKVWUrvb%2BvmeEeBx/wWR8RfFHWNF8XeKPgJ4e8H2FxPDpniCf4dapc32qbWxHMlnF4gKRRuAW/eThxkZTOcegf8IP8A8FC/%2BjoPgz/4YfVv/mor2aiuKclN3UUvS/6tm0U0tXc8Z/4Qf/goX/0dB8Gf/DD6t/8ANRR/wg//AAUL/wCjoPgz/wCGH1b/AOaivZqw/iF8T/ht8JPDsni/4qfEDRPDWlQ/63Ute1SGzgXjODJKyrn8amMZSdoq7K3PNf8AhB/%2BChf/AEdB8Gf/AAw%2Brf8AzUUf8IP/AMFC/wDo6D4M/wDhh9W/%2BaiuQn/4Kh/BjxncPpn7Lfwu%2BInxlulcx/afAPhOX%2BzEkzgB9SvDBaBf9pZH78HFNHiv/gqv8XOfD3wo%2BFXwe0%2BX5Wl8V65ceJtVjH98QWQgtVb2M7jPr1rs/s/ER/i2h/iaT%2B7WX/kpfJLrodj/AMIP/wAFC/8Ao6D4M/8Ahh9W/wDmorK8XH9tXwBpZ1vx5%2B2j8BNEsl%2B9eav8F9Stoh/wOTxUB%2BtYn/DB3xr%2BIH779or/AIKJfFfXc8PpvgZ7TwnYsvdStjGbgj63BODyTWt4R/4JZ/sB%2BE9UGv3H7NOh%2BItT6vqnjiWfX7h267i%2BoyTHOeeMY7Yo9lgYfHVcv8Mf1k1%2BQWgup4x4q/4KMP4T1I6Kf%2BCo37O2tXwyBZeD/gRrmuzE%2BgTTvEs5J7YxWb/w3d%2B3rr//ACSnwjrXi1H/AOPe8tP2O9a022l9CJdT8W2w2%2B/P0r7m8K%2BCvBvgTTRovgjwlpmjWa/dtNKsI7eIf8BjUD9K06Pa4CPw0pP1lb8Ix/ULw7HwPH8av%2BDgjxA4bwj%2BzN8I7OBz8k3jHRfsJx6lLTxNeMv0IzXffCy1/wCC7ev%2BI7T/AIW94p/ZT8N6I%2B77ZLo/hPxHqd9F8jbdsTalBE3z7QcyjAJPJAB%2BuqKieIpSjaNKK/8AAm/xl%2BgnJdjxn/hB/wDgoX/0dB8Gf/DD6t/81FH/AAg//BQv/o6D4M/%2BGH1b/wCaivZqK5STxn/hB/8AgoX/ANHQfBn/AMMPq3/zUUf8IP8A8FC/%2BjoPgz/4YfVv/mor2aigDxn/AIQf/goX/wBHQfBn/wAMPq3/AM1FH/CD/wDBQv8A6Og%2BDP8A4YfVv/mor2aigDxn/hB/%2BChf/R0HwZ/8MPq3/wA1FH/CD/8ABQvt%2B1B8Gf8Aww%2Brf/NRXs1FAHxJ4k1P/g4i8P7pdK0j9kfX0H3E0%2Bw8RW8jD3E96qg/8CNYI/aJ/wCC63hg%2Bd8Sv2XvBot1/wBZP4J8CQ6wf%2BAxyeMLaRv%2B%2BRX3zRXZHE0bWlRi/wDwJflJ/kVzLsfK/wCz98Sv%2BChPx%2B0zUr9/GnhvwRNpk8cU1j8Qf2YtX06WYspO6EjxY6TKMYLIxAJA71pfEvxF/wAFBvh74t8EeC7f9oL4M6he%2BNvEj6Xbr/wpTVYRaxRWNzeTXJ/4qZt4VLbbs%2BXLSKNwr6Wrzbx/%2BzPoHjv4y6D8dU%2BI/jDSdb8O288NhbafrKyaeVmiaKQtZ3EcsIYqeXRVf5R83XMU5Yd13Jq0bOy1lrZ27PfW/QFy3PBf2g/jh/wUO%2BCWpXmmaH8V/hH4kfQPDMniXxhJD8GdStk0nR42kDT5fxOTNKfJmKQqAWELfMOM60Hxz/aoufinb/CGL9rP4VnUrm7SyS7/AOGbde%2BwrfvaC8Wxa6/4SXyluTbETeUWB2%2B4xXb/ABj/AGSvHXxJ8U31xpHxXtLTR/Fvh6w0bx8l1ope9u7e1mkk3WsiSpHCZlkeGRWjZQrFkw2c8PqP7PH7SK6v4g8LaD4b06z0/TfFeu%2BL9B8S/wBqKf7Sv5bcppVsIBmSLySyrK78MLddmRIQnXTo4GpSScrO3e333XR9F038qSg0dT4Q179rv4gavqvh/wACftzfs%2Ba1qGhXAg1ux0r4O6hcTafISQEnRPFZaIkq2AwGcH0rf/4Qf/goX/0dB8Gf/DD6t/8ANRXF/sZeCtWfxvoXiLRPBHiDw54Z8GfCDTvCaQeJdBm0271HUzMJrl3imVXkEIiTE2NjyXc5RnBLH0f4l/ttfsqfBj4q2/wW%2BMHxs0fwr4gu7OO5s4vEbPZW1wjlgoS7mVbdnypygk3jIyBuGeethJKu6dFOVlfRXfntfyfW1yXHWyMz/hB/%2BChf/R0HwZ/8MPq3/wA1FH/CD/8ABQv/AKOg%2BDP/AIYfVv8A5qK9f0vVdM1zTodX0XUoLy0uYxJb3VrMskcqHoyspIYH1FT1x7EnjP8Awg//AAUL/wCjoPgz/wCGH1b/AOaivP8AwGP%2BCyGo/FLVfB/xL8UfATSfDkFvLNo3i/R/h1ql9HeYlVUhltpPEEMsEpRi5wHjGxhvPy5%2BpqKuM1FNOKd/XTzWv53Jaba1Pmf48eIv%2BCh/wV%2BHFx41sPjv8F9d1F7q3sdG0I/BrV7RtRvriVYbeBZB4jl2lpHUE7DhdzHhTV/4ieI/2wPhBo9pr3xY/ba%2BAnh2zvb2Ozgu9W%2BCmqQwtcPnam9/FIAzg8nA47V6B8VvgFqvxB%2BJ3hf4raX8TdStJfCt2bq28M30Edzo93N9nuIVmki2rKkyi5YrIkgA2qSjEDHC/tNQ/EnxB4m8NL4X%2BFfixvF2g3kEnhzWNKeCbQLk3Pl29/HeCQsUiSCSfJliRyozCxc7R10aVCqoQv3bezXZa6WVt9d3poZTnUhzO3a39I2bTwl/wUAv7WK/sP2qvgrPBPGskM0PwK1VkkQjIZSPFOCCDkEVJ/wg/wDwUL/6Og%2BDP/hh9W/%2BaivNdS%2BMuueHtf0z4uRfEy50Hw1a%2BK9StLHwjZ20MenQeGNKW4TULuaLZv377d3VwRtCRqnDkN7F8G/j74n%2BIXjWbwN47%2BFzeFr2Xw3a6/pVrLq4uZ3sppHj23MYjX7NOrpgx5cfNw5KsqzVwVWnHmWq/L/O11e2g4V4SdjjNS8Y/tm/CX40/Crw18Ufi38MPEvh/wAeeNbvQdTtNA%2BF2o6ReW4j8P6vqcc0VxNrl2gPm6dGjK0JysjYKkA19A14z%2B1B/wAlv/Zx/wCyzX3/AKhXiivZq4zYKKKKACiiigAooooAKKKKACiiigDxn9vD/kiGh/8AZZvhx/6muiV0/gH9pT4cfFD4t%2BIvhB4Dg1jUbnwoGj17Wo9HlXS7a8V1VrEXTAJJcru3MibtoByQRiuY/bw/5Ihof/ZZvhx/6muiV7KiJGCI0CgkkgDHJ5Jq4umovmV301tb/P00Jak2rM8u%2BLvwe%2BKHi/41eDviZ8MfGOkeHP7Ds72013Ubqwe8ub%2BynMTGzSHckajfEsgmdm2OgxGwZs9XafB34fJ4nsPHus%2BHrbV/EemWrW9l4i1W2jlvIUZmLBH2gR53EHYFyMA8AV09FW69VxUb2sraaaeb3e//AABKnFNvuFVtY1nSPD2lXOva/qttY2NnA015e3k6xRQRqMs7uxAVQASSTgAVT8bjxq3hHUV%2BHEulprptWGlPrUUj2izY%2BUyrGyuyDuFZSemR1rxI634q/ae/ZI8b/C/4i32k6V430d7vw94oxGYLAalAUeGULIzMltcxtbTKCzER3O3cWXNOlR9ouZvS6T7q/W3b9TRK50PxC/a50a2t/C6/s/aJp3xJufFUeoXGm/2P4khjtpYLKBZpglwFkR52EkYjh%2BXduLFkVGYeLeI/2k/G2seIvHnx48DfE3XI38H2eka/o3gW/mt4dP1fwsSseoRLGU3C/W5ttShLl2MU0duufLlUHV8I/Br4i/Gf40%2BIfGll4M1/4Z3UA0vV5dQ1PTY2iTxVbyPb3Eluqybby2ubGOGOZl2hl2bX3l9nr/gL9kj4Z6b4G0zw78X/AA5oHjjU7DXb3WhqeqeG4hFDfXVzJcubaGQym3iV5SI497lAifMSoNelfA4RWau9L7N66vvHbTRp63NPcid/418PXXjjwNqfhfTfFeqaDNqumy28GtaQUjvLBpEKrPF5qMqyoSGG9CARyp6V4z8Pf%2BCZ37IngzxFH498YeA7r4ieK05bxb8UtVl8QX5bsym7LRwkdvJjjA7CvfaK82nicRRg405OKe9tPxWvyvbyM1KSWgy3t4LSBLW1gSOKNAsccahVVQMAADoBT6KKwEFFFc/8SPiv8Lfg34bk8ZfF34k6B4V0iLPm6p4j1iCxt04zzJMyqPzpqMpOyV2NJydktToKK%2BVbz/gsN%2Byj4lvJdI/Zo8N/Eb4330LlJYvhD4AvNTtUYcfNfyrDYgZ4z5%2BB37UwftEf8FW/iv8Au/hN/wAE/PB3w9tZPmg1f4x/FJJZdnYtY6NDclWxztadT2OOtdX1HEr40o/4mo/g3f8AA6fqWIXxpR/xNL8G7/gfVtFfKY/Z0/4KwfEX/S/iR/wUZ8HeBkk4l0v4VfByGTYO4W61i5ujn38ketL/AMOsh4k/efF//goR%2B0x4saTm5th8UTo1rJ6jydIgtcL/ALJJ%2BtH1fDx%2BKsvkpP8ASKD2FCPxVV8lJ/okfVTukal3YKoGSScACuR8S/tBfAXwYzJ4w%2BN3hDSSn3xqXiW1gK/XfIMV4Kn/AARR/wCCal2wm8Xfs%2BXXimbOZJ/GfjjWtZaRvUi8vJF/IAV13hr/AIJX/wDBNPwkqjRP2BvhAGT7st18PdPuJB/wOWJm/WjlwC%2B1J/8AbsV%2BcmHLgl9qT%2BSX5yZtar/wUO/YB0Jimt/ty/B6zK/eF18TNKjI/wC%2BrgVjzf8ABUv/AIJoQNtf/goJ8Fyf9j4m6W38p67DSv2Nf2QdCULon7Knw2swv3Ra%2BBtPjx/3zCK2If2d/wBn%2B3XZB8DPByD0TwzaD%2BUdF8v7T/8AJP8AIP8AYe0//Jf8jzq2/wCCon/BNS7YJD/wUE%2BCuT0D/FDSl/8AQrgVvaN%2B3p%2Bwz4iYJ4f/AGz/AIT3xb7os/iLpkuf%2B%2BZzXSXX7N/7O96uy9%2BAnguYHqJfC1ow/WOsHWP2HP2KfEKlNf8A2PvhbfBvvC8%2BH%2Bmy5/76hNH/AAn/AN//AMkD/Yf7/wD5Kdn4X%2BK3wu8blV8F/EnQNXLfdGl6xBcZ%2Bnlsa36%2BdPFH/BIn/gl74vDDVv2B/hVFu6nS/BtrYn8DbIhFYB/4Iv8A7BGknz/hr4P8beBrkf6u68DfFnxDphj/AN1Ir7yx/wB8UcmAe05L1in%2BUg5cE9pyXrFP8pH1VRXyp/w7X%2BLPg7/Svgj/AMFR/wBojQrhf9VD4n1/TvE9qvplNTspZG/GWk/4Vb/wWO%2BGf/Im/tY/Bf4oQdfI%2BIPw3vNBuSPT7Rpd1LGD/tfZ8f7NP6tRl8FaPzUo/mmvxD6vRl8NVfNSj%2Baa/E%2BrKK%2BUT%2B2h%2B338Kv8Ak4f/AIJda/qljD8s%2Bu/BXx3p/iFXP95bK7%2BxXQHsFc8dzgVreB/%2BCvP7BfiXxDD4G8efF24%2BGfiWY7T4Z%2BL2gXnhe7V%2BmwHUY4opGyQP3bvycUngcVa8Y8y/utS/Jt/gDweJteMeZf3Wpfk2/wAD6YoqtpGsaR4g0yDW9B1W2vrK5jEltd2c6yxSoejK6khh7g1Zrk2OXYKzfFng3wh4%2B0Kfwt468K6brWmXK4udO1axjuYJR6NHICrfiK0qKabi7oD5r1P/AIJe/A3wrqVx4o/ZU8aeMPglrM8hmkk%2BHGuNDps8nUedpdwJbKRAf4REv1FV28af8FL/ANnH/kffh14Z%2BPfhuD7%2BseCGXQPEiRjlnfT7l2tLlsdFhmiJ7L2P05RXasfWnpWSqL%2B9q/8AwJWl%2BLL5299Txv4E/t6/s0fH/wARv8PNA8ZT6B40gH%2Bm/D/xrp8mka5btjJH2S5CtKB3eLzE/wBqvZK4T48fsxfAD9p3w4nhb48/CjSPEltCd1nLfW%2BLmyf/AJ6W9whWW3f/AG43VvevFn%2BCH7cf7JP%2Bn/syfFR/i/4Og5b4a/FHVNmr28Y/g0/W9uWPQLHeK6gDHmjrR7LCYj%2BFLkl2lt8p/wDySXqFoy20PqSivHP2eP24fgz%2B0D4hufhkU1Twd8QdNi36x8N/Gtl9g1i1UdZEjYlbqHjImgaSMgg5GcV7HXLVo1aE%2BSorP%2BvvXmm15ktNOzPOPHX7K3wb8WeG/GGmaH4K0nQNT8a2jRazrul6TCtxNIWDrLJ8uJT5gV2DcOR82au/CL4O6j4C1zXPH3jbxmfEfirxILWPVdXWw%2ByQrb2yOsFtBAHfyokaWeTBdiXnkJY547qiqeIrOm4OV0/%2BB13totPJGfs4KV7HjH7TrF/jb%2BzkShX/AIvPfjB9vBXijmvZ68Z/ag/5Lf8As4/9lmvv/UK8UV7NWJYUUUUAFFFFABRRRQAUUUUAeD%2BFPjN%2B0Fof7Z9v%2Bzp8QvEHgjxJpes%2BEdV8RLF4V8OXlje%2BFbaC9toLFb6Wa9uI7oXQmuFR1jtSXsZiiSKshiwvhX%2B1P8Xdd/bS8V/A34seJtE8M6Lb%2BJ7nTfAGgX/wn1u0ufE9tFpdvdm4tdenuxp93IrtdlreCBpBHauSAEZx0Xwm/YlvPg58QvG/xG8OftZfE27uvH2uT6rrcGrW3h2cLO7IIljm/sgXHlW8KLbwxPK6RxcBS3z1v337LUHiL45aL8a/Hvxv8a%2BIofC2tXOr%2BEfB2pHTI9J0W%2Bms7iyaeL7NZRXUxW2u7qNBc3EyqJ2IG5UZQDjP%2BChfxc%2BFHhrwf4M%2BFHiP4neHtP8AFPiD4w/D2XQfDV7rUEWoakkfjPRmka3t2cSTBVVixRSAFJOMGvoevGf28P8AkiGh/wDZZvhx/wCprolezUAFcT8ff2h/hD%2BzH8PZviZ8Z/F8OlaakqwWsexpbm/uX4jtraFAXuJnPCxoCx5PQEjH/an/AGpPBn7LXge11zV9Ivde8Ra7fLpvgvwXowD6h4h1Fx8ltAvYD7zyt8kaAs3YHhP2dv2RfGep/EGD9rX9tPVbLxL8UXiYaDpFsS%2Bj%2BBbZ%2BtppyNw05GBLeN%2B8kIwpVOG7KOHgqftq7tDolvJ9l2S6yei2V3oqUVa72PRP2afih8YvjD4JuvHvxb%2BBs3w%2BjvdRZvDWhanqaz6kdO2J5ct9Gi7LWdm3kwB3KKVViGBFJo37LXwo0z40678ftSt9Q1bxJrwgSWTVdQaS1tYoVVYo4bVdsClduRKyNNyQZCOK9GorF1pKcnT91S0sr7dtdenz/AV9dAooorEQUUV4H%2B1B/wAFAfh78BfGlt8Bfhr4M1b4o/F/VbYTaR8L/BpRrtIjgC6v53Pk6ZaZK5nnIyD8iuQRWlKlUrT5YK7/AK1fRLzdkaU6VStLlgrv%2Bt%2By82e9SyxQRNNNIqIilndjgKB1JPYV8w%2BP/wDgqp8FLjxfe/CX9kbwN4l%2BP3jayk8m70n4YWyT6bpsx6LfavKyWNoM5BBlZ1I5SsC0/YK%2BP/7YEi%2BKf%2BCnXxm%2B3aJMwktvgR8Nr%2Bew8M2y9Vj1G6UpdazIMKWDtHb7gcRFTX1L8Pfhx8PvhL4Qsvh/8LfA%2BkeHNC06Ly7DR9D06O0tbdfRIolVV/AV08uEofE%2BeXZaR%2B/d/JJeZvy4Wh8T532Wkfv3fySXmfMq/CH/AIKp/tN/6R8Z/wBofwz8AvDVx97wp8IrJdZ19om6xzazqEfkQyD%2B9bWp9nrovht/wSX/AGGvAviSP4g%2BMfhTN8S/Fy8yeMvi7q8/ifUXfOd6tftJHCfTyUjA7CvpKipljcRblg%2BRdo6fe1q/nITxle1oPlXaOn4rV/NkVlZWWm2cWn6daRW9vCgSGCCMIkagYCqo4AA7CpaKK5DlCiiigAooooAKKKKACiiigAooooAKKKKACsjxx8PvAXxO8OzeEPiV4I0jxDpNwMXGl65psV3by/70cqsrfiK16Kabi7oabTuj5W1n/gkN%2BzT4Z1OfxV%2ByV4t8cfAPXJpDK9x8JPE0llp88nUedpUwlsJUz1XyFyO44Ipv4k/4K0/stjd4r8JeDf2lvC0H%2Bs1DwwE8K%2BLI4%2BpdrSZ30%2B8YD%2BGOW3Zj0XkCvrWiutY2tLSraa/vav8A8C0l%2BLOlYyrLSraa/vav79Jfizwn9nX/AIKOfst/tH%2BLX%2BFWk%2BKdQ8I/EG3TN98MviJpUmieILfgk4tLjBuFwM%2BZA0seP4q92rzr9o79kr9nD9rfwmngv9or4QaP4otIH8ywnvYCl3p8uQRLa3MZWa1kBA%2BeJ0b3rwGb4c/8FBP2BR/afwV8Wap%2B0Z8LLUZuPAfjDUI08aaNAOT/AGfqb7Y9VVRki3u9sxCqqzMTT9lhq/8ACfLLtJ6fKWn3SS9R%2Bzw9f%2BG%2BV9pPT5S/%2BSS9T7DorzL9lz9r/wCA/wC2F4MuPF/wU8WvcTaZc/ZPEfh7VLR7PVtBvBndaX1nKBLbSqQwwww20lSy816bXLOnOlNxmrNdGc04TpycZKzQUUUVBJ5z%2B0Z%2Byj8Dv2p/D1tonxd8ICe702Xz9B8Q6dcNaarotwMFZ7O7iIlgcEA/Kdp2gMGHFeKj42/tJfsAzppH7W9/efEf4So4js/jJp2n/wDE18Px5wq65aQjEsQHH26BccZljUtur6wplxb293bva3UCSxSoUkjkUMrqRggg8EEdq66OLcIeyqrmh2fTzi94v8H1T3KUrKz2KvhvxL4d8Y6BZeK/CWu2eqaXqNslxp%2Bo6fcrNBcwuMrJG6Eq6kEEEEg1dr5I8Y/CT4if8E5NevfjV%2Byv4bvtf%2BEF3cveePvg5YL5kuhhjum1TQkP3ccvLYjCONxj2tgD6a%2BGPxN8A/GbwBpPxT%2BF3im01vw/rlkl1pWqWUm6OeJu47gg5BUgMrAqQCCKWIw6pxVSm%2BaD2fVPtJdH%2BDWqdtiUbarY82/ag/5Lf%2Bzj/wBlmvv/AFCvFFezV4z%2B1B/yW/8AZx/7LNff%2BoV4or2auUkKKKKACiiigAooooAKKKKACiiigDxn9vD/AJIhof8A2Wb4cf8Aqa6JXoXxh%2BLfgP4D/C7XvjH8T9cTTtA8OabLfapduMlY0GdqjqzscKqjlmZVHJFee/t4f8kQ0P8A7LN8OP8A1NdErg/2h7YftXfts%2BDv2S5P3/gz4c2Nv4%2B%2BJUA5ivrzzmj0XTpexXzYp7x42BDC2iz1rpwtGNar7%2BkUm5ei3t5vRLzfkVFXepe/Y4%2BC3jz4i%2BNLj9vT9qPQXtvHXiayMPgrwrd/Mvgbw%2B53RWaKeBeTLtkuZcBizCIbVQg/SlFFTiK8sRU5notklsktkvJfjq3q2KTcmFFFFYCCiivnH/goV%2B0B8UPCGmeE/wBlX9mPUYrb4t/GPUZtL8MalJF5ieG9OhQPqWuyp0ZbWFhsUn555YVw2SK1o0pV6ihHr9yW7b8ktTSlSlWqKC/4ZdW/JLU539oD9qD42/tFfGTVf2I/%2BCf2r21hq2iMsPxY%2BMdzai5sPA6uM/YrWM/JeauyHIiJ8uAENLydo9e/ZT/Y7%2BCH7HXgq48KfCXRLmW/1a5%2B2eKfFuuXRvNZ8R3xyXu7%2B7f57iViWPOFXcQiqvFaX7L/AOzR8Lf2Rvgro/wM%2BEemSxaZpaM9ze3kvm3eqXkh33F9dSnma4mkLO7nqTgYAAHoFbVq8eX2VHSH4yfd/otl5u7Nq1ePL7KlpD8Zeb/RbLzd2FFFFchyhRRRQAUUUUAFFFFABRRRQAUUUUAFFeN6J%2B3r%2BzFf%2BPfF3w78TfEzSvDF94P8QDR7p/FOr2lil9cbAzfZhJNvkVSdrEqvPTI5r2C1urW%2Bto72xuY5oZkDxTROGV1IyGBHBBHeuivhcThWvbQcb6q6avdJ6PZ6NPRvfoc%2BHxeFxSbozUraOzTtZtardaprVLbqSUUUVznQFFFFABRRRQAUUUUAFFFFAHzx%2B1h%2BwXp3xf8AGUH7Sv7O/jZ/hl8cNFtvL0fx9pduGi1WFcEadq9sMLqFk20Da/7yLAaNlIwbf7Gn7aF/8d9V1z4CfHnwMngP41eB4oz4z8EtcmSC5t2O2LVtMlbButPmI%2BVx80THy5AGALe%2BV88/t9fso%2BLfjLoGj/H39nO9t9G%2BN3wwkk1L4da3J8sd%2BCP9I0W8OR5lleIDE4JGxykikFDntpVY14qjWf8Ahl/L5P8Au919nddU%2BylVjWiqVV%2Bkv5fJ/wB3y6brqn9DUV5t%2ByJ%2B0x4R/a%2B/Z48N/H7wfp9xp6a1asup6LejFzpGoQu0N3YzggESwTxyRNkDOzI4Ir0muScJ05uElZrRnLOEqc3GSs1oFFFFSSFfI/iuw/4drfH1fib4eX7P8CPidr8cHjLS14t/BPiG5cJFqkQ6RWV1IVjnXhY5WSQEBmWvrisH4ofDTwZ8ZPhzrnwo%2BIuix6joXiLS5tP1WylHEsEqFGAP8LYOQw5BAI5ArqwtdUZuM1eEtJLy7rzW6ffTZsqLs9djzf8Aag/5Ld%2Bzj/2Wa%2B/9QrxRXs1fL8/w08ffBu1/ZL%2BFPxM%2BIw8W6v4e%2BKl7YSeIjaGF72GLwZ4qWBpFLMTKIRGrvn53VmwN2B9QVhUjGE3GLuk9%2B/n8xPRhRRRUCCiiigAooooAKKKKAOQ8C/tB/AP4oeMtZ%2BHXw0%2BN/hDxF4h8OuyeINC0LxLa3d5pjK5jZbiCKRnhIcFSHAwwI61Ytfjb8Gb74p3PwLsvi54Ym8b2dgL288HRa/btqsFqQpE72gfzljIdPnK7fmXnkV81/DX4r6Z8WP239W%2BKfiz4SfEXwlpPws0nWvC/gXTbj4NeIYf7a%2B1XlmdR1ZroWH2d4JJbSBLWCKRmeNZrlwd8Yh5nwd8P/iDF%2B1J4e%2BG8vwo8UQ69oP7TviTx7rXjOXw1dJpU3h280LU7e2kTUzH9mnkK3thp/wBlWQzJ9mZjGI4VegD3v9vD/kiGh/8AZZvhx/6muiVyH/BO6L/hNvEPxz/aKvx5t34y%2BNOq2Fpdf3tM0cJpVqg/2Qbadx7ymr3/AAUL034rz%2BD/AAZqPhzxp4etfC0Pxh%2BHo17Rr3wxPcaheOfGejeW1veLexx2wVtpYPbTFgCAUyCK/wDwSxmji/Zf1Hw69skN5ovxS8ZWGpRIWO24TxBfM2dxJ3EOrHnvwAMCu2jpgazXVwXyvJ/mkWvgfyPo%2BiiiuIgKKKKACvkv9kWzb46/8FEv2h/2ptZYXFt4IvtP%2BFPgjeObOG0todR1Yr/11vb2JS3Ui0UZ4wPrSvlT/gluy2GoftJeFLv5b/Tv2pfFUt3G3DbLpLO8gcj0MM8eD/s%2B1dmH93DVpLe0V8nLX8kjqoe7h6slvZL5OWv5JH1XRRRXGcoUUUUAFFFFABRRRQAUUUUAFFFfL3/BUX9qr45/snfDbw34t%2BFEvhvT9M1jXhpmv%2BIdZjNzc6YHGUktrTcouCFWVm%2B/gIBswSy9mAwVbMsZDDUrc0nZXdls32fbtrscWY4%2BhlmCniq1%2BWCu7K73S7rvq72S1Z9Q14P%2B2h8c/wBrv4K6r4Ok/Zl/Zoh%2BIdhqN/MvidRdOk1vGiqUjQqQIS4L4nYSIpTaUyy5%2BNrP9pmz8Y6aniD4rf8ABRz4%2ByWs0Xmpe%2BFfhWNFtmQjIZWgWQFSOh/Gvkr9sz41fDz42WPhzw3%2Bz18UPjX4ilu57mPxXb/FzWEvzeljB9lW3jt5ipwwmyrDOSmM4r6zC8K4vD1PaOm61tOX2dTlu7q7fPTaS3bWqtez2PmocTZbmdWOGqYiOFjK79pKrTUko%2B81FeyrJyklyxi1aUpJcyvzL3T9sf8AbZ8W%2BH/ipPrHxZ/4Jd%2BAPDGt6xFvv5viD4ek1K41aNVWPMVxtgX5VwDLHkgqBkEYr1n/AIIh/tJftJeK5NR%2BDum/CnTNR%2BHFjrM082pW%2BvpDL4SFxHLNHbx288rzXFs8ke1AAWVnkZpGwQPlmw/aa/4KPfsvfs%2B6N8Ptf8Fa7oHhuwvmTQPEPi/wE0kluZolZbW2uL%2BJ0jTbDI6InzAM5BIVdvqH7PPxP/bA/ZRv9S%2BKPwl%2BL/wU%2BIkPjm1t77VfFPjD4i2qXlyI4cRW8/26%2BtrmKRNzLsYfK2QxwBj7LF5b7Xh6WGdKkpySUf3s5xvHs3zcrinom730s46HwNHMqdDin6xSr1p0oNtt0adObjK9rxXLzKTSu0rW95NSaZ%2Bv9FfAug/8F3/BPhrQ7S5%2BPv7M3ivRZ7x5RYX3hq9tdT0/Uo4n8qWa3uHeFJVEqyIfLMigrjeTkDmrj/g4Q0a6%2BIDeHvBv7LGpa3pd3dwR6VMviAQX8gdEDIbZbeVXl8wsoVZMNgAHnNfnkeDeJZtpYd2XXmjbTs%2Baz/D8D9GnxtwvCKcsQrvpyzur91y3X4/ij9H6K4v9nz48/D/9pf4SaR8Y/hrqBm03Vrfc0MhHnWkw4kt5VBO2RGypHTjIJBBPaV85VpVKFWVOorSi2mnumt0fTUa1LEUo1abTjJJprZp7MKKKKzNAooooAKKKKACiiigD5N/ZgtV%2BAH/BTL46/s16ePK0D4gaFpXxW8PWUf8Aq7a8uJJdN1jHvJcWtrOR/euGP8VfWVfKk7Lqn/Bb20%2Bwnd/Yn7K9yuplf4Te%2BJLc24b3IsbkgfWvquuzGazhJ7uEW/WzX5JHVi9ZQk93GLf3NfkkFFFFcZyhRRRQB4z%2B1B/yW/8AZx/7LNff%2BoV4or2avGf2oP8Akt/7OP8A2Wa%2B/wDUK8UV7NQAUUUUAFFFFABRRRQAUUUUAFFFFAHjP7eH/JEND/7LN8OP/U10SuM/ZOmHwb/bP%2BO37Mmo/uodf1i2%2BJfhMP1ubXUYkttQ2%2B0d/asSP%2BnpT/FXZ/t4f8kQ0P8A7LN8OP8A1NdErl/2/fAnjTwkfCn7b3wb0GfUvFfwhuZ7jVdFs1/e6/4auFVdTsFH8coREuYQc4ltwACXrtwTU5SoSdudWX%2BJO8fx0/7eLhrp3Po6isT4bfEbwX8XvAGj/FH4c%2BIINV0LX9OivtK1C2bKTwSKGVvUHBwQeQQQQCCK2645RlGTi1ZojYKKKKQBXyLfX4/Y/wD%2BCqcur6032fwR%2B0/otpaQ30nEVn410iBo44GPCob3TQoTPLyaftGSwr66rzb9rP8AZh8Bftf/AAM1f4IePrm6skvDFdaNrumyeXe6HqUDiW01C1kHMc8Mqq6kHnBU5VmB6cNVhTm4z%2BGSs/8AP5NJ/eup0YepCE3GfwyVn/n8mk/v7npNFfNP7E37XPjvX/FN9%2Bxf%2B2LBa6N8cvBtkJLpok8qy8baWp2R69pmcB45MDzoV%2Ba3l3IyqNtfS1Z1qM6FTll/wGujXdP%2BtbpZ1aU6M%2BWX/Aa6NeT/AK6oKKKKyMwooooAKKKKACiiigArz/8AaX/Zl%2BE37Wfwvn%2BEvxi0ia502S5jubee0m8q4tLhMhZonwdrAMy8ggq7Agg16BRWtGtWw1WNWlJxlF3TWjT8jKvQo4mjKlVipRkrNPVNdmeM%2BKPhp8Sf2XP2Tofhp%2Bwh4C0nVNX8OokegaJ4q1CR4po3uDJOWkaaMlz5kjgGRFB4GAAtfnt%2B1T%2BzR/wUO/aX8Qr448X/APBPjRdA%2BIGl3kN/deLvBGuw20d/aKGCxSR/bJBPch1UiVJfOVEVSuNhH630V7uVcSYjKqsqsaUJ1G23OXNzO%2B6bUkmnro4vV37Hz%2Bb8M4bN6UaMqs4U0klCPJyq2zScG01pqpLRW6s/EH9mLXfgB8RvGVhpX7Ufgf44/GL4qx6jcQ6b4G86M6fuTJMUry3BuiVEZkk%2BVEXYVdGVSx9G/aU8Y/C25%2BI%2Bgfs3/FL9gbw3%2BzhY6/qUMOt%2BPLrSLXUpRYeSNwtZFtFiRsvEGuI3do2OWKkNXo3/AAWB8Hfs1fBrxNo9l8CvgSP%2BFra2l1quoXPhWe5tRa6eTtkuLmK0dC5lcuFYbRmOQsSPlfwP4cfsy/tl/td/s3afongP4ZfEfVTbX0gvdS8XfEC2GhSSIzbJLWwvYxJHMI5BGZY5SB%2B8wQHZF/T8PXwuPpUsznJ0qctEpzceRu9pQipRp8qa91ShK7V9T8pxGHxeX1quVQiq1WOrcKalzpWvGcnGVTmafvONSPKnbS5x37UXw4/Yq0b4k%2BG9Z%2BC/xV%2BImo/DORJLO/uW8JSSyaeY03qlnLdy26XHnytM5X92ItzuBJnZX0H%2Bwr4ctvhPfSftJ/sV/sIeOPiTpkkBtJPEHjXxhpEc9oUY%2BabK3hh3pKW25%2BZ2Crt6OWHon7KP7CH/AAUP8c%2BA9X%2BCn7V/x38X%2BC/Cmlw21po1hZ6hpuprqFoRIskUcgaSS28tUjCk9BIAFGwg/c3wC%2BAnwy/Zo%2BF2nfCD4SaGbHR9OVioklMks8rHLzSueXdjyTwBwAAAAPCz7ifDYfBfUo1PbyWj9%2BThKD1vKUVC8tlo7b38/oOH%2BFcVicd9elT9hF%2B8vcipxmtLRjKVS0NG/eV9rW6eA/sI/stftC%2BAPjd4q/aa%2BMWneFvBsPjnRo3n%2BHXgu7u2to755Ele7ukmYxrdKAUJhJQ73IxklvrCiivzjH46tmOJ9tUSTskklZJJWS3bdlpdtt9X2/Tcuy%2BhlmG9hSbau223dtyd29kld62SSXRdyiiiuI7gooooAKKKKACoNV1TTND0y51vWtQgtLOzgee7u7mUJHDEilmd2PCqACSTwAKnr4r%2BP3jfWP8Agp98VtT/AGHvgPrFzH8HvDepC3/aA%2BImnTFItUZCGbwpp8y/6ySTgXkqHEMRMW7fIVrfD0HWlq7RWrfZf5vZLq/nbehRdaWrtFat9l/n0S6v526H/gmVDqXx28T/ABU/4KNa7YzQW/xk1%2B3tfh7BdRFHj8IaUkltp021hujN1I93eFe63EZ6Yr6zqroWhaL4X0Sz8NeHNKt7DTtOtI7WwsbSERxW8MahEjRV4VVUAADgAAVapYir7es5pWWyXZLRL7l99xV6vtqrklZdF2S0S%2B5fmFFFFYmIUUV5F%2B2n%2B0nc/s1/B1tU8H6Ous%2BOfEt9HoXw58NKcvqutXGVgQjtFHzNKxICxROSRxWlGlOvVVOC1f8AX3dW%2BiTY0m3ZFb9qD/kt/wCzj/2Wa%2B/9QrxRXs1fL0/wo8SfA%2B1/ZL%2BF/jP4g6l4r1vS/ipejW/EWrXkk81/eyeDPFUs8gaQllj813CJ0SMIgwFFfUNKpGMZtRd0nv38/mD0YUUUVAgooooAKKKKACiiigAorxf9jn4u/HD4lXXxS8HfH698KXes/D/4mN4etr7wfotzYWtxato2lakhaK5urlzIrag8ZcOFcRqwRMkVyX7E/wC1P8XfjR8QvEfgj49%2BJtE0fXbW51iXSfh%2BfhPrfh/UE0211aS0hv477UbuSHV4Gh%2Bys8tpCsavdR5Zd6qQDr/28P8AkiGh/wDZZvhx/wCprolezV88f8FC/i58KPDXg/wZ8KPEfxO8Paf4p8QfGH4ey6D4avdagi1DUkj8Z6M0jW9uziSYKqsWKKQApJxg19D0AfIV/Jef8Eufinea8LaV/wBnLxvrLXGoCGMsvw21m4k%2BebaPuaVcyNlsfLbzOThUfn64sr2z1Kzh1HTruK4t7iJZIJ4JA6SIwyrKw4IIIII4INR61ouj%2BJNHuvD3iHSra/sL62e3vbK8gWWG4idSrxujAhlZSQQRgg4r5Obwv8Y/%2BCY93Jf/AAy0DWfH/wCz40rSXfhOzD3et/D5SSWksVJL32mrklrfJlgHzJvUMtej7uYLV2q/hP59J%2Buku6l8V/H6/n/wT66ornfhT8W/hp8cvAWn/FD4Q%2BNtO8Q%2BH9Vh8yx1TTLgSRyDuD3VgeGRgGUghgCCK6KuCUZQk4yVmiNgoooqQPJP2uf2Nvhd%2B2B4R0/TfF13qOg%2BJvDd4dQ8DePvDdx9n1jwzf4wLi1mA4BAAkibMcq/K6nAI8c8D/t0/Fj9kjxLY/An/gqRYWOkC5uFs/Cvx80a1MXhbxKScRpfdRot8w%2B9FKfIdg5ikxha%2BvqzvFvhHwp4%2B8M33gvx14Z0/WdH1O2a31LStVs0uLa6iYYaOSOQFXU9wQQa6qWISh7KquaPTuv8L/NPR%2BT1OmnXSh7OquaP4r0f5p6Pyepdtbq1vrWO9srmOaGaMPDNE4ZXUjIYEcEEcgipK%2BQpP2Cv2hf2QrmTxB/wTI%2BNtvpvh8SGWf4F/E2a4vvDLZOWXTrpS13o5OWIRDLBuYfugBWn4S/4Kr/DXwb4htPhr%2B3f8LfEH7Pfiu6lEFu/jnZN4d1GX/py12DNnKOnErQyc8oKp4NzXNQfOuy%2BJesd/muZFPCuavQfOu32l6x3%2Bauj6qoqvpOr6Tr%2BmW%2Bt6Fqdve2V1Estrd2k6yRTIRkMjqSGUjkEHBqxXHscmwUUUUAFFFFABXzDr3/BYH9hXw18SNb%2BGmr/ABJv/tGiyCI6lZaFcXdpezch44Ht1dnKEYZmVUP8LNT/AB3/AMFNvCC%2BJ7/wn%2Bzh8BfHvxcl0O%2B%2Bz%2BIdQ8GaK72NkyuFdFnZcTSjkhUBVsZ3gZI%2BVPH3iXQvhh%2B1Z4N/bF%2BC/wDwT0%2BN/gXRrDU764%2BJcieHp7V9TimRfLC24maJEEm95FPlo52DIPI%2Buyfh5VXNY%2BlJXi3BKcI%2B9a6UlKXMuZWUfd3e2zPjc74jlRUHl9WLSklNuFSfut2bi4x5Xyu7l72iTV90fU3/AA8i8QeP/wBz%2BzV%2BxR8VfGu7/Uanf6QujaZN6bbq5J/VBiqniL4j/wDBXTxb4cvh4Q/Zs%2BGXhS4ls5TbrrHjCS9uIm2HCqYNsZlzgKWITdgt8ua%2BotG1SHW9ItNat7eeKO8to50iuoGilQOoYK6NyjDOCp5ByDVmvK/tHB0JWpYSGn87nN6f9vRX3I9f%2BzcbXjetjJ6/yKEFr/27KX3s/Nv9kn/gkv8AEz433978Zf8Ago14k8eR%2BLdO1lIdFhPjOKeae3iUOJHmQSuqiRmEflzKRsJAA2lv0jVQihATgDAycn8zS0Vnm2c43Oa6nXaSXwxStGK00iui0NMnyTA5JQdPDpuT%2BKTd5Teusn1etgoooryj1wooooAKKKKACiiub%2BK3xj%2BEvwJ8HXHxC%2BNPxL0LwnoVqP3%2BreIdVis7dTjO3fKygsccKOT2BpxjKTtFXY1GUnZK7Okrnfit8XPhh8C/AWo/FL4yePtJ8M%2BHdKhMuoazrV8lvbwr2BZyAWJ4CjJYkAAkgV8zzf8ABRL41ftPk6H/AME0P2ZL/wAW2Mx2L8XviVDcaD4RgH/PWASIL3VQCCMW8SoeD5uOa2Phh/wTT0nXvHunfHv9u/4sXvxx8f6bN9o0aPXLFLXw14bl7HTNHQmGN14H2iYyznaG3qa7PqsaOuIly/3VrL7to/8Abz/7dOr6tGlrXfL5LWX3bL/t5/I42%2B8aftPf8FUFPh/4RJ4k%2BDn7PV1xqXjy8t3sfFXjy2PWLS4HAfS7GRet5KBPIrL5aICzV9XfBz4NfC79nz4Z6P8ABz4L%2BCLDw54Z0G0FtpWkabFsihQEknuXdmJZnYlnZmZiWJJ6aisq2IdSKhFcsFsv1b6vzfokkZ1a7qRUIrliun6t9X5/ckgooornMAoorzL9pj9rT4SfsseH7O88d3l3qGua1Mbbwr4M0C2N3rGv3XaC0tl%2BZznG5zhEyCzKKunSqVpqEFdvoNJt2R0Pxw%2BOHww/Zy%2BGGq/GD4weKYdI0LSId9zcy5Z5GJwkMSD5pZXYhUjUFmYgAc14r%2Byz8IPid8afiyf28v2p/DE2j65NYSWXws8AXpDN4N0eXG%2BWYdBqV0ApmYcxoFhB4YU34O/syfFr46/EzS/2rP27ra0XVtImNz8PPhRY3QuNL8HEj5bmdx8t9qe04M%2BPLiJIiHRh9MV2znTwlN0qbvN6Sktkv5Yvr/el12Wl3Km1FWW54z%2B1B/yW/wDZx/7LNff%2BoV4or2avGf2oP%2BS3/s4/9lmvv/UK8UV7NXnkBRRRQAUUUUAFFFFABRRRQB4v8Cf2PNY%2BBPjTxf41tP2sviV4jk8ceK4fEGvWPiG08OiB7tLW3syE%2ByaRA6Rvb2ltEwD5xCGUq7Ozanw//Zag8J/Ghfjz42%2BN/jXx1r1lod9o3h3/AISo6ZHBoljeXFtcXUNvHp9la7zI9lZgyXBmkC26gONz7/VKKAPGf28P%2BSIaH/2Wb4cf%2BprolezV4z%2B3h/yRDQ/%2ByzfDj/1NdErU8M/tgfBrWvjTqP7PPiK9v/C3jC0u5I9N0jxXZGyOuQqcC50%2BRj5d3E3OAjFxg7kXFaQpVKqbgr21dui7/wBfOxMpxja7tc9SooorMo%2Bcfih%2Bw54h8HePdQ/aB/YT8f2vw48bajN9o8Q%2BHrq1abwx4sk7m/s0IMMzdPtdvtlGWLCTNS/C/wD4KCeHLfxnafBD9r/wHdfB34g3T%2BVYWXiC6WTRteccbtM1MAQ3Gcr%2B5cxzAsFMZIzX0TWB8TPhX8NvjP4Nu/h58WvAmleI9Dv023elazYpcQSeh2uCAw6hhgg8gg13RxcKsVDErmttJfEvntJeUvlJF8yekjfor5dX9kD9pr9l3/TP2Efj0Lzw5Dyvwj%2BLFzPqGmRIP%2BWdhqILXlgABhUczx5PKgCr2hf8FKfA/gfVrfwV%2B2t8LPEHwO12eUQw3nixVuPD15Ie1trNvm2YY5xMYXGeVFDwMqivh5e0XZaSXrF6/wDgPMg5L/DqfSlFVdE1zRPE2k2%2Bv%2BG9YtdQsLuISWt7Y3CywzIejI6kqwPqDirVcLTTsyArP8U%2BFPC3jnw/d%2BEvG3hrT9Y0q/hMV9pmq2aXFvcRnqkkcgKuvsQRWhRTTad0CbTuj5u8Ef8ABLr9nv4J/FPTfih%2By54p8a/CiG21dL7WPBngfxPJF4b1sB8vDcaXOJbaNWGVzbrC4zkMDXWfty%2BLdd8PfCDS/DWg%2BKb3QW8YeNtF8OXevafKYptOtru7RJpUkH%2BqYxhkD8bTICCDivZazfF3g7wh8QPDd34N8e%2BFdN1vSL%2BPy77StXsY7m2uUyDtkikBVxkA4IPSuj6zUnWjOq3K3ff7%2Bvzvt2Oj6xOdWM6r5rff/wAH53Pmn4IeM/iZ4Y/ZC%2BLPiT4DN4g8ZJouua2nwiS/1KbV7m%2Bt4oUEEcU95Kz3Ma3IlRPMlOQhXdgACz8Of2tvinb/AA08L6NY6zovxR8d%2BJ/EN5o1jZXWhz%2BDf7OmsrWSe%2BGrJI989q0Xlqp8uIkm4h2xFW317P4s/Z%2B8CeIfC1x4W8P3ms%2BE0mS0SG78GaxLpstotsCsKwiIhERVJUpt2MvDKwAx5X4s/YHvNH0vQrj9nr4yT%2BG9f0w6/wD2n4h8T6W2tT6pJrKxfbb1wJ4Al6HhjeKT5oYxuTyGQhV6I1cLUb59276ry6tdL6u27v0OiNXDVG%2Bfq76ry6tdL66db9C3pn/BR34Inwf4V8T%2BJtE1%2Byk13QrPVfEEVrprXUPhO3uJ3tUl1KdMLBEbiKeLzP8AphIxCqpYbvjH9vP9iDRLi48K%2BJf2oPBqySRNHcR2uvpLtBBBUvCTsb8QRXwr%2B3B%2Bx/eeL/2h/D//AAT/APhHp1trOleOdW8Lar4iux4jkS40Xw9o1u9vdWt9AkQDRT%2BZJNHJ5isZrmX5QSm77e%2BJ/wCxz4W0j4Q3PhP9kj4a/Cnwf4i86F7K/wDEnw7i1KyKq4MiyxRvDJIWQFQ/mZXOecYr0amDyjDUqVSs53qXaScVaN7JtyTfe1lrZvXc8LF1q2KxEqWXyppRdpOblLVpO1o2s1ezTbez3djhf%2BCPVxE37KOo6d4dvWufCVh8Qdbt/Ac80ASaTRxOGiaU7VLuZGmJYgHkDjGK%2Bqq%2BStF0/wD4LN/DfS4dF0LwR%2ByprunWikQ2elXOv%2BHvlyThI/KvI0JJJxkDJNX7X9o7/gq1pMhtvEn/AATM8F6mEjdjd%2BG/j/DiRgpIUR3WmxEZIAGWxzzgCuXMk8fj6uIhKNptu3Or9N7qN27XfdtnTlmUVMBl1LDe0hLkildSS77J2aSvZLWySPqaivlX/htH/goXYn/ic/8ABHjxmyjq%2BlfF7wtcD8A95G36Uv8Aw3v%2B2BCMXf8AwSD%2BMSt3EPizwvIPzGp1xfUcR05f/Aof/JHd9Tr%2BX/gUf/kj6por5W/4bx/bMuPl07/gkB8XGbsLnxp4WhH5nUjSf8Ni/wDBR6%2B/5BX/AAR98QQg/dbWfjX4agH4%2BTNMR%2BVH1Gv15f8AwOH/AMkH1Ov1t/4FH/5I%2BqqK%2BVT8d/8Agrz4n/c%2BH/8Agnr8LPDJPCz%2BKfjxLdAe5Sy0lvyDGj%2Byf%2BC2fij9xe%2BNP2Y/BsT/AH5dO0TxBrs0Y/2TLNZoT9Vo%2BpyXxTgv%2B3k/yTD6o18U4r/t5P8AJM%2BqqK%2BU/wDhjH/goX4z/c/Ff/grT4htbWT/AF9n8NfhRouikD0Se7W9lXHru98UH/gj7%2Bzd4t5/aG%2BLnxp%2BLY/59/iH8XtUltc/9elnJbW%2BD/d8vb7U/YYWPxVb/wCGMn%2BfKg9jho/FV%2B6Lf58qPUPjn%2B3z%2BxP%2BzRHN/wAL3/ap8CeGbiD7%2Bnaj4kt/tpPcLbKxmc%2Byoa8r/wCHqNv8UR9l/Yx/Yv8AjJ8W2m4stdTwofDegyn1Ooa0bYFfeOOT2ByM%2Bu/BH9h39jj9mzypPgN%2By74D8KXEQ%2BW/0bwvbQ3Te7XATzXPuzE16nRz4Gn8MHL/ABOy%2B6Ov/kw%2BfBw%2BGDl6uy%2B6Ov4nyafBP/BXj9oc58a/Fv4b/s%2BaDP8AMdO8C6c/irxCEPBje%2BvkhsoWx/FHbS46g%2BnQ/Cv/AIJUfskeBfGNv8VviZout/FzxzbcxeN/jHrcniC9hOcgwRz/AOjWmD0%2Bzwx46DoK%2BkaKUsbXtywtBdoq33vd/OQni61uWFor%2B6rfe9382IqqqhVAAAwAO1LRRXIcoUV5x4u/az%2BAHhTQfGOrwfEnS9ZufAmnzXfiTRtC1CG5vbYRAbkMYcbXBZVO4qFZ13lc5rzrxh%2B1P8RfGes%2BGfhF4UsJPhl4s1jxcdH10%2BKdMg1NtMzpt3fWwjEFwIZftItJESQOygxyJt3lK6aeDxFTpZeenS/rt2T6dylFs%2BjKpeI/Enh3wfoV34o8W69ZaXplhA019qOo3SQQW8Y6u8jkKijuSQK5D9m/4tax8Y/hkPEHivRrfTdf0zWNQ0XxHp1q5aKC/sruW1lMZbny3MQljySTHKhyc5rz7xL/AME/vAHxg%2BK958T/ANqP4g%2BIPibZx6q114X8D%2BIZY4vD2hx7sxqLCBVju5FB2%2Bdc%2BaSMcA80Qo0o1ZRry5bdldvyWy%2Bbdrd9gSV9TmNR/bT%2BMH7U95N4M/4J0eAYdS0vzGg1D41%2BMbSWHw5ZYO1zYRfLNq8y4YDy9sAYLulIOK779m79in4f/AXxBefFfxN4i1Px78TdZgEev/EnxWVkv506m3t1UeXY2oJO23hCqBjcXIBr2GysrPTbOLTtOtIre3gjWOCCCMIkaKMBVUcAADAA6VLV1MXaDp0Y8kXv1b/xS/RWj5MHLSy0CiimXNzbWVvJeXlwkUMSF5ZZXCqigZJJPAAHeuMk8c/ag/5Lf%2Bzj/wBlmvv/AFCvFFezV4V8ePFXhjxv8UP2aPFfgzxFY6tpd78Y797PUdMu0ngnX/hC/FI3JIhKsMgjIPavdabTTswTTCiiikAUUUUAFFFFABRRRQAUVzPws%2BNPwc%2BOeiXfib4J/Fnwz4x02w1KTTr7UPC2vW%2BoQW95GFaS3kkgd1SVQ6FoyQwDqSORSeDvjb8GfiJ4v134e/D/AOLnhjXdf8LTiHxNoej6/b3V5pEhLAJdQxuz27EqwAkCnKn0NAHAft4f8kQ0P/ss3w4/9TXRK7n4zfAj4QftC%2BD5PAfxn%2BH%2BneINMdt8cN7F89vJ2lhkUh4ZB2kjZWHY1w37eH/JEND/AOyzfDj/ANTXRK9mqoTnTkpRdmuqE0pKzWh82L8L/wBtT9lT978DPGn/AAuLwXD93wR481MW%2BvWUf9yz1UjZcgdo7tc4UDzq7D4N/tzfAj4t%2BJx8M9Tv9Q8FeOVA8/wH48sTpmqAn/nkkh2XSnGQ8DyKRzmvY65L4xfAb4M/tBeGD4O%2BNXw00jxLp4JaKHVLNXaBj/HFJ9%2BF/wDbQqw9a7PrNGv/AB46/wA0bJ/NfC//ACV%2BZj7OcP4b07Pb5PdfijraK%2BcV/ZW/ac%2BAv7/9kT9pue%2B0mL/VfD/4u%2Bbq1iq9BHb6ghF7bKBwoYzqP7uOKeP29da%2BEx%2Bw/tm/s3eK/hysfEnirTITr3h5h0Dm8s1MluD1xPDHgdTwTS%2BpSqa0JKfktJf%2BAvX7nIftlH%2BIuX8vvX62Pouqut6HoniXSbjQPEej2uoWF3EY7qyvbdZYZkPVXRgVYH0IxWP8M/i98KvjP4fXxX8JPiPoniXTWx/puh6nFdRqT/CxjY7W/wBk4I7iuirklGdOVmmmvk/0NU01dHzbrX/BMn4Q%2BF9XuPF/7JnxB8W/A/Wp5DNIPh5qYTSLmXsZ9JuFkspFHosaH/aquPFP/BUX4EHyfFHw38CfHXRYflGo%2BFL8%2BGddKjq72l20lnK2P4Y54s%2Bg7/TVFdax9aStWSqL%2B8rv/wACVpfizTnfXU%2Bb9J/4KmfswaXqUPhz9oC38W/BzV532R2PxX8Lz6VC57lL3D2br7rOc/nXvfg3x14I%2BIuhx%2BJ/h94y0rXdNm/1OoaNqMV1A/0kjZlP4Gruq6RpWvadNo%2BuaZb3tpcIUuLW7hWSOVT1DKwIYexrwbxj/wAEuv2I/EutyeL/AAx8Hh4F19%2BV1/4Z6tdeHLpH/v50%2BSJHbqfnVuTnrRfL6m6lB/KS/Hll%2BLD3H5H0DRXzT/wx7%2B2F8OOPgJ/wUf8AFc1rH8yaR8V/C1h4jjc/3Tcxi1ugO2TIx9cmq%2Bs/FP8A4KmfB7R7rW/HfwI%2BDfxA0%2BztpJp7/wAKeObvw/LFGilmkeHUYZYgABkj7QB1%2BYU1go1HalVi79G3F/8Akyt%2BJMlGMXK%2Bx9NXd3aWFrJfX91HBBCheWaZwqooGSxJ4AA7mvlr9rf/AIKDfDk%2BBtQ%2BDH7JHxKtPF3xW8RkaX4ZsPCUgvfsc8jhHuZJY1eKNYlLOdx4KjIADEfKnwp8cD9pnwtZ/Gr9vP4RftNePdL1e5mu7Kx8J%2BHnuPCEcSzOq%2BVbadMbohNu0s6Lnb/GPmP1B8J/2/8A/glD8H4IvC3g/wAWeH/hnKyCJ7HXvBF54ckyP4ZGu7WHeeMkljk85Ne7/ZNDKsR78JV6kHqopezuujd5Skr72jG9mup89CpnGdYRToRVGlUjpJtyqcslulG0YOz05nJpu9ro7T9hP9gnw1%2BxfpWt6pceNrvxX4q8USxT6/4i1K1jEzyBcyKkmDKUaUs5Du2TgnnJP0BXnvgz9rf9lT4jBD8P/wBpj4f64X%2B6uk%2BMbK4J9sRyk59q7%2B3ube8gW5tLhJY3GUkjcMrD1BHWvAx%2BIxuLxUq2Ku5ve6ttotLKyS0SS0PXweBw2XYaOHw8OWEdlr6vV6tt6tt3Y%2BiiiuM6QooooAKKKKACiiigAoqprGvaH4dtDqHiDWrSxgXrPeXKxIPxYgV5l42/bx/Yl%2BHIceN/2uPhvp0ifet5/Gll534RiUufwFaU6Naq7U4t%2Bib/ACTGk3sesUV82N/wVl/Yv1gm3%2BF3ibxZ4/uj/q7XwB8OtZ1Uyf7skNqYj/33SH9uH9ozxr8vwR/4JpfFS/H/AD9eO9Q0vwzB9cT3Mk%2BP%2B2O7/Zrp/s7Gr4ocv%2BJqP/pTX5Fckux9KUV81b/%2BCs/xJ%2B7b/BH4WWU/d31LxRqNuPoBZW5b/voH2pD%2BwN8WfiF%2B8/aR/wCCg3xZ8TK3EuleELm18KafIvdGTToxcMvbm4Jx1Jo%2BqUofxK0V6Xk/wSX4hypbs%2BlBLG0jRLIpZQCyg8jPTP5V4t8K/FfxA%2BF3x78X/B/40fFi88Q2N9o0HinwprWs2lpaiC2Ehtb2yBgiijEcD/ZHBYFyLz5mY11H7Pn7KnwD/ZY0nUdH%2BBXw/TRU1i4SfV7iTULi7ub6VFKrJNPcySSysASMsx61oeJP2ePgl4z%2BKenfGvxn8NtN1jxPo1obbRdV1aI3J01CSWNskpZLd2z80kaq7AAMxAAERnh4SnHVxa0dle%2Blurtre%2Buwk4q580W3wS8TeJ/FPhL4OXHw71S/06z8R%2BIZJfHFnsbS9R8Jaut1PKpuUJAuWuPsT%2BXtO6SLfjaSw9I8B/sc%2BLtbn1Of9pPxrpuuSnw/pGkaPe%2BG4Lixukk055JItWaUyFor0ySA/uzsTyxjO9hX0F06UVrUzGvJWjp%2Be9736X7LQbmznfhd8L/C3wg8IReDPCRvpLdbia5uLvVNRlu7q7uJpGklnmmlZnkd3ZmJJwM4AAAA6KivPPjX%2B1j%2Bzh%2BzrGo%2BMvxi0TRLqXH2fSpLnzb%2B4z0EVpEGnlJ9EQ9RXLGNbEVLRTlJ9tX%2BBnKcYq8nY9DqO6uraxtpL29uI4YYkLyyyuFVFAyWJPAAHevndv2ov2q/jgPsv7K37KN3pGnS8R%2BN/jHI%2BkWgHZ4tOj3XtwpHI3iAH1HWnW37A9z8VrmPW/22fjrr3xRkVxIvhWMf2R4agYHKgafbNm42njdcyS5HUCuj6pGlrXmo%2BS96X3J2Xzl8jH2zl/Djfz2X46v5Is%2BKf%2BCgPg/xHr1z8PP2RPAGqfGPxNbSGK6bwxKsWiadJ/096tJ/o8ff5YzLJxjZms%2BD9jj4sftE3Eevft6fFePWtO3iSH4VeCXmsvDsJByBdSEi41MggH96UiyD%2B6wa%2BgvDHhXwx4J0G28K%2BDPDlhpGmWUYjs9O0yzSCCBP7qRoAqj2Aq/T%2Btxo6YaPL/eesvv2j/26r/3g9k5/xHfy2X/B%2Bf3Hhnx%2B8OeHvCHxS/Zn8MeE9Cs9M02x%2BMF7DZafp9skMFvGPBPijCIiAKqj0AAr3OvGf2oP%2BS3/ALOP/ZZr7/1CvFFezVxNtu7N9gooopAFFFFABRRRQAUUUUAfKv7C3xS8NQ/Fn47adD8L/iLoVp4g%2BMtvfeG31v4PeIdJtbqybw7olis0cl1YRRiMXFjcoTkBBGGbCOjNxH7Cnw/%2BIOl/GH4U%2BGNW%2BFHijQ9Q%2BE/wz8Y6D8Ste1nw1dWVnqep3%2Bs6XNC1rdSxrFqa3L2d3fedbvKsYceYUkmK19w0UAfPH/BQvTfivP4P8Gaj4c8aeHrXwtD8Yfh6Ne0a98MT3GoXjnxno3ltb3i3scdsFbaWD20xYAgFMgja8cp%2B3P8ADLxjqXiz4fy%2BF/id4Xu7t54fCOoAaLq2nRk8Q212u6C4VR/z3VGPTf3qf9vD/kiGh/8AZZvhx/6muiV7NWlKp7N7Jp9Gv%2BGa%2BTMa9H20UlJxa2adv80/Rpo8S8G/t8/ArU9fh8C/Fg6t8MfE8x2poHxGsDppmbp%2B4uWJtrgE8AxysT6DOK9rhmhuIVuLeVXjdQyOjZDA9CCOorN8Y%2BCPBnxD0Gbwr4%2B8JaZremXAxPp2r2MdzBJ/vJICp/KvFpf2CdD8ATPqX7KPxp8XfCufcXXSdKvf7R0RnPUtp15vjUH/AKZGL2Ira2Eq7Nwfn7y%2B9e8vuZzXzChulUXl7svud4v5OJ77QQCMEZB6ivAR8Q/2%2BvhB%2B7%2BIXwS8M/FHS4uusfD3VP7M1IIOrPYXzGN3I5xHcfQdqv8Ahv8A4KF/syX2rxeFviJ4l1H4da5KcDRfiVo82iy59FkuAIJM9tkjZ7dRQ8HXavBcy/uu/wCC1/AazHCp2qNwfaa5fxfuv5SLHxK/4J/fsrfEnxA3jmH4cnwt4oOSni3wHfzaJqSuf4zNZtH5p/66Bx7cVzo%2BBv7enwhGfgr%2B1lpXjvTo%2BIdA%2BMPh8GcJ6DU9OEchb3kgk9819A6Vq2la7p8WraJqdveWs6boLm1mWSORfVWUkEfSrFVHG4mK5ZvmS6SXN%2Beq%2BTR0expP3o6ea0/LR/cfO4/bG%2BP/AMNv3P7Rv7CvjWyiXhtd%2BG91D4nsmA6yGOHy7uNe%2BDASPfrXvuga3ZeJdBsvEempOtvqFpHc263Vs8MoR1DKHjcBkbBGVYAg8EAirdR3cMtxay28F08DvGypPGqloyRgMAwIJHXkEeoNZValKpblgovrZu33O9vvZcIzjvK/3HAfBT4mfEDxz41%2BIXhfxlpejJb%2BEvFSaZpl9o8kuLiN7OC72yrJ0lRbiNWKnaTnAGMVF4D/AGlvDnjdtb1OfwP4g0TQNDk1AS%2BLtajtU0y4SymeK4lSWOd2RFaOTmVI%2BEY4wKqfBP4HfE74KW2vQSfFq08VNrviC71i5utY8PJa3TzzRKoV5LZ1iIDRxjIhBCDbjgGvKvGP7MPxcl8OePtc0r4WeEvD6eINHsbe98FeBdSMsOuzJqAuL29dpba1T7RJbtLCiMvzMzb5cMCOuNLB1KslzJL3bO9uyej7676LqYuVaMVp3v8AjY0/jF/wUw%2BFvhi7svBPwD8M3nxI8Y6jDLLHoNlONOj0%2BJGVfPvproL9kiZmUKzL82QRwyk4Oq/s4ftrftjxW2kftf8AxC8MeEfh7LKlxf8AgP4dSzS3OrxghlgvL1zxHkfMISVYehwy/Ov/AAUY8C%2BIvA3ibRv%2BCgOueBLLw/qt54nu4Y9D8T6Mb8apDHaww6fp99b27MrPOIZ5BksI9kalgcY%2B6f2LdJ8Y%2BG/2UvBkHxC0CfSNTbRvtVxoc1uyPpSTSPNHZeWRuXyInSEIRkeUARkV7db2GV5bRxOCjHnk2nKVpTUlvy/ZSV1aSi3fqpWPAjRq5nmNbD4ycnCNmoR92Di9ua3vSbad4uSVraNNno3hrw14f8G%2BHrHwl4U0e30/TNMtI7bT7C0iCRW8KKFREUcBQAAB7VYv9PsNUtHsNTsYbmCQYkhniDow9CDwa8Di/wCCo37FFpItr4y%2BKGoeE7nOHtvGXhDVNKKH0LXNsifkxrt/Cf7Z37IfjsKPB37UXw%2B1F36Q2vjCyaQexTzNwPsRXztTCY6L5505etn%2Bdn%2BZ9FCrh7KMZLTpdflp%2BRD4z/Yh/Yz%2BIhd/HX7J/wAN9Wkf70994KsZJc%2BocxbgfcGuBuP%2BCRv/AATteZ7nSv2bLLRpHOS/hrXdR0o59vsdxFj8K%2BhdJ1vRdetRe6Hq9rewnpNaXCyKfxUkVaohjcdSVo1ZL/t6X5X/AEOhTlbRnzb/AMOufgZpvHgb4y/G7wwo%2B6mhfG3XUVfoJbl/1o/4dy39txo//BQL9pKzA6D/AIWNBc4/8CrOXP419JUVX9o47rO/qov84sfPPufNv/DBnxmtONI/4Ka/HZAOn22fQrg/m2mDNH/DE37TacQf8FRPi0B/000Hw8x/P%2Bzq%2BkqKP7QxXdf%2BAw/%2BQDnl/Vv8j5t/4Yj/AGlJeLv/AIKhfF1h38nRfD0Z/MadR/wwF8Ur0Y1v/gpf%2B0DJ6ix1XRLbP/fOlnFfSVFH9oYvo1/4DD/5AOeX9W/yPm0/8E3oLr/kN/t2ftJXoP3h/wALWe1z/wCAkMWPwxR/w6p/Zd1T/kfPEvxV8VZ%2B9/wkXxn8QyhvqEvEBr6Soo/tHHdKjXpZflFBzz7nzvo//BJv/gnLo92L9v2SvC%2BpTj/lt4gSbU2P1N3JJn8a9N8E/sufszfDRkb4c/s7eBdAMf8Aq20XwlZ2pX6GKJa7usvxH458E%2BD4jP4t8YaVpaAZL6jqEcAx9XYVE8Xja%2BkqkpeV5P8AC/6Eucras1AAoCqAABwBRXkXi79v79iDwMGHiX9rT4ewyJ9%2B3g8V2s8o/wC2cTs/6VzB/wCCnP7Lesfu/hkPHPjmb%2BGHwX8NdYvt30kFsIz%2BD0RwONmrqnK3o0vvdl%2BJi69BOzkvv/4c%2BhKK%2Be/%2BGyP2gPFvHwj/AOCdvxMvB/z8eM9R0vw/F9cTXMkuP%2B2efakOr/8ABUTx189h4N%2BDPw9tpeCNT1bUfEN5CPXbDHaQkj/fI9qr6jVj8cox9ZR/JczF7eD%2BFN%2Bif62PoWqXiDxJ4d8J6XJrnirXrLTLKEZmvNQukhiQe7uQB%2BJrwf8A4ZF/aa8ccfGr/goV42lgPJsPh5oGn%2BHYwe480JPcY/7ag%2BhFXNA/4JofsbafqkfiLxj8LJfHGrIctq3xG1q71%2BZ2/vEX0skYP%2B6gFHscHD46t/8ADF/nLlX4Bz1pbRt6v/K4viX/AIKVfsf6XqsnhnwR8SJ/H2tJwuifDXRrnX53b%2B7uskeNT/vOorPP7Qv7cXxWPlfA/wDYwh8KWUv%2Bp8QfGHxNHaFR6nTrDz5yfZ3j/Dt7z4b8LeGfB2kx6D4Q8OWGlWMIxFZabZpBEn0RAAPwFX6ft8JT/h0r%2Bcnf8I8q/FhyVZfFK3ov1d2fOx/ZE/aN%2BK/779pv9tjxJLaSfNJ4X%2BFtinhuxGfvRtcK0t7MmOP9cmfTrn0L4K/sh/s0fs8SNefB/wCDWi6Rfy5%2B0a0bc3GoTk9TJdzF55M8/ec9T616PXnl/wDG/X9E%2BKWneCPEnwn1DT9H1rWJNK0fxDPqNs32q7W3luP%2BPdGLrEyQS7XJ3EocoowaTxOLrxcE7R7K0V9ytf53IksPQalLdu13d/jrb8D0Osrxh438L%2BAvDV/4u8V6qLaw02MPeypE8rICQAAkYZ2YlgAqgkkgAHNeG/EP4tfErwp8SPFnjUfECeHS/B3iXSLO78JS20H2WbSLyK3SS7DiPzvNEs/mB/M2qsLJs6k%2BXeGPhudSjtfgd8N9ukeOxpN9H4wjNsYlfUtMvFutN1e7CgCQz3AU%2Bfg%2Bcksq5O3Aungk1zTlpp/m7/JrXXc4q2ZuMnCnC71WvV6pW76p6Np2X3fXvgH4i%2BEfiboja/4O1J54Y52guYp7WS3ntplALQzQyqskMgDKSjqGGRkc15v8Tv2rPEWjeOL/AOEvwP8A2ePF3jzxNpzIl9Ilr/Zmj2TuiyKJtRugsZOx1bEKynBxjPFanwI8OeO4/H/jr4keLvA914Yi8T3mnyR6Jdalb3Ja4t7QW8t2GgdlUSKkEYBIYrbqzKpYqPT6wfsaNV3XMvXr523tto0dS%2BsYjDq0uR3d3bW12tFLa%2Bj1Tt22PAfjDcePLrx5%2BzDc/E/TNLs9ff4vXp1S10S7kntYpf8AhCvFPyxySIjMMY5KjnNe/V4z%2B1B/yW/9nH/ss19/6hXiivZqwbu7nXFcsUr3CiiikMKKKKACiiigAooooAKKKKAPGf28P%2BSIaH/2Wb4cf%2BprolTeMrX9tjwR4r1DxH8P9T8G%2BO/D9xdPNb%2BGNYhk0fULOIniCG7j82KXA/iljUnu3rD%2B3h/yRDQ/%2ByzfDj/1NdEr2SOWKUExSK21ip2nOCOo%2BtXCfI9k/U5sVhliYpc8oNapxdn%2BTTXk00eIw/t0%2BB/CMq6d%2B0b8NfF3wxutwRrrxJpBn0x39E1C082Aj3dk%2BnSvWvBvjzwP8RNHTxD4A8Y6XrlhJ9y90jUI7mI/8DjYitSaGK4iaCeJXR1KujrkMD1BB6ivJfGP7DX7M/ivWH8VaX8P/wDhFtdbJXX/AAPfTaNeK394vaMgc/74arvQlunH8V%2BNn%2BLOLkznD/DKFVf3l7OX3x5oP5xieuVR8R%2BF/DPjHSJdA8XeHbHVbCcYmstStEnhkH%2B0jgqfxFeOf8KQ/a7%2BHHzfCL9q6LxFZx/6nRfij4eS7JHob6zME34sr/j39J%2BEmqfF/VfDEj/G3whomj6zDePEsfh7V5Ly1uYQqlZlaSKN48sWGxgSNoOecBShyLmjJP70/u3NqGMnXn7KtQnB26pSi/8At6La%2BTSv2PMtU/4J1/s222oS678JbPxB8M9Tmbc998NfEdxpKk%2B9ujG2YezREdulQj4P/t5fDj5vhr%2B1Z4e8aWqfLFpnxN8ICOUL6G901oiT/tNC3vmui8aa94hl%2BPuh6R8MfHmsXt19sjHizQ0WKXS7DTlikLSSsY90M7P5YRVk3sTkoUViJvEvxo8cWP7RVt8ItGs9Bi09tMt5y%2Bt/a7eW%2BkdpjIlrMsbwu0ccW5oz83zryBzXUq%2BJkkpNS0v7yT/PX8Tgk8upuVouFpqF4Oybf%2BF8vreOj0d3ocuP2kP2t/APy/GD9h3UtSt4uJdW%2BGXiq01VX/2ltbn7NOB7AMf5VLaf8FHv2WLO5TS/iV4i13wDfuwU2PxB8J32klT7yzRCE/g5rzA/8FJPj98Tr6S9/Zx/ZLstQ8Lzy6l/Y3jPxX43h0%2B3vYLBlW5nMJj3RopbPzPkgN3RwtTwh8I/2i/%2BCgvkN%2B1Z8YfDdr4D0vVI59W%2BGvgbSNQs21B1VZYIrye9WOVoiGR/kBjk4KEEKy%2BpDLKEVz41xpxW/LO8/RQ97XpZyiu70POWdzrSVPLpyrSe3NC0X5875Hypa3jGV1te53Wvf8FYv2Ro9bm8LfDC98U/EXVYHKPp/gDwnc37Ej%2B67Kkbj0ZWIPrVO4/a%2B/bW%2BK4Gk/s8/sE63obz/d8QfFq/j0y2tF7PJaxsZpP91Gz9a9D8TfsAfsUeLLaK21P9l/wZCYECwz6XokdjMgHTEtsEcY7HdWJ/w7%2B8DaB8vwn%2BPnxe8FRL/qrTRPiJdXNsh/643/2hMfhURxOQU1%2B6otvvUbkv/AYOC%2BX5nVPDcS1JP2tZcvakowf/AIFUU381%2BBi/Dv8AYa%2BIHjD4jaR8cf21/jpdePPEGg6hHf8Ah3wzpEZsvD%2Bi3KHKSxwD5p5UPIlkwf7wbANfSleDD4A/tseGefBf7eC6nFH/AKq08a/Dexutw9Gms3tn/HBNH2//AIKY%2BHPnufDnwU8VxJ1Wz1LVdHmkHsJI7lAf%2BBYrkxdStj5JzqwaSskvcSXZR5Ul%2Br1bb1OzBxo5fBxjQqJyd2377k9rykptv7tFokloe7yxRzRtDNGrowwysMgj0IriPFn7MX7Nfj0sfHP7PfgfWS/3zqvhOzuCfxkjNef/APDRX7Zmi8%2BKv%2BCfd9cxr/rJvC3xJ0u8/EJcfZnP0xR/w3NqGnfJ4s/Yt%2BOemsv%2BsaHwRHqCD6GyuJiR%2BFc8MPi4O9N/%2BAyX6SR1vMME1791/ihJfnBhq3/BMD9gHVrk3v8Awy14ZsZj0l0SKXT2H0Nq8ePwqr/w7K/Zl07nwZqfxG8NkdDoPxa16Hb9A12wH4Crf/Dx/wDZnsPk8Xr458Ov3j174Ya3Bt%2BpFoyj8TUlr/wUv/YRuphby/tLeH7SQ/8ALPU/OtGH1E0akV0c%2Bdpbzf3v/wCSMvreTX%2BOC%2BaX58pQH/BPq0teNF/bO/aCsgPugfFCW5x/4FRS/rR/ww/8TrH/AJAf/BRD44Regvr/AEe6x/33pwrr9N/bn/Yt1cD7D%2B1n8OCT0WTxpZRsfweUGtuy/af/AGatSAOnftDeBp89PJ8W2bZ/KWoeIzNfEn84L9aZtGpl0vhnH5TX/wAmebf8Mj/tP2/Gnf8ABSf4iqB0%2B0%2BFvD8387EUn/DLP7Yy8Rf8FMvGAH%2B38O/Djf8AtnXrkHxt%2BDF0M2vxd8MSD/pnr9sf5PVhfit8LnGV%2BJOgH6axB/8AFVH1vGLeK/8AAI//ACBoo4V7S/8AJv8A7Y8b/wCGVv2wZOLj/gpj4zI/6Z/D/wAOp/Kzpf8Ahj/9pC641T/gpH8TnB6/ZNB0GD%2BVgcV7E/xa%2BFcQzJ8TPD6j1bWYB/7PVS5%2BO/wPswTefGXwpEB1MniK2X%2Bb0LFY17RX/gEf/kAawq3l/wCTf/bHk/8Awwr44vPm1v8A4KDfHmc91tdf0u1U/wDfrTgR%2BdH/AA7x8NXnHiD9rD4%2B6mp%2B9HP8W72FG%2Bq23lCvRL79q79lvSwTqX7SfgC3A6%2Bf4xsUx%2BctYWqft9fsRaQCbv8Aaz%2BHrY6i28WWsx/8hu1Wq%2BaS%2BFP5QX6UzKVXLYfFUj85r/5M5j/h19%2Bx/ffP4r8N%2BLfEEh%2B8/iD4l67dbvqrXmw/981qeHP%2BCa/7A3heUTad%2ByP4FncHO/VNBjvmJ9SbgPk1Xf8A4KafsMFzHYftAWGosDjbo%2Bl3t6fwEEL5pv8Aw8T%2BB2pceCPAvxR8TE/d/sL4Uay%2B76GS2QVblnTVm5perX6xMli8nT0nB%2Bln%2BSkep%2BEfgr8G/ABU%2BA/hL4Z0Qp9w6RoNvbbfp5aDFdNXgx/bU8dax%2B68EfsJ/Ge/kP3G1TRrDS4j9WurxWH4rR/wvD9u7Xf3Xh79hfS9I3/duPFXxUtF2e7R2UFxn6Bq5pYbEyd5tfOS/wDkmzVZhhErQUn6Qm//AG1I95orwb%2Bzf%2BCmHiX91d%2BKPgt4Tifq9jpmqaxPGPYySWyE/VaT/hl79qTxR%2B6%2BJP8AwUD8VeQ337fwT4R0vR8f7sjx3Eo/77NT9Xpr4qsV6Xf5L9R/XKsvgoTfryx/OV/wPeq4T4iftQ/s3fCQSD4mfHjwjocked1tqPiC3jmJ9BGX3sfYAmuA/wCHc/wC1z5/ix4k%2BIHj5/8Aqc/iHqVzH/35jljhx7bMe1d38O/2U/2ZvhKY5Phr8AfB%2BizR423Vh4et0nyO5l2b2PuSaOXBx3lKXokvzb/IOfMp7QjH1k5P7opL8Tgz/wAFE/gx4j%2BT4K%2BAfiL8R26CTwZ4EvHt89s3NysMGP8Aa8zHvR/wtv8Ab6%2BIX7v4f/sp%2BGPBVu3MepfEfxoLiTb6m001JMH2My%2BhxXvdFHtqEfgpr/t5t/h7qD6ti6n8Ss/SKUfxfMzhvgj4W%2BPvh6z1C6%2BPvxZ0XxLe3ssb2dtoHhk6dbaaoDb40LTSyTBiQdzkEbenNZXxO%2BFfxf8AGPxu8N%2BOvCvjLw5pui%2BH9LuEjj1LRp7y6F3PIiyyxhZ4o1P2dDGrtv2%2BbIdhyK7Dxz8VPhj8MbP%2B0PiR8RdD0CDbuEus6tDaqR7GRhmvL5/2/fgVrErWfwi03xb8RblGKtF4E8J3V5ED73LKluB7mTFKDrym6kY7%2BWnbyX4mGJxOV4WCoV6yTTTs53m7O%2By5pv8A8BO71j4C/DfxZrGl%2BJ/HejDW9X0iXzLTVLzEchxIJUV1gCJKiOqsqurBSoPXmuzrw8/E39uT4h/J4B/Zz8N%2BCLVuU1H4h%2BJvtU5U9/senhsN7NOvvikP7LPxn8f/ALz49ftf%2BK76FuW0XwLbReHrPB6ozxb7mRe3Mwz%2BlKUG0vaTWnz/AAWn4mcMe5N/VMNOV%2BrSpp%2BrnaT/APAGeh/FL4%2B/BP4J2f234s/FPQ9ABXdHDqOook0v/XOLO%2BQ%2ByqTXnX/DX3jb4jfuP2aP2ZfFniiJ/wDVeIfEkX9gaSVPSRZLtfPmX2jhOfX07D4Xfsnfs5fBm8/tb4efCHR7TUi259ZuYDdX7t3LXU5eYn6vXodTzUI7Jv10/Bf5l%2BxzjEfxKsaS7QXNL/wOei%2BUDwT40SeN5fiD%2BzHJ8SLXS4Ndb4v3p1OLRJpJLRJf%2BEK8U5ETSqrsuMcsAa97rxn9qD/kt/7OP/ZZr7/1CvFFezVk3d3PUhHkgo3bt1e79dtfkFFFFIoKKKKACiiigAooooA%2BXfgN%2B2N8bfiB8YvC0njbTPCy%2BA/iZrXi7TPBVnpem3MWq6XJot3LFDJeXD3LxXS3dvbXMxWOGA27eXHmfJkF34V/tT/F3Xf20vFfwN%2BLHibRPDOi2/ie503wBoF/8J9btLnxPbRaXb3ZuLXXp7safdyK7XZa3ggaQR2rkgBGcdF4O/YM8DeAviTN8RvC/wAXfG8AtrrWbrwpoTz6dLYeFp9WvVvNSlsUeyLs08ocf6S84hSaWOAQq%2BK3779lqDxF8ctF%2BNfj343%2BNfEUPhbWrnV/CPg7Ujpkek6LfTWdxZNPF9msorqYrbXd1GgubiZVE7EDcqMoBxn/AAUL%2BLnwo8NeD/Bnwo8R/E7w9p/inxB8Yfh7LoPhq91qCLUNSSPxnozSNb27OJJgqqxYopACknGDXa%2BL/wBkP4U%2BIfEt7468L3/iHwf4g1Cdpr7WvB%2BvzWUlxIeS0keWhlJPXfGc96y/28P%2BSIaH/wBlm%2BHH/qa6JXTeIvit8T/B%2Bu3cWs/APVdR0aOdhaar4a1CG7lePPys9sxjkU46hd/41lWr06CTne3km/vsnb7jzcypZdVpRWMp80U9HyyfK7b3j70dOqa7XOc/4Qv9tD4fc%2BEvi94Y8d2a9LPxlo7afdhR/CLqyyjN7tD9fWj/AIah8feDv3fxq/Za8Z6Mq/f1Lw2keu2Sr3YtanzlH%2B9CPeui0T9qP4HaverpF/42j0TUDw2neJbaTTplPpi4VAT9Ca720vLTULZLywuo54ZBmOWFwysPUEcGlSxFCur05qXo0/8Agr5pHBQwsKivl%2BNlp0co1Yr1U/fX/gaOA8DftYfs3/Ea6/s7wr8Y9Ee93bTpt9dfY7sH0MFwEkz/AMBr0JWVlDKQQRkEd6wPHPwo%2BGHxNtfsfxF%2BHeia7Htwo1bS4rgqP9kupK/UV5837Efwn0QmX4U%2BJ/GXgR852%2BEvFdxFAT/17zGSHHtsxWx0%2B0z6h8VOnVX92Uqb%2B6anH/yZHW6f8APhjoPiHVPFnhLS7zQ9R1meSfVJtG1a4t47qdyC00kKv5LykgfvGQt1GcE1j/Ez4eWVrqn/AAtf4ofGHUP%2BET8J3TeITpF1aWqQWclvE5EhmSMStEis77GLHcF%2BbA2nK/4Vh%2B2D4Q%2BfwZ%2B0vo3iOJOI7Lxx4QQNj0NxYyREn3MZ/Gvmn9uD43/tG/F%2B/sv%2BCfc/w00jU/EHiO8tbzxcfh34je4kh0OKRZZ1dLiKIWrSBUC%2BZKNwO3H7xc%2BjluHqY7GRpt2jvKW/LBayfyS082l1seRmGZ4XA4OXtcJOEr%2B7HlvGU3rFXpzkneWrXL0btch/YW/Zt%2BLPjX9iF9Wvxv0q8ttQf4f6BKFhu7nTrq%2BE0/nuxEaNcRI8ac7Qs%2B4tggD68%2BDfhvxZL4x8XfFnxloNzo8/iW6tIdP0W8nikmtLO1hKJ5phd4/MeWSd8I7AKyDccVy2i/tbfDfwHo9p4f8AF3wV%2BIXgfT9Pto7a2XUfA9xJaW8aKFVFksxMm0AADnoBXReFv2wP2XPGUgg0L49eFzMTgW15q0drNn08uYo%2BfbFRjsa8ZialRKyk20uy7eeyu%2Brv3IyePD2BhRpxxUeeEUrSkottJq9pqEtOZpLZK27Vyr8Rvj58Vfhz4yvNLH7JvjHxF4fh8v7J4h8LX%2Bn3LXGY1Z/9FkuI5U2sWXoc7cjrWH/w378EdH%2BX4k%2BGPH/gxv8AqaPh5qUKD/tpHDJHj33Y969m03VdL1m1W/0fUre7gf7s1tMsiH6FSRViuZTpWs4fc3/wT35YfMXJzo4nR6pShGS9E4yi7dt/Vnl3hb9tv9kHxkwj0H9pTwY0jHCwXWvwW8pPpsmZWz%2BFehaF4p8MeKIPtXhrxHYajFjPmWN4ky4%2BqEiqXin4YfDXxwGXxr8PND1gMMMNU0mG4z9fMU157rv7An7GHiCf7Vdfs2%2BFbWXORLpOnCxYH1BtihH4U/8AZ33X3P8AyJvnkOlKfzqQf5TR69RXiQ/YC%2BBumc%2BB/EvxC8MHt/wj/wAS9XiA%2Bge4cD6YxR/wx14p075/C/7aPxjs2H3VvNfs75B9Rc2jsf8Avqjkovaf3p/o2H1rNo/FhU/8NWP/ALdGLPbaiu7Kzv4jb31pFNGeqSxhh%2BRrxf8A4Z%2B/azsPl0b9vXVnQfdXWPh9pNxj6mNIifzo/wCFY/t5aZzYftW%2BCtTx0Gp/DB4s/Uw3/wDSj2UOk1%2BP%2BQf2jil8WEqfL2b/ACqI9J1L4OfCLWSTq/wr8N3RPX7Todu%2Bf%2B%2BkNYl7%2Byj%2By3qRJ1H9mzwBcE9fO8HWL5/OKuR/sv8A4KM2nyxeNPgvfAdGm8O6tAx/75u3H6Uef/wUch/5hfwSuP8At/1iHP8A5CetF7WO1Vf%2BBMxljaEvjwlT/wAFRf8A7czcn/Yg/YwuTum/ZI%2BGZJ6keBdPB/SGq7fsGfsSucn9kn4c/h4Osx/KOsv%2B2/8AgovD/rPhx8Gpv%2BuXi7VV/wDQrGj/AISn/goYvB%2BDfwnb3XxxqA/nYVfPil/y%2B/8AJ3/mZvEZc98HP/wQasf7B/7E0Zyv7JPw4P8AveDLI/zjq3bfsU/sb2Z3Wv7Jnw0jI/iXwJp4P5%2BTXP8A/CT/APBQ5%2BF%2BD/wlT3fxvqJ/lYUf2t/wUZm%2B54D%2BC0H/AF08U6s5/SyH86HPFPet/wCTv/MFiMvW2Dn/AOCEdpY/sw/s1aWQdN/Z58DW%2BOnkeErNMflFW7pnwx%2BG2iEHRvh7odoR0NrpMMeP%2B%2BVFeXbv%2BCjs3/LH4JW3/bXWJ8f%2BOpR/YP8AwUTv/lufiZ8HtPB/is/COpzsP%2B/l6oP5VDVSXxVF/wCBNmscbRj8GEqf%2BC4r/wBvR7YkaRII40CqBgKowBS14l/wqP8Abm1D5r/9sfw1YZ6ppfwrRsfRpr1v5Uf8M4ftM6n8niX9vbxUYz1TRvB%2BjWf5MbeRh%2BZrP2UOs1%2BP%2BRr/AGhi38OEqfN01%2Bc2e20V4kf2Lbi958Sftd/GrUC33lXxslkp%2Bgs4IiB%2BNU4f2FP2SNY1ebQ/E7654n1O3jWS6ttf%2BI2qXkyI3Rnia6wAfUrzRyUFvP7l/myXi81dksPGN/5qsf8A22DPXfE3xN%2BG/gpWbxl8QdD0kL946nq0MGPrvYV55r37ff7Gnh65%2BxXH7Rfhq9nzgQaJeHUXJ9AtqJCT7Cq3wu/Zd/YIvYZr34W/Bb4b6sLK4MM91a6ZaX7QygAlTIwcq2D65r1nQfCvhfwrbfY/C/huw02HGPKsLNIV/JABR/s67v7l/mKnPOcRBShKik%2Bq56n43jFnkH/DdXgnWefhv8D/AIr%2BLUb/AFdxo/w9uoIW/wC2t6IEH4mj/heX7Yfij5fBH7FY0uKT/VXvjbx7Z220erQ2i3L/AIZBr26s3xF4x8IeELf7X4s8VabpcWM%2BbqN9HAuPq5Ao9pSW0Pvbf%2BQ54XHcvNXxbiv7sacF98ud/ieRf8Ih/wAFA/GI2a98Zvhx4KiPOPDHhW51Wce3mXk0afj5X4Gj/hjLVPFH7z4xftV/FHxOX/4%2BLK219NGs5R6eTp0cJx7FzW3rf7bv7KWiXf8AZ4%2BNukalc9rbw%2BZNTkY%2BgW0WQmqX/DWt/r/7v4Z/sz/EzXmf/UXM/h9dLtn9/NvpIjj3Cmj29RfDZeiX/BZ5UqvDTly1MQ6z7e0nV/8AJad1%2BBoeB/2KP2UPh3ef2p4a%2BA3h5r7du/tLVLP7fdbvXz7oySZ991enwww28SwW8SoiKFREXAUDoAB0ryD/AIS79uDxb/yAfg54G8IRf89PE3iebUpsevlWcSJn2838aT/hRH7Rni3/AJKT%2B13qlrA/Mlh4G8O2umBfYTzCeXHuCKzlOc3eTb9Tsw%2BLo0IcmAwU7eUI0o/fNxf/AJK2euahqWnaRZyajqt/Da28S5lnuJQiIPUsSAK8x8Q/tqfs2aJqLaFpfxHi8RamOF0rwhaTatOzf3cWiyBT/vEVRsf2L/2Z49Zhfxzo9z4w1gqZEm8ceILjVJZAOrCK4kaPH0QCu7%2BH2s/CiGa58FfDaHTbP%2Bz2Il0/TrAW0a7WKMUAVVcBhtJTIB4JBrJ1IKSTauzR1s6qyUW6VG%2Biu3Ul6WXs4Xt6nB/8L0/aL8dDZ8Jv2Vr%2Bwgk4j1b4iaxFpiIfU20PnTkexVD/ACoPwW/aa%2BIHz/Fj9pptFtZP9Zo/w30dLLHt9suTLMfqoT/D1XX/ABN4b8K2R1LxR4gsdNth1uL%2B7SFB/wACcgVwlz%2B1Z8KLud7HwH/bHi%2B6RsNB4T0aa8UfWUAQge5esquKw1B2qTSfa%2Bv3av8AAwr4XCU3bMMXKbf2eZQT9IUrSf3yOQ%2BOHhaz8FfEf9mXwpp%2BoX93DY/GC9jS51S%2Be5uJP%2BKK8UHdJLISzsc9Sa94rwv496te678UP2aNY1HQLrS57j4w3zyafeshlgP/AAhXij5W2My5%2BhNe6VvGSlFNdT36SpxpRVNWjZW32tpvrt317hRRRTNAooooAKKKKACiiigAooooA8Z/bw/5Ihof/ZZvhx/6muiV6lZeN/B2o6rNoVj4p0%2BW%2Bt5TFPZpdp5qODggpnP6V5b%2B3h/yRDQ/%2ByzfDj/1NdEr03xL8O/AnjAH/hKPCGnXzEf624tFLj6PjcPwNcWN/tFQTwfI3fVT5kmvJwu079WmvImXN0Lut%2BHtA8TWTaZ4j0Oz1C2b71vfWySofqrAiuDu/wBlL4Nx3L6h4Q0rUPC125z9q8KavPYEf9s42EZ/FDV66%2BDmh%2BHbd73wt4/1/wAOxRDdsh1cy2ye5juN6gfTFcH8fP2j2/ZL8Lv4o%2BKXx08I3UXk77PTNTtGg1G/7BLeK3ZjKxPGRHtGckqATXkrE4zE4lYfEZdKdTT%2BE4VnZuyainTqpXvry9Hrozz8dSwHsnXxlOPLH7Ttp/297rXyd/I6r/hVnx58M8%2BCP2iZb%2BFP9XZeMNBhu93sZoDDJ%2BJzXiOr/wDBRv4s2HxO1L4JfDD9nm2%2BL3iLSMJqt18O9Wmj0/T5SSBFc3E8DRxPkEEb2AIIJ3Agc/repft6ftoWdteePvB3iX4Q/CvUIQ0ukeE3hm8S6tCRyszyOrWaMP4FTdglWDgg1718Er79mL9nPwHZfCv4feHn8GabaDiz1PSZ7Z5ZCADLLLIv72RsDLsxJwOwFe3UxnCnD9bkx2J/eq37tznGnH/HUlHlk%2BnJTquzunPSx4dOGJxlVPBVJ0KX80m25f4KdRS5V/ek0/5YdT561z4m/wDBRP4rapNZ/GzxTL8BvDe7DL4R8EXOtXskfdXvcPHE3o8WOnSvYf2RPD37GnwF0a/074ZfF%2By1fX9dvDdeJPEninWkbWdXuCSd07ShHOCThAoAyTgszMfctF8ZeEfEgB8PeKdOvs9Psd6kn/oJNM8R%2BBPBHjCMxeLfB2laopGCuo6fHOMf8DU10zzjMcdh3HC1aXsX0hFKLtteUJycrf3pPva51YfJsThq/wBYVZVpq9pVVJtX35eWXLHt7sE7dTRtbu1vYFurK5jmicZWSJwyn6EdayvFPw6%2BH3jiMw%2BNfAmjawhGCuqaXFcAj0xIprkbr9kr4AvO15pPgU6POxyJ9A1K4sGU%2BoEEij8xUf8AwzzrulfvPB/7RHj2wZfuR3upw6hEP%2BA3MTsf%2B%2Bq4fa46PxUk/wDDJflJL8z0Kk8dKHLWw8ZrynFr7pxRR1L9hj9lC/u2v7T4NWGlXDf8t/D1zPprD6G1kjxUH/DH1jpn/Il/tEfFbQ1X/VQQeM3u4k9gl4kwx7Vq/wDCEftQ6N8%2BkfHXQdXx0i13wf5efq9tOn6KKP7a/a20j573wH4F1pR207XrqzdvwlgcD/vo0fXGvjpTXyv/AOkyf5HlvAZMneWAlB94wt%2BNGpH8jK/4Ul%2B1HpPy%2BG/2zbqeNfuReIvAthdceheDyGP1zR/Zn7eekfu7bxZ8KdbRej3mj6jYSN9THNMo/Ba1f%2BFwfGvTvm8Qfst6xsH3n0fxFYXf5K0kbH8qX/hpW3tv%2BQ18DviPYgfeZ/CjTqv427yCj%2B0MKvibXrGS/wDbReyymHw161P/ALfrL/0uE0ZP/CfftsaL8uqfs6eDNZx1fRfiBJBn6C4sx%2BpFH/C/P2itP%2BbX/wBifxEEHV9J8WaVdfkDNGx/IVrf8Nb/AANg%2BXV9c1XTX7pqfhi/gx9S0GP1qzY/tXfs3agdsPxp8PofS5v1hx9fMximswwDdvax/wDAkvzaGp4a9qeZteUpUX/6VCLMD/hrLV7X5dY/ZN%2BLlsR94xeG7a5X8DBcuT%2BVL/w2d4Jt/wDkNfCD4p6cO5vPhtqOB%2BKRsD%2BFdvY/G74Mang6d8XfDFxnp5Ov27fyeta08Z%2BD7/BsfFemzZ6eVfRtn8jW8a9CfwzT9Gn%2BTOqEMfP%2BHj4y/wC4dJ/%2Bk1EeZf8ADdP7OsPGp6t4lsW7reeAdYTH4/ZSKP8AhvT9lBf9f8U2h/6%2BdAv4v/Q4BXrsU8M674JlceqMDTq1NvYZ70xFN/8AcJ/pVPH/APhvr9j4ff8AjrpSf9dYZ1/nGKUft8/scH/m4LQPxlcf%2By16/SFVPUA/WgPY5/8A8/qX/guf/wAtPIT%2B31%2BxwOn7QOgn2WSQ/wAlo/4b4/ZCP%2Br%2BN2nSf9crS4f/ANBjNevgAdBRQHsc/wD%2Bf1L/AMFz/wDlp5B/w3n%2Bys3%2Bo%2BJF1P8A9e3hjUpf/QLc0f8ADcnwGn/5BC%2BL9QPYWXw91ds/99Wwr1%2Bori%2BsrQZuryKIeskgX%2BdDaW4OhnttcTTXpSf61Tm/hZ8WtG%2BLenXWqaJ4Y8R6bFazCMjxH4euNPaXIzujWdVLr7jjPFcR8crK98L/ABK8NfEPSNSkhiGt2kGseX4mujPIsjeSsEVgSbdlbeC7Da/ykgE816TefEDwHp%2Bft/jbSIMdfO1KJcfm1cnq/wAQ/wBlSDxLH401vxr4A/tqBAkOqT6hZG7RRnCrITvAGTwD3PrWMsRh4fFNL1aX6meNjGrgo0qteHOmnzNqGzvdJSfpa9nrdq55p%2B0JfeHj441jXdTubaXWZNJ05/hrdROrSyzx3X7%2BCzfqZnYhXVDuZHIOVBxBN4TvNS8eXvgbT9FurbxZP4h11rvUxZSKH027tHKSmfG0x7zGiLuyrRgAALkemP8AtX/sy6Wq2dr8WNFYIMJDp5abA9hEp/Sk/wCGsPhHdfLoEXiXV27Lpng7UJM/QmEA/nWLzHAf8/Y/Jp/lc8arhcpq4iVSeLhq7tKzeu%2BqbfN0jK11HTUxvgNp/iO78fQa3ceFNT0iHTfAVjousx6hpslskuoQSt/qdygTIq7x5iZUhkwfTqvin8KPG3xF1a2m0T4%2BeJvCmnxW3l3Fh4dt7MNO%2B4nzPOmgkdTggYHHGcZzWd/w0XqF58uhfs8/Ea7Y/dM2hR2qn6m4mQj8qT/haP7Qmof8gf8AZhkgVvuyaz4wtIce5WESn8KX1/DP4W36Rk//AG1Ho0f7Mjgvq0pTqJu75Y1Ffb%2BRRstFdKVnq3vZZX/DFvgHVPl8efFL4k%2BJ0P3odZ8fXqxH/gFs0Sj8AK0fD37Fv7KXhif7Xp/wE8Nzz5z9o1SwF7Jn133G9s%2B%2Bc1J9o/a91T5otN%2BHmjI3QTXN7fSL%2BCrCpP40f8K1/aM1X5tc/aShslb78OgeELePA9A9w8p/HAo%2Btzl8FGb%2BSj/6VL9CIYHKVLmp5e5PvKEb/fVnNnf6J4d8P%2BGrQWHhzQrPT4B0hsrVIkH4KAKt7l3bNw3EZAzzivNf%2BGabLUf%2BRv8AjL8QNZVv9ZDN4me2if22WqxDFb/w/wDgb8K/hdqU2teB/CSWl7cweTcXslzLPNJHuDbWkldmIyAevarhUxc5rmpqK85Xf3JW/E9ihUxrko%2BxjCH%2BNNpeSjG34opfGvxB8QPCOlR%2BJvCF40kNuR52nw6IbkyEZZmlkD5iiCA5KoWzjBOQtQfFHw/r/iu40TxX4bv7W60u2t5pLy0ufEdzYW0ysEaOUmAES4K8B8LhjzVz4rS6bqeoaR4O1G%2B1eKHUp2juxpd4IQYmxGBKcFirMwXCkHJ64rM8dado9m1zpEHg3R73TNE06HUbmw1ayNwHVd0YEW9tsW1I2OdpyRjAzmvGx2Y4Wk6/NJtRcU0rtqVnPbtypuW%2Bias3oYYjD1atSqm/dfLbV6SWulk7LuuvY42%2B1i11/WY/HKeHLuLWfEB0TU/Csj2bvKm5fKmtvMA%2BVY13NIpIBEhbB3V0vgbwT4v0jxb4e0O50C6ht/CsupodZaWMwXllOx8iJQG3l/8AUlsrgGE8ncK0o/EPilL%2Ba9sdaIifV5NKt9N8iNYoAYg0DqAu7cMhmySCCcAAU74V6gv9qWNvpmoTTQ6h4dS81KCe7eZ7e8DIrbi5JUtucEcDMR4rzcNmmGqY%2BFLlleUt/dV/ednZXveUW3qpQja6avbGjlsY1VOU23dPRJX1vrvvJXvulZbHUeJvh74E8a3lnqHjDwdpmqzadvNi%2Bo2STeQX27iu8HBO1efYVqQw2mn2ohgijghiXCoihVRR7DgCsXxhoXiHxFPb2WgfEGfRVRWN3HZ2sMkswONpDSA%2BXjnkA5yOmOchPgL4Hu3E3i261bxDIDkNrmqyzKP%2B2YKx/wDjte3XxWYrEzhg8KpdHOVSEYt2XSKnUdttVH7rM9b2ahUcowSb3eiv66XfzOL/AGmLi3u/jR%2Bzfc2s6Sxv8Zb4pJGwZWH/AAhXijoR1r2mvEv2jtM03RvjB%2BzbpekWENrbQfGS%2BWG3t4giIP8AhCvFHAUcCvba9en7T2a9pbmsr2va/W19bX2vr3NlcKKKKsAooooAKKKKACiiigDmPDnxt%2BDHjH4g6z8JPCPxd8Mar4r8OIr%2BIfDOm6/bT6hpatja1xbI5kgB3LguozketFr8bfgzffFO5%2BBdl8XPDE3jezsBe3ng6LX7dtVgtSFIne0D%2BcsZDp85Xb8y88ivjj9njw94z8F/GrwHofiD4QeNdO1L4Y%2BJ/iTf%2BP8AxMfA%2Bota6lbaxrEkloLW5SArqRvXntb1ktzKYRaN54ieMLV3wd8P/iDF%2B1J4e%2BG8vwo8UQ69oP7TviTx7rXjOXw1dJpU3h280LU7e2kTUzH9mnkK3thp/wBlWQzJ9mZjGI4VegD3v9vD/kiGh/8AZZvhx/6muiV3Xj3xl8MfgfpF/wDFD4mfEKHQdJQH7Tcavqmy2Dk5ARXPLnGAq8nOADXnf7bPwf8A2n/jD4V0XTPgD4p8BLbaT4w8N69qHhzxhpt7C%2BqtpevWOpmOPVLaWQWIZLQrk2N1uYgfIG3L8t/s8/s5/tP/ABy1q6/aI%2BM/wO8EfFHVNK8X69oumW/xE%2BP%2BovY6bNpmr3enTNb2UXhcwhGltHZS27KlGKI2QLp5flGMqwq45v8AdPmjZNy5rNe6%2BaMVpo3LmVn8LaVuTF18xpR5MJBNy0bk7Riu7VnKXko2fdpHt2l/tUfEX9sXWZdL/Zm%2BFuv2vglY9g%2BJHiHSfItLlycbrSCR1kmBHHmFCE%2BbKqcMNz4QfsPfAP8AZ3C%2BOLeY%2BIPG1zE8uueLfF13Jc3%2BrPg7wu9gIhvAICD%2BFc7utdFF4z/4KDW8SwQfstfBdERQqInx21YBQOgA/wCEW4FK/jT/AIKDyACT9lv4LsAcjd8d9WOD/wCEtXgZvksMV9ejgZOnHFRhGcZNzXuO6bklGTV7Pkv7K8bcnK5X0wlHllRqYxqrUpttSsopX35Y3aWmnNrO32jv7jUb4zNLZXU1uto9rDBZ7gQ7OAzK%2BcknawHXjGas6dr1/qF9bG6EL2eotOIIPKO5UTOHLE4IYDpj%2BIV5fJ4g/b3l1FdWk/ZR%2BCxuUGFlPx31bI4I/wChX64J596g03Vf2/NLujdw/sx/B9yFZYUk%2BPerFYVY5KoP%2BEW4BIHr0ArwKOR8RYfHxlGvem53dpNLlTVm4tNawvT9nC0E%2BWTvZW9eVfDSptOOtu36%2But3ruj1PWvhB8LfELGTV/h/pMrnrMtkiSf99KA361m/8KJ8LWX/ACLPiLxHow7JpviCfZ/3xIzr%2BGK8Ym%2BOX7dnjL4y638Drb9mj4Z2Oq%2BGPDGk67dXlr8ftUjglg1K41K3hRT/AMIwSzq2lTlgygASR4LEsF6/TPFn/BRCwsY7Of8AZu%2BD90yA5nn%2BPGq735J5x4WA9unavVnkuXYnMpxq5dBRtdVU4Jyel01BU6kXvq5NO3mjglRoOCldX7Wa/HY7j/hX3xQ07jQ/jfdug%2B7Hq%2BjW9x%2BbII2/Wjb%2B0Lp/Ak8Iamq92W5tHb8vMGa47/hOP%2BChf/Rr/wAGf/D8at/8y9H/AAnH/BQv/o1/4M/%2BH41b/wCZeuj/AFew0P4FatT/AMNabX3T9ojL2a6N/f8A8Odj/wAJx8XrL/kJfBIzAfefTPEMEmfcLKIzR/wuWS241f4T%2BMbUj7zLo4nUfjC71x3/AAnH/BQv/o1/4M/%2BH41b/wCZeuX1b9o79u3R/jPoHwOuP2UPhI2qeIvC%2Br67Z3KfHXVPIjg065023mRyfDG4OzapAVAUghJMlSFDH9l5tT/hY%2Bf/AG/Toz/JU2HLPpL8j1r/AIaC%2BF0Xy6nq17YN3XUNGuocfUtHj9a2vCnxE8DeOWlTwh4ps9QaFQ0yW0wZkB6EjqK8z/4Tj/goX/0a/wDBn/w/Grf/ADL0xPF//BQKKVp4/wBlf4LK7j5nX466qCfqf%2BEWrfDUc9p117evTnDranKMvk1UlH70NKonq193/BPQ/HvjbUvDskFj4f0%2BO6uDNAbvzQ2yGGSURgnH8TEkKPbnioPiDrkNrcNYW/hSw1OSCwkvb0X%2BAqQJkYX5Gy5wcA4HHJFeT%2BLtL/bY8azRXmt/sh/BB7mOaJ/tf/C8NU81ljcMELHwtnacYI9CcVB4lg/4KL%2BICJIvgH8G7eSaxksb%2BRfjbqjGe2c52r/xTACMASA3ONx4NedjaXEXNiXTd1Jx5OVq6SUrq01ZNvkbbck1zWtZJxOM5Jp6r%2Bu5395pfwn1rVo4rj4H%2BHrqwa4t7e5vbrTbcuksyBkAQxkMo3KGO4EE8A8mqWj/AAp/Zw8W6pFZzfs9%2BG7eC%2Bill0u7XR7ZRdpGwDkKigp94HnqDXknxe%2BJP7eXwXsLTxxrf7Nfwil0W%2B8b%2BHdP/syy%2BNeqNN9tv9Qs9Jtm8xvDaqIVmuYZZBtLYRyueEPU%2BF7X/god4eu9Nln/AGd/gvcQ6PYTWmnRL8btXRlSRkJLt/wjJ3MBGoyAvc9%2BOWlhc8lio%2B2pxcObW8aVrXs7aXUOXWP2ufR6HLLA4Wo/fpQfrGH/AMieiS/shfs0ytv/AOFO6Qh9YY2j/wDQWFN/4ZB/Z2H%2Bq%2BHnl/8AXHVrtP8A0GUVxfi67/4KIeLIoI4fgZ8MdJMDMd%2BkftA6pGZM44bd4UbIGOPqaw/%2BEc/4KTR/6jwX4IH/AF0/aAvW/n4Pr0MVSnRruNLLo1I/zKVGN/8At2STVttyJZTll9MND/wGK/RHqH/DIvwCH3PCmoJ/1z8Uaiv8rij/AIZG%2BBPbw/rA%2BnjDVP8A5Jry/wDsb/gp0v8Aq/CHw9H%2B98c7tv8A3UK5f42/EL/gpN8B/gx4u%2BOPinwJ4DutL8GeGL/XdStbD403DXE1vaW0lxIkYfwmqlysZChmUZIyQOa5%2Bav/ANCp/wDgdD/5JE/2Vlv/AEDR%2B6J7x/wyN8CO/h3Vz9fF%2BqH/ANuaP%2BGRPgB0fwfev/108S6g38568v8A7K/4Khn73hP4c/h8bbof%2B6jR/Yn/AAU2b/W%2BD/h%2Bf9z463a/%2B6hRzV3tlT/8Dof/ACTD%2Byst/wCgaP3RPUP%2BGQP2cm/1vw0hl/676hcyf%2BhSmpbf9kj9mm1OY/gxobH/AKa2u/8A9CJryr/hGf8AgpC/M/gjwU3sn7Qt8n8vCFH/AAiP/BQt/wDX/DXwa/8A3crqyf8AoHhQUL650yqPzqUP/kGNZVlq2wsP/AYf/Is9ms/2cv2frDBtvgj4UBHRm8P27H8yhNa9j8MPhppeP7M%2BHmhW%2BOnkaRCmPyWvAv8AhBv265P%2BP34IeBbn1E/7UHiD%2BnhkVy/wRvf2m/j38GPCHxy0H9jv4aDTfGfhfT9d0631n9pPX2nit7u2juI0lVfDzIHCyAMFLDIOCRzW0ZZyv4eApR9asf8A2ygzeGEw9P4KMF6KK/KB9dImlaPDtRbe1jHYBUX%2BlUL34geA9Nz/AGj420i3x18/Uokx%2BbV8/wAHw2/ajgfzB%2Bw18CJG9bj46avKf/H/AAwa07LRv2v9OwbD9hz9n2EjvH8Y9QB/P/hFa2U%2BJ5bU6EPWdWX5QgdK9olZJL7z1a8%2BPXwasm2SfEjSpD2FvciUn6bM5qA/HzwBccaNFrWpN2XT/D13Jn6HywD%2BdcPZ%2BJv2%2BdPXbYfsn/BKAekPxz1Vf5eFqn/4Tj/goX/0a/8ABn/w/Grf/MvR9X4lqfFiKUf8NKUvxnVX4oLVe6%2B7/gnY/wDC3NavPk0T4M%2BLJ2PQ3VrDaqfxllBH5Uf8JZ8bdQ%2BTT/hHYWWekmqeI1OPqsMb/wA68m8A/tHft2/ETxX438IaP%2Byh8JIbjwH4oi0LVZLn466oEnnk0rT9TDxbfDBJTydRhUlgp3o4xgBm6j/hOP8AgoX/ANGv/Bn/AMPxq3/zL0f2VmdT%2BLj6n/bkKUP/AGyb/EOST3l%2BR2P9n/tA6l8l14l8LaUp72emz3Tj8ZJEB/Ktfwj4a8YaNdy3fin4iXGs%2BZHtSBtOht44jnO4BBuJ7csa83/4Tj/goX/0a/8ABn/w/Grf/MvR/wAJx/wUL/6Nf%2BDP/h%2BNW/8AmXrfD5Lh6FaNaVWrOS256s2v/AVywfzixqCTvd/ed743%2BGMfi%2B7fUofEuo2c7C3wkFxti/cyF0JCgNkFmxhhgnNRfEDwl/aOnvdG/n%2B2TRvaKlrtQXMDEkwSBg%2BVC7iWGG%2B8QRk159e%2BKf8Agojd3NvPH%2Bzl8IIFgcs8UPx41TbN7NnwqTj6Y61yw%2BOn7bfjL4x658Cbn9kn4StqXhrw1pGv3Ny/x51Zbd4NRuNTtoUQr4Z3F1bTJy4KhcSR4LEsF83M8kWLwuMhh6KhUqWSk56SdviSXNyuPNJK8dXrZxbT2pwoRqRlPVdVr/mvwse16r4UsL1tO8YaFpUy3bNC8htXXcUMe0NtkPllwpChyNwXgGoLn%2ByTdSalau1k5spZDIMRu9zDJhzJswJG7c5GOnWvPNP1L9v3TtKTRrf9mb4QLAibVWL4%2B6vGRyTkFPCwIPOOtTx67%2B3pFaJY/wDDJ3wUeKN96LL8dtWfDZzuy3hcknPfrXiV%2BF8zxy53yU5TjBzV24%2B1jFJuPJyyim3KUpJpycYaaM7KdfDUX7qvZu2iTs%2B976209LnoMQkGqo0lsU1GXVIp43ERy9uyLvBbH3VG8YJ6qK6bVLO6v7B7S01OW0kbGLiFVLKM843AjkcfjXkX/Ccf8FCh0/Ze%2BDP/AIfjVv8A5l6P%2BE4/4KF/9Gv/AAZ/8Pxq3/zL19FlXD1PLsPXozqOcau9rwe0rtuMk%2Bd8zvNOLdo9Y3eNXEupKMkrW%2Bf59NNtepD%2B0jaNY/GL9m20e7muDH8ZL4GadgXf/iivFHJIAGfwr2yvlf4n%2BJf2rdX/AGk/2dLX41/Bf4e%2BH9HHxc1Fo77wt8Tr7WLkz/8ACF%2BJtqGCfRbJQhBYl/NJBAGw5JX6or3qVKFGlGnBWUUkt3olZattv1bb7tvU523J3YUUUVoIKKKKACiiigAooooAKo%2BKPENh4S8Naj4r1UObXTLGa7uREuW8uNC7YHc4U1eqO7tLW/tZbG9t0mhmjaOaKVQyupGCpB4II4xQB83/ALGv7Uvx8%2BKnjDRvCvx/03wkj%2BN/hPp3xA8Lr4T0%2B5t/7Lt7iUJPpl009xMLqSETWm27jECyl5f3EWwbvK7D/go98Zfh18MD8afEvw/8GXXhvx38L/Ffjr4Z6BoWnXFjc2Utje2gt7TUrh55UuXvF1OGeSeKGDyXSZSk25Xr3n4AfsL%2BEP2dNVt9X8J/GXx1qcunaLp2gaGNfudOuBpXh%2ByeV4NGhK2SE2%2BZfnmkL3kgii33LeWuMbSf%2BCZ3wGtrTxB4e8SeKvFuv%2BHtW8Ja54Y0Pwxq2o2y2nhbSdXuEuL%2B105re3inQPJDblHnlnkhW2iSJ41XaQDpv2ZPi58Y/Efj7x/8C/j/AHfhnUPE3gW60yZdc8IaPcadY6hY39p5sTfZri5uXhlSWK5iYec4ZY45Bs3mNPYq87%2BAH7OelfAY%2BIdYuPiR4m8aeIvFeow3fiDxZ4wkszfXfkW0dtBFtsra2t44o4owFWOJcs8jtueR2b0SgAr5d%2BA37Y3xt%2BIHxi8LSeNtM8LL4D%2BJmteLtM8FWel6bcxarpcmi3csUMl5cPcvFdLd29tczFY4YDbt5ceZ8mQfUVeGeDv2DPA3gL4kzfEbwv8AF3xvALa61m68KaE8%2BnS2HhafVr1bzUpbFHsi7NPKHH%2BkvOIUmljgEKvigCnrnxU%2BOPw8/bU8I/DPWtR8A67pXxEbU0XSND8L3Vtrug6PYWs08Wo3d695LHdW4unitSgt4As2qR7GbD7sj/gnD%2B1P8Xf2j/AvnftF%2BJ9EsvHf/CM6Rqus/Dy3%2BE%2Bt%2BFL7w411HKZFkXV7uZ9RgMqPFHdQJHEWtpeXJwnW%2BBv2NP8AhAf2lPFn7S%2BnftKfEK7vfGk6nWfD2pRaHNYrbxW7w2tlDL/ZgvYLW3MjzRwpchfOeSR95ll8zY%2BDf7L9t8LfiLqnxf8AFvxp8ZfEHxTqWiW%2BjJrfjI6bG9np8Mskwt4YtNsrSBQ0srO7tG0jEIC%2B1FUAHqNFFFAHy7%2B01%2B2N8bfhX8U/GL/DzTPCzeDfhNovhvU/HdtrOm3M2o6xHql9cRTR2M0dzHHaNbWtv54aSK4E8koixCFMhm/bI/aV%2BJnwK/aF8HWdtq/h7wl4Gk8I6leeJfiL4j%2BEWs%2BIrbTZFvbBFtJb2wu7eDSIZI2llee7byv9GUnhK7b4z/sQ/Dj43fFI/EzXPHPirS4tRtdItfF/hrRrq1TTvFMGl3sl7YxXyy28kwWOaaXP2eWAyxyGKYyxhUE/x0/ZJuv2hPBMvwx8eftLfEOLwxqmj3Gk%2BLtB0xdFhi8SWU5cTQ3Mv9mmeENE7QFrSS3byz13/PQB55qX7Y3xttf2gLuWDTPC3/CsdP8AjNZ/DS5sH025Oty3lxpsE41Nbr7T5CxLeXMVt9lNuWMavP54OIa%2Boq8XuP2HfhrP8e/%2BF4Dxt4pjtH8Uw%2BKJ/AcdzaDQ5tei05dOi1Nk%2BzfafNW2SMCIXAt/MiSYwmUeZXtFABXz1%2B15%2B0T%2B0B4D%2BIEHwu/ZwtfCK6np/wANdd8b6zceMtNubqG6gsJLWKHTYRb3EBgkuHuJM3TGVYBCP3Exkwv0LXkf7S/7Hng/9pnULLWtR%2BJPi/wjqFv4f1Pw/faj4NvLWGbUtF1DyDeafMbm2nCxyNbQsJYhHcRFCYpo977gDmv2nPjv4yg/Yr/4a6%2BF/izwnoejab4LHjK8s/GvgO415rqFLVL22ggit9SsjHc%2BYECHMhMmwKobBrhr39rH9q34ffHXwH8NP2htc8H%2BCNIu/h94QvPFuu/8Kh17UdL1HxLqF7e22o6Vb6tFfrZ6QFaC0SD7YZmL3sf%2Bt4Q%2B4%2BPP2YfBfxH%2BGll8H/E/iTWW8Oad4o0nV7TSrUWkMaw6beW93a6YQluN1kJLWIMjZkdAUaQqxFVPjp%2By1B%2B0Frlsnjb43%2BNbfwks1jNqfw90w6ZHpWqyWtytzGZ5WsmvgGkSPekV1GjrGFK4Zw4B6pRRRQB4v/wUF%2BLvxw/Z%2B/ZH8afHr4BXvhSPWPBOhXeuXUHjDRbm%2Btru0tbaWZ7dEtrq2ZJXZEUSFyqAsSj8Crv7YPxP8XeBPB3hrwL8PdM0G4174j%2BMrXwppsvirTZL3TLVZ4Z7i5mubaOWFrlFtLW5xCJY/McopdQSRqftY/s42X7WnwI179n3Wvir4p8I6T4nspbHXL/wgunfa7mylieKa23X9pdRojq/LIiyAqNrrznO8b/srSfEr4dWfgjx5%2B0F461HU9J1PTtU0DxiYtHg1PSdSsySt5CINOS2Z5AzrIksEkLJI6eWFYqQDwST9u79q3xlof8Awhnwz0bwBbeNvCeheOtS8cXOs6RezabqT%2BHNYGlR21lHHdpJaC%2BbdOJpJLj7IoCGO5J3D62%2BF/j3TPip8NPDvxP0S2lhsvEmhWmqWkM%2BN6RXEKSorY7gOAfevEPEP/BNL4T6x4F0nwfo3xc%2BIGg3lnpviHTtd8T6LqViupeJLTXbtb3WIr15bN4wbm6UTeZbRwSwNkW7wKSp%2BgtD0TSPDOiWfhvw/p8VpYafax21laQLtSGGNQqIo7AKAAPQUAWq5r4xSfE2H4ZaxP8ABzWtB07xLFa79MvfE2lTX1jEVYFzLBBPbySjyw%2BFWWP5iuWxmulrC%2BJng7VPiD4D1PwXo3xB1nwrcajb%2BSniDw/DZyXlmCQWaJb23uLckgFT5kLjDHABwQAcF8BPij8YP2hv2I/h/wDGvw/c%2BGtH8a%2BOPhxomuNLeaVcXGl2d5eWUFxKfsy3CTSRKZH2x%2BerEBQZOrV4Be/tmftRaD8HNPXwHpHhW6g0f453fgTUPHng74Na7r%2BjyaFZ6JdXL6jaaJpt611GsWowppLkXMsSSwStnaVC%2BxeEv2Gp/Bn7JafseaT%2B1v8AFddBtfBCeFdK1%2BGfRLbWNNsY0SKJ4Li20uNVmSBBCspQnaS5zLiUaPg/9kbxN8PfghpPwN8A/tefEbRLXQrhF0nV9L0TwrDcWtglusEempCuifY1tk2h1It/ODHHm7MIAD0L4O%2BN9N%2BJXwn8NfEDSPHGkeJrfWdDtbtPEPh%2B0a3sdSLxKxuIInllaGNySyxtJIyAhWdiCT0lcv8ABX4Q%2BDfgH8KdB%2BDnw/iuV0jw9p6Wlm19ctNPKBktLLI3LyOxZ2buzE4HSuooAK8X/Y5%2BLvxw%2BJV18UvB3x%2BvfCl3rPw/%2BJjeHra%2B8H6Lc2FrcWraNpWpIWiubq5cyK2oPGXDhXEasETJFe0V4v8AAn9jzWPgT408X%2BNbT9rL4leI5PHHiuHxBr1j4htPDoge7S1t7MhPsmkQOkb29pbRMA%2BcQhlKuzswB4Z4I/b/APir4N%2BG/wAYviJ8XoPDVt4u8NaX4g1jRPhg3wo1rwzfX8dlfvp9leNqV/dSRatbyRrp6yXNrDsi%2B0xcgbEPvP7Mnxc%2BMfiPx94/%2BBfx/u/DOoeJvAt1pky654Q0e406x1Cxv7TzYm%2BzXFzcvDKksVzEw85wyxxyDZvMaZmufsEeBviJqviDVfj18YPHPxDOueCdX8JWkHiSfTrZNF0nU5IHvYbT%2BzbK1PmObS0xPMZZk%2BzJtdSXLdj8AP2c9K%2BAx8Q6xcfEjxN408ReK9Rhu/EHizxhJZm%2Bu/Ito7aCLbZW1tbxxRxRgKscS5Z5Hbc8jswB6JRRRQB4v8Ffi78cNa/a4%2BLPwF%2BKl74UutH8MaF4e1zwhP4f0W5tbmK01K51mH7PePNdTLcSoumRN5kaQLmVxsOAa5/xJ8RP2lvCv7fngv4QaZ4q%2BHOq%2BHPF2kaxrHiGzg%2BH15b6zpeg6ciRW%2B/Uf7VeKWQ6hqNuqq1oqsjXRVVKk10Gi/seaxoH7RfjD9pLTv2sviUNQ8Z6VZaZe6E9p4dOn2dpZz3U1pFAP7I88eUb26UNJNIzLMd5cqhXtNL%2BBfhXS/jh4l/aBTVtTm1/xJ4Y03QG8%2BaMw6dZWUt3Mi2yiMFGeW9leRmL7ykQ4EagAHjv/BOH9qf4u/tH%2BBfO/aL8T6JZeO/%2BEZ0jVdZ%2BHlv8J9b8KX3hxrqOUyLIur3cz6jAZUeKO6gSOItbS8uThPpavLvg3%2By/bfC34i6p8X/Fvxp8ZfEHxTqWiW%2BjJrfjI6bG9np8Mskwt4YtNsrSBQ0srO7tG0jEIC%2B1FUeo0AFeD/ta/Gb9oL4DeJPC/i7wZ4g8EXvh7WvF2heHbbwLfeHLyTXNcub2%2BWG5a0vY71YoTBatJdbGtJh5dpMzvGgLx%2B8V4z8Sf2OV%2BIn7TuiftTW/7R3xA0LVfD%2BhjStM0DTIdEuNLggebzblo0vtMuJoZbkCOOaWKVHaOGNFZAOQDhf22P2ofjN8LfGXiCz%2BDXhzwddJ8J/hTdfErxMPFmlT3M2owq11DFp9hJFcQixnlhtdQU3bidU3Rr5Lq7kVY/22fjFqHxrOvaVp3hc/CuL4vWHw6exl0u5/tyW5u9Mt7hdUW5%2B0%2BSkS3l1FbG1NuWMavN54OIa7j46fsI%2BCv2g2im8bfGDxxbTXfhe78MeL59IuNOgbxXoVzMJZNMvh9iKrF99Fkthbzok0oWUeY5Nqf9hz4aTfHr/hd6%2BNfFEVo3imHxRP4CiubQaHNr0OnLp0Wpsn2b7SJVtkjAiFwLfzIkmMJlHmUAe0UUUUAFFFFABRRRQAUUUUAFFFFABRRRQAUUUUAFFFFABRRRQAUUUUAFFFFABRRRQAUUUUAFFFFABRRRQAUUUUAFFFFABRRRQAUUUUAFFFFABRRRQAUUUUAFFFFABRRRQAUUUUAFFFFABRRRQAUUUUAFFFFAH/2Q%3D%3D\">"
      ]
     },
     "metadata": {},
     "output_type": "display_data"
    }
   ],
   "source": [
    "try:\n",
    "    display_html(HTML(anim.to_html5_video()))\n",
    "# In case the build-in renderers are unaviable, fall back to\n",
    "# a custom one, that doesn't require external libraries\n",
    "except RuntimeError:\n",
    "    anim.save(None, writer=matplotlib_utils.SimpleMovieWriter(0.001))"
   ]
  },
  {
   "cell_type": "markdown",
   "metadata": {},
   "source": [
    "# Logistic regression\n",
    "Your assignment is to implement the logistic regression\n",
    "\n",
    "Plan:\n",
    "* Use a shared variable for weights\n",
    "* Use a matrix placeholder for `X`\n",
    " \n",
    "We shall train on a two-class MNIST dataset\n",
    "* please note that target `y` are `{0,1}` and not `{-1,1}` as in some formulae"
   ]
  },
  {
   "cell_type": "code",
   "execution_count": 152,
   "metadata": {},
   "outputs": [
    {
     "name": "stdout",
     "output_type": "stream",
     "text": [
      "y [shape - (360,)]: [0 1 0 1 0 1 0 0 1 1]\n",
      "X [shape - (360, 64)]:\n"
     ]
    }
   ],
   "source": [
    "from sklearn.datasets import load_digits\n",
    "mnist = load_digits(2)\n",
    "\n",
    "X, y = mnist.data, mnist.target\n",
    "\n",
    "print(\"y [shape - %s]:\" % (str(y.shape)), y[:10])\n",
    "print(\"X [shape - %s]:\" % (str(X.shape)))"
   ]
  },
  {
   "cell_type": "code",
   "execution_count": 153,
   "metadata": {},
   "outputs": [
    {
     "name": "stdout",
     "output_type": "stream",
     "text": [
      "X:\n",
      " [[  0.   0.   5.  13.   9.   1.   0.   0.   0.   0.]\n",
      " [  0.   0.   0.  12.  13.   5.   0.   0.   0.   0.]\n",
      " [  0.   0.   1.   9.  15.  11.   0.   0.   0.   0.]]\n",
      "y:\n",
      " [0 1 0 1 0 1 0 0 1 1]\n"
     ]
    },
    {
     "data": {
      "image/png": "[encoded data removed]",
      "text/plain": [
       "<matplotlib.figure.Figure at 0x7f6bc0507e48>"
      ]
     },
     "metadata": {},
     "output_type": "display_data"
    }
   ],
   "source": [
    "print('X:\\n',X[:3,:10])\n",
    "print('y:\\n',y[:10])\n",
    "plt.imshow(X[0].reshape([8,8]));"
   ]
  },
  {
   "cell_type": "markdown",
   "metadata": {},
   "source": [
    "It's your turn now!\n",
    "Just a small reminder of the relevant math:\n",
    "\n",
    "$$\n",
    "P(y=1|X) = \\sigma(X \\cdot W + b)\n",
    "$$\n",
    "$$\n",
    "\\text{loss} = -\\log\\left(P\\left(y_\\text{predicted} = 1\\right)\\right)\\cdot y_\\text{true} - \\log\\left(1 - P\\left(y_\\text{predicted} = 1\\right)\\right)\\cdot\\left(1 - y_\\text{true}\\right)\n",
    "$$\n",
    "\n",
    "$\\sigma(x)$ is available via `tf.nn.sigmoid` and matrix multiplication via `tf.matmul`"
   ]
  },
  {
   "cell_type": "code",
   "execution_count": 195,
   "metadata": {
    "collapsed": true
   },
   "outputs": [],
   "source": [
    "from sklearn.model_selection import train_test_split\n",
    "X_train, X_test, y_train, y_test = train_test_split(\n",
    "    X, y, random_state=42)"
   ]
  },
  {
   "cell_type": "markdown",
   "metadata": {},
   "source": [
    "__Your code goes here.__ For the training and testing scaffolding to work, please stick to the names in comments."
   ]
  },
  {
   "cell_type": "code",
   "execution_count": 196,
   "metadata": {},
   "outputs": [],
   "source": [
    "# Model parameters - weights and bias\n",
    "weights = tf.Variable(tf.random_normal(shape = [X.shape[1],1]),name='weights',dtype='float32') #shape should be (X.shape[1], 1)\n",
    "\n",
    "b = tf.Variable(0.0,name='bias',dtype='float32')"
   ]
  },
  {
   "cell_type": "code",
   "execution_count": 197,
   "metadata": {
    "collapsed": true
   },
   "outputs": [],
   "source": [
    "# Placeholders for the input data\n",
    "#tf.placeholder(\"float32\", shape=(None,), name=\"y_true\")\n",
    "input_X = tf.placeholder(\"float32\", shape=(None,X.shape[1]),name='inp_x')\n",
    "input_y = tf.placeholder(\"float32\", shape=(None,),name='inp_y')"
   ]
  },
  {
   "cell_type": "code",
   "execution_count": 198,
   "metadata": {},
   "outputs": [],
   "source": [
    "# The model code\n",
    "\n",
    "# Compute a vector of predictions, resulting shape should be [input_X.shape[0],]\n",
    "# This is 1D, if you have extra dimensions, you can  get rid of them with tf.squeeze .\n",
    "# Don't forget the sigmoid.\n",
    "predicted_y = tf.nn.sigmoid(tf.squeeze(tf.matmul(input_X, weights) + b))\n",
    "\n",
    "\n",
    "# Instead of using cross entropy, using logloss here would pass the assignment\n",
    "loss = tf.losses.log_loss(labels=input_y,predictions=predicted_y)\n",
    "\n",
    "\n",
    "optimizer = tf.train.AdamOptimizer(0.05).minimize(loss)"
   ]
  },
  {
   "cell_type": "markdown",
   "metadata": {},
   "source": [
    "A test to help with the debugging"
   ]
  },
  {
   "cell_type": "code",
   "execution_count": 199,
   "metadata": {},
   "outputs": [],
   "source": [
    "validation_weights = 1e-3 * np.fromiter(map(lambda x:\n",
    "        s.run(weird_psychotic_function, {my_scalar:x, my_vector:[1, 0.1, 2]}),\n",
    "                                   0.15 * np.arange(1, X.shape[1] + 1)),\n",
    "                                   count=X.shape[1], dtype=np.float32)[:, np.newaxis]\n",
    "# Compute predictions for given weights and bias\n",
    "prediction_validation = s.run(\n",
    "    predicted_y, {\n",
    "    input_X: X,\n",
    "    weights: validation_weights,\n",
    "    b: 1e-1})\n",
    "\n",
    "# Load the reference values for the predictions\n",
    "validation_true_values = np.loadtxt(\"validation_predictons.txt\")\n",
    "\n",
    "assert prediction_validation.shape == (X.shape[0],),\\\n",
    "       \"Predictions must be a 1D array with length equal to the number \" \\\n",
    "       \"of examples in input_X\"\n",
    "assert np.allclose(validation_true_values, prediction_validation)\n",
    "loss_validation = s.run(\n",
    "        loss, {\n",
    "            input_X: X[:100],\n",
    "            input_y: y[-100:],\n",
    "            weights: validation_weights+1.21e-3,\n",
    "            b: -1e-1})\n",
    "assert np.allclose(loss_validation, 0.728689)"
   ]
  },
  {
   "cell_type": "code",
   "execution_count": 200,
   "metadata": {
    "scrolled": true
   },
   "outputs": [
    {
     "name": "stdout",
     "output_type": "stream",
     "text": [
      "loss at iter 0:4.7816\n",
      "train auc: 0.771903820817\n",
      "test auc: 0.75790513834\n",
      "loss at iter 1:2.3000\n",
      "train auc: 0.900115283267\n",
      "test auc: 0.902173913043\n",
      "loss at iter 2:0.9362\n",
      "train auc: 0.963932806324\n",
      "test auc: 0.960968379447\n",
      "loss at iter 3:0.5969\n",
      "train auc: 0.981225296443\n",
      "test auc: 0.979743083004\n",
      "loss at iter 4:0.6991\n",
      "train auc: 0.990118577075\n",
      "test auc: 0.992588932806\n"
     ]
    }
   ],
   "source": [
    "from sklearn.metrics import roc_auc_score\n",
    "s.run(tf.global_variables_initializer())\n",
    "for i in range(5):\n",
    "    s.run(optimizer, {input_X: X_train, input_y: y_train})\n",
    "    loss_i = s.run(loss, {input_X: X_train, input_y: y_train})\n",
    "    print(\"loss at iter %i:%.4f\" % (i, loss_i))\n",
    "    print(\"train auc:\", roc_auc_score(y_train, s.run(predicted_y, {input_X:X_train})))\n",
    "    print(\"test auc:\", roc_auc_score(y_test, s.run(predicted_y, {input_X:X_test})))"
   ]
  },
  {
   "cell_type": "markdown",
   "metadata": {},
   "source": [
    "### Coursera submission"
   ]
  },
  {
   "cell_type": "code",
   "execution_count": 201,
   "metadata": {
    "collapsed": true
   },
   "outputs": [],
   "source": [
    "grade_submitter = grading.Grader(\"BJCiiY8sEeeCnhKCj4fcOA\")"
   ]
  },
  {
   "cell_type": "code",
   "execution_count": 202,
   "metadata": {
    "collapsed": true
   },
   "outputs": [],
   "source": [
    "test_weights = 1e-3 * np.fromiter(map(lambda x:\n",
    "    s.run(weird_psychotic_function, {my_scalar:x, my_vector:[1, 2, 3]}),\n",
    "                               0.1 * np.arange(1, X.shape[1] + 1)),\n",
    "                               count=X.shape[1], dtype=np.float32)[:, np.newaxis]"
   ]
  },
  {
   "cell_type": "markdown",
   "metadata": {},
   "source": [
    "First, test prediction and loss computation. This part doesn't require a fitted model."
   ]
  },
  {
   "cell_type": "code",
   "execution_count": 203,
   "metadata": {
    "collapsed": true
   },
   "outputs": [],
   "source": [
    "prediction_test = s.run(\n",
    "    predicted_y, {\n",
    "    input_X: X,\n",
    "    weights: test_weights,\n",
    "    b: 1e-1})"
   ]
  },
  {
   "cell_type": "code",
   "execution_count": 204,
   "metadata": {
    "collapsed": true
   },
   "outputs": [],
   "source": [
    "assert prediction_test.shape == (X.shape[0],),\\\n",
    "       \"Predictions must be a 1D array with length equal to the number \" \\\n",
    "       \"of examples in X_test\""
   ]
  },
  {
   "cell_type": "code",
   "execution_count": 205,
   "metadata": {
    "collapsed": true
   },
   "outputs": [],
   "source": [
    "grade_submitter.set_answer(\"0ENlN\", prediction_test)"
   ]
  },
  {
   "cell_type": "code",
   "execution_count": 206,
   "metadata": {
    "collapsed": true
   },
   "outputs": [],
   "source": [
    "loss_test = s.run(\n",
    "    loss, {\n",
    "        input_X: X[:100],\n",
    "        input_y: y[-100:],\n",
    "        weights: test_weights+1.21e-3,\n",
    "        b: -1e-1})\n",
    "# Yes, the X/y indices mistmach is intentional"
   ]
  },
  {
   "cell_type": "code",
   "execution_count": 207,
   "metadata": {
    "collapsed": true
   },
   "outputs": [],
   "source": [
    "grade_submitter.set_answer(\"mMVpM\", loss_test)"
   ]
  },
  {
   "cell_type": "code",
   "execution_count": 208,
   "metadata": {},
   "outputs": [],
   "source": [
    "grade_submitter.set_answer(\"D16Rc\",  roc_auc_score(y_test, s.run(predicted_y, {input_X:X_test})))"
   ]
  },
  {
   "cell_type": "markdown",
   "metadata": {},
   "source": [
    "Please use the credentials obtained from the Coursera assignment page."
   ]
  },
  {
   "cell_type": "code",
   "execution_count": 209,
   "metadata": {},
   "outputs": [
    {
     "name": "stdout",
     "output_type": "stream",
     "text": [
      "Submitted to Coursera platform. See results on assignment page!\n"
     ]
    }
   ],
   "source": [
    "grade_submitter.submit('snowneji@hotmail.com', '5bmahCULIw0Hju7S')"
   ]
  },
  {
   "cell_type": "code",
   "execution_count": null,
   "metadata": {
    "collapsed": true
   },
   "outputs": [],
   "source": []
  },
  {
   "cell_type": "code",
   "execution_count": null,
   "metadata": {
    "collapsed": true
   },
   "outputs": [],
   "source": []
  }
 ],
 "metadata": {
  "kernelspec": {
   "display_name": "Python 3",
   "language": "python",
   "name": "python3"
  },
  "language_info": {
   "codemirror_mode": {
    "name": "ipython",
    "version": 3
   },
   "file_extension": ".py",
   "mimetype": "text/x-python",
   "name": "python",
   "nbconvert_exporter": "python",
   "pygments_lexer": "ipython3",
   "version": "3.6.0"
  }
 },
 "nbformat": 4,
 "nbformat_minor": 1
}
